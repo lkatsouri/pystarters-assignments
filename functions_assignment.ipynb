{
 "cells": [
  {
   "cell_type": "markdown",
   "metadata": {},
   "source": [
    "# The need for functions\n"
   ]
  },
  {
   "cell_type": "markdown",
   "metadata": {},
   "source": [
    "This code will take a set of observations and find the mean, median, variance and standard deviation of data set 1"
   ]
  },
  {
   "cell_type": "code",
   "execution_count": 3,
   "metadata": {},
   "outputs": [
    {
     "name": "stdout",
     "output_type": "stream",
     "text": [
      "36.925 28.5 1323.7478571428571 36.383345876140325\n"
     ]
    }
   ],
   "source": [
    "import statistics\n",
    "data1 = [1, 45, 67, 8, 99.2, 60, 3.2, 12]\n",
    "mean_data = statistics.mean(data1)\n",
    "med_data = statistics.median(data1)\n",
    "var_data = statistics.variance(data1)\n",
    "std_data = statistics.stdev(data1)\n",
    "print(mean_data, med_data, var_data, std_data)"
   ]
  },
  {
   "cell_type": "code",
   "execution_count": 4,
   "metadata": {},
   "outputs": [
    {
     "name": "stdout",
     "output_type": "stream",
     "text": [
      "(36.925, 28.5, 1323.7478571428571, 36.383345876140325)\n",
      "(71.77142857142857, 56, 4408.855714285714, 66.39921471136323)\n",
      "(11.6, 1.9, 700.6742857142858, 26.470252845681053)\n"
     ]
    }
   ],
   "source": [
    "def data_stat_finder(dataset, do_mean=True, do_med=True, do_std=True, do_var=True):\n",
    "    if do_mean: #functions always need :\n",
    "        mean_data = statistics.mean(dataset) \n",
    "    if do_med:\n",
    "        med_data = statistics.median(dataset) \n",
    "    if do_var:\n",
    "        var_data = statistics.variance(dataset) \n",
    "    if do_std:\n",
    "        std_data = statistics.stdev(dataset) \n",
    "    return mean_data, med_data, var_data, std_data # Return doesn't need parenthesis!!! Also, for return you have to \n",
    "                                                    #ask it to return the second line i.e. mean_data\n",
    "\n",
    "data1 = [1, 45, 67, 8, 99.2, 60, 3.2, 12]\n",
    "print(data_stat_finder(data1))\n",
    "\n",
    "\n",
    "dataset2 = [56, 78, 55, 12, 1.3, 99.6, 200.5]\n",
    "dataset3 = [1, 1, 1, 5, 77, 1.2, 4, 2.6]\n",
    "\n",
    "print(data_stat_finder(dataset2))\n",
    "\n",
    "print(data_stat_finder(dataset3))"
   ]
  },
  {
   "cell_type": "code",
   "execution_count": null,
   "metadata": {},
   "outputs": [],
   "source": [
    "first_name = \"Loukia\"\n",
    "last_name = \"Katsouri\"\n",
    "age = 38\n",
    "profession = \"Scientist\"\n",
    "affiliation = \"UCL\"\n",
    "\n",
    "print(\"Hello beautiful {}. You are a sexy {} year old {} who works at {}\".format(first_name, age, profession, affiliation))\n",
    "                    )\n",
    "\n",
    "\n",
    "\n",
    "\n",
    "\n",
    "\n"
   ]
  },
  {
   "cell_type": "markdown",
   "metadata": {},
   "source": [
    "1) Find the mean, median, variance and standard deviation of data sets 2 and 3.\n",
    "\n",
    "2) If you didn't use a function to do this, attempt it using a function. How many lines of code did you save?"
   ]
  },
  {
   "cell_type": "markdown",
   "metadata": {},
   "source": [
    "# Procedures vs functions "
   ]
  },
  {
   "cell_type": "markdown",
   "metadata": {},
   "source": [
    "4) Edit the code below so that things_to_print is returned by the function and assign the returned value to a variable."
   ]
  },
  {
   "cell_type": "code",
   "execution_count": null,
   "metadata": {},
   "outputs": [],
   "source": [
    "def i_print_things(things_to_print):\n",
    "    print(things_to_print)\n",
    "    \n",
    "print_job = 'This is a silly example function'\n",
    "i_print_things(print_job)"
   ]
  },
  {
   "cell_type": "markdown",
   "metadata": {},
   "source": [
    "5) Write a function that will take two input strings and returns them joined together as one string"
   ]
  },
  {
   "cell_type": "code",
   "execution_count": null,
   "metadata": {},
   "outputs": [],
   "source": [
    "string1 = "
   ]
  },
  {
   "cell_type": "markdown",
   "metadata": {},
   "source": [
    "# Scope (local vs global variables)"
   ]
  },
  {
   "cell_type": "markdown",
   "metadata": {},
   "source": [
    "6) Why does the following code produce an error? Edit the code so that it prints the correct value for data_mean."
   ]
  },
  {
   "cell_type": "code",
   "execution_count": null,
   "metadata": {},
   "outputs": [],
   "source": [
    "import statistics\n",
    "def mean_calculator(data):\n",
    "    data_mean = statistics.mean(data)\n",
    "    return (data_mean) #use of return rather than print here \n",
    "'''Print just shows the human user a string representing what is going on inside the computer. \n",
    "The computer cannot make use of that printing. \n",
    "return is how a function gives back a value. \n",
    "This value is often unseen by the human user, but it can be used by the computer in further functions.''' \n",
    "\n",
    "data1 = [1, 45, 67, 8, 99.2, 60, 3.2, 12]\n",
    "print(mean_calculator(data1))\n",
    "\n",
    "data2 = [3, 5, 8, 23, 90]\n",
    "print(mean_calculator(data2))\n"
   ]
  },
  {
   "cell_type": "markdown",
   "metadata": {},
   "source": [
    "# Keyword arguments"
   ]
  },
  {
   "cell_type": "markdown",
   "metadata": {},
   "source": [
    "7) You work in a shop. Normally you do trade in pounds (£), but you do accept other currencies. Edit the function below so that it's default is to return the price in pounds but can (if instructed to do so) return the price in other currencies."
   ]
  },
  {
   "cell_type": "code",
   "execution_count": null,
   "metadata": {},
   "outputs": [],
   "source": [
    "def price_printer(product, price, currency):\n",
    "    print('The {0} is {1}{2:.2f}'.format(product, currency, price))\n",
    "\n",
    "product1 = 'apple'\n",
    "price1 = 0.6\n",
    "currency1 = '£'\n",
    "price_printer(product1, price1, currency1)\n",
    "# note: the :.2f is specifying that the price should be printed to 2d.p."
   ]
  },
  {
   "cell_type": "markdown",
   "metadata": {},
   "source": [
    "8a) You have some behavioural data from a ferret doing a 2AFC task. The data consists of 50 trials for several training sessions for one ferret. Trials are 'correct', 'incorrect' or 'missed'. To decide if the ferret should proceed to the next stage of training you decide on criteria of at least 70% correct of the trials that were not missed, and no more than 5 missed trials per session. Write a function that will return 'Continue training' or 'Don't continue training' based on these criteria. Use default arguments to set the criteria."
   ]
  },
  {
   "cell_type": "code",
   "execution_count": null,
   "metadata": {},
   "outputs": [],
   "source": [
    "import random\n",
    "\n",
    "#This is just a function that generates ferret training data. No real ferrets were used in the making this exercise.\n",
    "def ferret_data_generator(number_sessions, number_trials, possible_outcomes, performance):\n",
    "    ferret_data = []\n",
    "    for session in range(number_sessions):\n",
    "        ferret_data.append(random.choices(possible_outcomes, weights=performance, k=number_trials))\n",
    "    return ferret_data\n",
    "       \n",
    "# ferret data is a nested list of 5 sessions, each with 50 trials\n",
    "sessions = 5\n",
    "trials = 50\n",
    "outcomes = ['correct', 'incorrect', 'missed']\n",
    "performance_ratio = [60, 37, 3]\n",
    "\n",
    "ferret1_data = ferret_data_generator(sessions, trials, outcomes, performance_ratio)\n"
   ]
  },
  {
   "cell_type": "markdown",
   "metadata": {},
   "source": [
    "8b) Below is a very simple function. Does it do what you expected? Why does this happen? Why is this a problem? Fix it."
   ]
  },
  {
   "cell_type": "code",
   "execution_count": null,
   "metadata": {},
   "outputs": [],
   "source": [
    "def cummulative_sum(current_observations=[], new_value=[]):\n",
    "    current_observations += new_value\n",
    "    updated_observations = current_observations\n",
    "    return updated_observations\n",
    "\n",
    "initial_observations = [1]\n",
    "new_values = [0.2, 0.6]\n",
    "updated = cummulative_sum(current_observations=initial_observations, new_value=new_values)\n",
    "print('updated observation list:', updated)\n",
    "print('initial observation list:', initial_observations)"
   ]
  },
  {
   "cell_type": "markdown",
   "metadata": {},
   "source": [
    "# Star arguments"
   ]
  },
  {
   "cell_type": "markdown",
   "metadata": {},
   "source": [
    "9) The ferret training is going very well and now you have trained 3 ferrets. Adapt your function so that it can handle multiple input data sets (hint: star arguments may be useful here)."
   ]
  },
  {
   "cell_type": "code",
   "execution_count": null,
   "metadata": {},
   "outputs": [],
   "source": [
    "ferret2_data = ferret_data_generator(sessions, trials, outcomes, [80, 11, 9])\n",
    "ferret3_data = ferret_data_generator(sessions, trials, outcomes, [79, 1, 20])"
   ]
  },
  {
   "cell_type": "markdown",
   "metadata": {},
   "source": [
    "10) Write a function that will print the ferret ID (ferret1, ferret2, ferret3) alongside the percentage corrrect and the percentage of missed trials for each ferret. A nice way of doing this is using ** keyword arguments."
   ]
  },
  {
   "cell_type": "markdown",
   "metadata": {},
   "source": [
    "# Using the features of the IDE\n",
    "You have the following code and realise that the part that reads the data is used often and could become a function.\n",
    "\n",
    "11a) Using the refactoring functionality of pycharm, try to extract this code to a function. HINT: pycharm uses the word *method* because most of the time you are dealing with object oriented code in python and functions inside objects are called methods. However, this works for any function."
   ]
  },
  {
   "cell_type": "code",
   "execution_count": null,
   "metadata": {},
   "outputs": [],
   "source": [
    "source_file_path = './resources/test_events.dat'\n",
    "with open(source_file_path, 'r') as input_file:\n",
    "    data = input_file.readlines()\n",
    "    data = [d.strip() for d in data]\n",
    "    data = [[float(n) for n in d.split(',')] for d in data if d]\n",
    "print(data)"
   ]
  },
  {
   "cell_type": "markdown",
   "metadata": {},
   "source": [
    "b) You actually realise that this code deserves 2 functions. Split accordingly (still using the refactoring shortcuts)\n",
    "\n",
    "c) You notice that the functionality in the first function is quite generic and is used in other modules of your project. Deal with this again using the refactoring capabilities of Pycharm."
   ]
  },
  {
   "cell_type": "markdown",
   "metadata": {},
   "source": [
    "# Errors and testing\n"
   ]
  },
  {
   "cell_type": "markdown",
   "metadata": {},
   "source": [
    "12a) Sometimes your code doesn't work and python gives you an error message. The example below is a clear example of such a problem. What is making the error message appear?\n",
    "\n",
    "b) Use 'try' and 'except' to print the string 'oops there was an error' when this type of error occurs. Specifiy in the string what type of error it was"
   ]
  },
  {
   "cell_type": "code",
   "execution_count": null,
   "metadata": {},
   "outputs": [],
   "source": [
    "def voltage_ratio_calculator(v1, v2):\n",
    "    v_ratio = v1 / v2\n",
    "    return v_ratio\n",
    "for voltage1 in range(3):\n",
    "    for voltage2 in range(2):\n",
    "        voltage_ratio_calculator(voltage1, voltage2)\n"
   ]
  },
  {
   "cell_type": "markdown",
   "metadata": {},
   "source": [
    "13)\n",
    "\n",
    "Not all problems are so clear. They may not return built in errors (exceptions). It is good practice to find a way to test if a function does what you want it to do. \n",
    "\n",
    "You have written a function that will check that a user has input a proper email address in a form.\n",
    "You discover that your function is incomplete and decide to add more\n",
    "For example, you want to check that there are no unathorised characters in the email addresses.\n",
    "\n",
    "Write a test function that verifies that your email checking function:\n",
    "  1. accepts valid addresses.\n",
    "  2. rejects invalid addresses.\n",
    "\n",
    "Passing functions to other functions becomes much more useful when using decorators. We'll talk more about these later but the curious can read about them here: http://www.brianholdefehr.com/decorators-and-functional-python\n"
   ]
  },
  {
   "cell_type": "code",
   "execution_count": null,
   "metadata": {},
   "outputs": [],
   "source": [
    "email_address = input('please enter your email address')\n",
    "\n",
    "def check_email_address(address):\n",
    "    return len(address) > 0\n",
    "\n",
    "if check_email_address(email_address):\n",
    "    print('\"{}\" is a valid email address'.format(email_address))\n",
    "else:\n",
    "    print('\"{}\" is an invalid email address'.format(email_address))"
   ]
  },
  {
   "cell_type": "markdown",
   "metadata": {},
   "source": [
    "    a Write a function that will calculate the sample variance of some data (don't use an statistics.variance).\n",
    "\n",
    "    b Use statistics.variance to test that your function works and gives correct answers.\n",
    "\n",
    "    c Write a function that generates random multiples of 3 between 3 and 99.\n",
    "\n",
    "    d Test this function to make sure that the outputs are divisible by three.\n",
    "\n",
    "Save your test code (and test inputs and outputs). We will use these later in the course."
   ]
  },
  {
   "cell_type": "markdown",
   "metadata": {
    "collapsed": true
   },
   "source": [
    "# Documenting your code"
   ]
  },
  {
   "cell_type": "markdown",
   "metadata": {},
   "source": [
    "14a) document the following function assuming that b is an integer"
   ]
  },
  {
   "cell_type": "code",
   "execution_count": null,
   "metadata": {},
   "outputs": [],
   "source": [
    "def a_to_the_power_b(a, b):\n",
    "    power_result = a**b\n",
    "    return power_result"
   ]
  },
  {
   "cell_type": "markdown",
   "metadata": {},
   "source": [
    "b) Try to visualise this documentation in pycharm using the quick documentation tool\n",
    "\n",
    "c) Add a test for 3^2 and 1^1 in your docstring\n",
    "\n",
    "d) If not done yet, ensure that you specified the argument and return types above"
   ]
  },
  {
   "cell_type": "markdown",
   "metadata": {
    "collapsed": true
   },
   "source": [
    "# Long exercise"
   ]
  },
  {
   "cell_type": "markdown",
   "metadata": {},
   "source": [
    "You have inherited the following code from a previous student in your lab. \n",
    "This code takes a file as input that contains the description of a neuron's morphology. Each time the user clicks a point, it adds the segment corresponding to the piece of dendrite followed using the currently set dendrite diameter as diameter of this segment. The program reads this file and computes the volume of the neuron. You would like to extend it to measure the total dendritic length but first, you have decided that to extend code, you first need to make it clean. Try to make it the cleanest and most modular possible using what you have learned above.\n",
    "\n",
    "HINT: you may want to think about the *module* part of modular.\n",
    "\n",
    "What are the benefits ?"
   ]
  },
  {
   "cell_type": "code",
   "execution_count": null,
   "metadata": {},
   "outputs": [],
   "source": [
    "from math import *\n",
    "\n",
    "f = open('./resources/neuron_a_38.txt')\n",
    "data = f.readlines()\n",
    "f.close()\n",
    "\n",
    "volume = 0\n",
    "for i in range(1, len(data)-1):\n",
    "    line1 = data[i]\n",
    "    line2 = data[i+1]\n",
    "    data_line1 = [d.strip() for d in line1[:-1].split(',')]\n",
    "    p1 = [int(c) for c in data_line1[1:4]]\n",
    "    data_line2 = [d.strip() for d in line2[:-1].split(',')]\n",
    "    p2 = [int(c) for c in data_line2[1:4]]\n",
    "    print(p1, p2)\n",
    "    volume = volume + (int(data_line2[0])/2.0 * pi * (sqrt((p2[0] - p1[0])**2 + (p2[1] - p1[1])**2 + (p2[2] - p1[2])**2)))\n",
    "print(volume)"
   ]
  },
  {
   "cell_type": "markdown",
   "metadata": {
    "collapsed": true
   },
   "source": [
    "# Python error messages\n",
    "Analyse the tracebacks below and describe the error and ways to fix them"
   ]
  },
  {
   "cell_type": "markdown",
   "metadata": {
    "collapsed": true
   },
   "source": [
    "```python\n",
    "python pyper/gui/tracking_gui.py \n",
    "Traceback (most recent call last):\n",
    "  File \"pyper/gui/tracking_gui.py\", line 18, in <module>\n",
    "    from pyper.video.transcoder import TranscoderIface\n",
    "  File \"/home/user/code/pyper_dev/pyper/video/transcoder.py\", line 12, in <module>\n",
    "    import numpy as np\n",
    "ImportError: No module named numpy\n",
    "```"
   ]
  },
  {
   "cell_type": "markdown",
   "metadata": {
    "collapsed": true
   },
   "source": [
    "```python\n",
    "Traceback (most recent call last):\n",
    "  File \"/home/user/code/pyper_dev/pyper/gui/tabs_interfaces.py\", line 200, in load\n",
    "    self.stream = VStream(self.params.src_path, 0, 1)\n",
    "  File \"/home/user/code/pyper_dev/pyper/video/video_stream.py\", line 417, in __init__\n",
    "    tmp_capture = VideoCapture(file_path)\n",
    "  File \"/home/user/code/pyper_dev/pyper/cv_wrappers/video_capture.py\", line 46, in __init__\n",
    "    raise VideoCaptureOpenError(\"Could not open file {} for reading; {}\".format(filename_or_cam, err))\n",
    "pyper.cv_wrappers.video_capture.VideoCaptureOpenError: Could not open file /tmp/teleporter.h264 for reading; [Errno 13] Permission denied: '/tmp/teleporter.h264'\n",
    "Aborted (core dumped)\n",
    "```"
   ]
  },
  {
   "cell_type": "markdown",
   "metadata": {
    "collapsed": true
   },
   "source": [
    "This one is special and a bit more difficult. Can you tell why ?"
   ]
  },
  {
   "cell_type": "markdown",
   "metadata": {
    "collapsed": true
   },
   "source": [
    "```python\n",
    "Traceback (most recent call last):\n",
    "  File \"/home/user/code/pyper_dev/pyper/gui/image_providers.py\", line 45, in requestPixmap\n",
    "    qimg, qSize = self.requestImage(id, qSize)\n",
    "  File \"/home/user/code/pyper_dev/pyper/gui/image_providers.py\", line 54, in requestImage\n",
    "    qimg = self.getBaseImg(size)\n",
    "  File \"/home/user/code/pyper_dev/pyper/gui/image_providers.py\", line 114, in getBaseImg\n",
    "    img = self._stream.read()\n",
    "  File \"/home/user/code/pyper_dev/pyper/gui/gui_tracker.py\", line 47, in read\n",
    "    result = self.track_frame(record=self.record, requested_output=self.ui_iface.output_type)\n",
    "  File \"/home/user/code/pyper_dev/pyper/tracking/tracking.py\", line 256, in track_frame\n",
    "    print('Error with video_stream at frame {}: \\n{}'.format(fid, e))\n",
    "UnboundLocalError: local variable 'fid' referenced before assignment\n",
    "Aborted (core dumped)\n",
    "```"
   ]
  },
  {
   "cell_type": "markdown",
   "metadata": {},
   "source": [
    "# Return/ yield"
   ]
  },
  {
   "cell_type": "markdown",
   "metadata": {},
   "source": [
    "It can be useful to return results of a computation on the fly rather than at the end of a function. For this we can use the keyword 'yield' instead of 'return'.\n",
    "\n",
    "Run the cell below:"
   ]
  },
  {
   "cell_type": "code",
   "execution_count": null,
   "metadata": {},
   "outputs": [],
   "source": [
    "def search(search_list, search_value):\n",
    "    print('generator started')\n",
    "    for a in search_list:\n",
    "        if a == search_value:\n",
    "            print(a)\n",
    "            return a\n",
    "list_for_searching = (0, 4, 6, 2, 9)\n",
    "val = 2\n",
    "the_generator = search(list_for_searching, val)\n",
    "print(type(search))\n",
    "print(type(the_generator))"
   ]
  },
  {
   "cell_type": "markdown",
   "metadata": {},
   "source": [
    "Now run the following cell. What is different? Why?"
   ]
  },
  {
   "cell_type": "code",
   "execution_count": null,
   "metadata": {},
   "outputs": [],
   "source": [
    "def search(search_list, search_value):\n",
    "    print('generator started')\n",
    "    for a in search_list:\n",
    "        if a == search_value:\n",
    "            print(a)\n",
    "            yield a\n",
    "list_for_searching = (0, 4, 6, 2, 9)\n",
    "val = 2\n",
    "the_generator = search(list_for_searching, val)\n",
    "print(type(search))\n",
    "print(type(the_generator))"
   ]
  },
  {
   "cell_type": "markdown",
   "metadata": {},
   "source": [
    "Read this about generators and the 'yield' keyword and write some code that will search through the folder of tissue vision files we gave you in assignment 1 ('/resources/tissue_vision_files/') looking for files with the date 02162018. Make each filename be printed as it is found by the search.\n",
    "\n",
    "https://www.pythoncentral.io/python-generators-and-yield-keyword/"
   ]
  },
  {
   "cell_type": "markdown",
   "metadata": {},
   "source": [
    "# Functions as variables / arguments"
   ]
  },
  {
   "cell_type": "markdown",
   "metadata": {},
   "source": [
    "Use jupyter interact and see how you can pass it your function to see the evolution of your computation as you change the parameters.\n",
    "a) Use interact to make the wheel spin\n",
    "b) Try that with a decorator"
   ]
  },
  {
   "cell_type": "code",
   "execution_count": null,
   "metadata": {},
   "outputs": [],
   "source": [
    "def wheel(x):\n",
    "    symbols = \"|/-\\\\\"\n",
    "    print(symbols[x%4])"
   ]
  },
  {
   "cell_type": "markdown",
   "metadata": {},
   "source": [
    "a) Fix the load function below so that it accepts an arbitrary filtering function and its arguments\n",
    "\n",
    "b) Use this load function to build stacks with gaussian, median and scale 0.5 filters"
   ]
  },
  {
   "cell_type": "code",
   "execution_count": null,
   "metadata": {},
   "outputs": [],
   "source": [
    "import tifffile.tifffile\n",
    "\n",
    "def load(image_folder_path):\n",
    "    file_paths = (f for f in os.listdir(image_folder_path) if f.endswith('.tif'))\n",
    "\n",
    "    imgs = []\n",
    "    for file_path in files_paths:\n",
    "        img = tifffile.imread(file_path)\n",
    "        # FIXME: do some optional filtering here\n",
    "        imgs.append(img)\n",
    "\n",
    "    return np.array(imgs)"
   ]
  }
 ],
 "metadata": {
  "kernelspec": {
   "display_name": "Python 3",
   "language": "python",
   "name": "python3"
  },
  "language_info": {
   "codemirror_mode": {
    "name": "ipython",
    "version": 3
   },
   "file_extension": ".py",
   "mimetype": "text/x-python",
   "name": "python",
   "nbconvert_exporter": "python",
   "pygments_lexer": "ipython3",
   "version": "3.6.4"
  }
 },
 "nbformat": 4,
 "nbformat_minor": 2
}
