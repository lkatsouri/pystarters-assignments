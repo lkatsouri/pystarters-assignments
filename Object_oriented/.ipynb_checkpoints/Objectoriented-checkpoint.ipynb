{
 "cells": [
  {
   "cell_type": "markdown",
   "metadata": {},
   "source": [
    "Link for exercises\n",
    "\n",
    "https://python-textbok.readthedocs.io/en/1.0/Classes.html\n",
    "\n",
    " Classes and types are themselves objects, and they are of type type. You can find out the type of any object using the type function:\n",
    "type(any_object)\n",
    "The data values which we store inside an object are called attributes, and the functions which are associated with the object are called methods. We have already used the methods of some built-in objects, like strings and lists.\n",
    "\n",
    "import datetime # we will use this for date objects\n",
    "class Person:\n",
    "def __init__(self, name, surname, birthdate, address, telephone, email): # The first instance is the selfwhich is a conventional way of writing, and then you can call self.anything that is defined in your parenthesis and it will make sense of it)\n",
    "\n",
    "See below how they define the methods of this class by self.name/surname.etc\n",
    "\n",
    "        self.name = name\n",
    "        self.surname = surname\n",
    "        self.birthdate = birthdate\n",
    "self.address = address\n",
    "        self.telephone = telephone\n",
    "        self.email = email\n",
    "\n",
    "\n",
    "SOS: SELF HELPS RETURN AN ERROR IF YOUR OBECT DOESN'T HAVE THAT VALUE OTHERWISE IF IT WAS ONLY THE NAME OF THE FUNCTION THEN YOUR CODE WOULD HAVE A PROBLEM (AND YOU WOULDN'T BE ABLE TO DETECT IT AS IT WILL UNLIKELY RETURN AN ERROR)\n",
    "\n"
   ]
  },
  {
   "cell_type": "code",
   "execution_count": 10,
   "metadata": {},
   "outputs": [],
   "source": [
    "import datetime # we will use this for date objects\n",
    "\n",
    "class Person:\n",
    "\n",
    "    def __init__(self, name, surname, birthdate, address, telephone, email): #_init_ is everything that it wil try to run \n",
    "        self.name = name\n",
    "        self.surname = surname\n",
    "        self.birthdate = birthdate\n",
    "\n",
    "        self.address = address\n",
    "        self.telephone = telephone\n",
    "        self.email = email\n",
    "\n",
    "    def age(self):\n",
    "        today = datetime.date.today()\n",
    "        age = today.year - self.birthdate.year\n",
    "\n",
    "        if today < datetime.date(today.year, self.birthdate.month, self.birthdate.day):\n",
    "            age -= 1\n",
    "\n",
    "        return age\n",
    "    "
   ]
  },
  {
   "cell_type": "code",
   "execution_count": 13,
   "metadata": {},
   "outputs": [
    {
     "name": "stdout",
     "output_type": "stream",
     "text": [
      "Jane\n",
      "jane.doe@example.com\n",
      "37\n"
     ]
    }
   ],
   "source": [
    "person = Person(\n",
    "    \"Jane\",\n",
    "    \"Doe\",\n",
    "    datetime.date(1981, 10, 12), # year, month, day\n",
    "    \"No. 12 Short Street, Greenville\",\n",
    "    \"555 456 0987\",\n",
    "    \"jane.doe@example.com\"\n",
    ")\n",
    "\n",
    "print(person.name)\n",
    "print(person.email)\n",
    "print(person.age())"
   ]
  },
  {
   "cell_type": "markdown",
   "metadata": {},
   "source": [
    "INFORMATION\n",
    "\n",
    "1. Explain what the following variables refer to, and their scope:\n",
    "2. Person # It's the name of the class \n",
    "3. person # It's the definition of your object \n",
    "4. surname # one of the attributes of your object (data values) that will be passed when calling the Class\n",
    "5. self #SOS: SELF HELPS RETURN AN ERROR IF YOUR OBECT DOESN'T HAVE THAT VALUE OTHERWISE IF IT WAS ONLY THE NAME OF THE FUNCTION THEN YOUR CODE WOULD HAVE A PROBLEM (AND YOU WOULDN'T BE ABLE TO DETECT IT AS IT WILL UNLIKELY RETURN AN ERROR)\n",
    "You may have noticed that both of these method definitions have self as the first parameter, and we use this variable inside the method bodies – but we don’t appear to pass this parameter in. This is because whenever we call a method on an object, the object itself is automatically passed in as the first parameter. This gives us a way to access the object’s properties from inside the object’s methods.\n",
    "6. age (the function name) # is defining the age \n",
    "7. age (the variable used inside the function) # this \n",
    "8. self.email # this is the \n",
    "9. person.email #\n",
    "\n",
    "SOS:\n",
    "num - 1: produce the result of subtracting one from num; num is not changed\n",
    "num -= 1: subtract one from num and store that result (equivalent to num = num - 1 when numis a number)\n",
    "Note that you can use num - 1 as an expression since it produces a result, e.g. foo = num - 1, or print(num - 1), but you cannot use num -= 1 as an expression in Python.\n",
    "\n"
   ]
  },
  {
   "cell_type": "markdown",
   "metadata": {},
   "source": [
    "CLASS DEFINITION\n",
    "\n",
    "We start the class definition with the class keyword, followed by the class name and a colon. We would list any parent classes in between round brackets before the colon, but this class doesn’t have any, so we can leave them out.\n",
    "\n",
    "Inside the class body, we define two functions – these are our object’s methods. \n",
    "\n",
    "The first is called __init__, which is a special method. When we call the class object, a new instance of the class is created, and the __init__ method on this new object is immediately executed with all the parameters that we passed to the class object. The purpose of this method is thus to set up a new object using data that we have provided.\n",
    "\n",
    "The second method is a custom method which calculates the age of our person using the birthdate and the current date.\n",
    "\n",
    "You may have noticed that both of these method definitions have self as the first parameter, and we use this variable inside the method bodies – but we don’t appear to pass this parameter in. This is because whenever we call a method on an object, the object itself is automatically passed in as the first parameter. This gives us a way to access the object’s properties from inside the object’s methods."
   ]
  }
 ],
 "metadata": {
  "kernelspec": {
   "display_name": "Python 3",
   "language": "python",
   "name": "python3"
  },
  "language_info": {
   "codemirror_mode": {
    "name": "ipython",
    "version": 3
   },
   "file_extension": ".py",
   "mimetype": "text/x-python",
   "name": "python",
   "nbconvert_exporter": "python",
   "pygments_lexer": "ipython3",
   "version": "3.6.4"
  }
 },
 "nbformat": 4,
 "nbformat_minor": 2
}
