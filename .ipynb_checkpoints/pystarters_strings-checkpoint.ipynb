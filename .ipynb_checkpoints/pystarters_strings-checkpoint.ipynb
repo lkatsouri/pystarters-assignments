{
 "cells": [
  {
   "cell_type": "markdown",
   "metadata": {},
   "source": [
    "# python as a calculator\n",
    "FOR A FULL LIST OF MATHEMATICAL OPERATIONS IN PYTHON SEE: \n",
    "https://www.tutorialspoint.com/python/python_basic_operators.htm \n",
    "This will be useful later, so only skip it if you know it already"
   ]
  },
  {
   "cell_type": "code",
   "execution_count": 1,
   "metadata": {},
   "outputs": [
    {
     "name": "stdout",
     "output_type": "stream",
     "text": [
      "34534\n",
      "3\n",
      "75130\n",
      "6830\n",
      "44\n",
      "178675070.2\n",
      "13366.939447756917\n"
     ]
    }
   ],
   "source": [
    "# QUESTION 1\n",
    "# python can be used like a sort of overkill calculator\n",
    "\n",
    "# a) for these numbers 3, 56, 6, 3, 44, 5, 6, 7775, 32353, 34534, 345:\n",
    "    # find the largest number\n",
    "    # find the smallest number\n",
    "    # find the sum of all the numbers\n",
    "    # use the statistics module to compute:\n",
    "        # the mean\n",
    "        # the median\n",
    "        # the variance\n",
    "        # and standard deviation\n",
    "        \n",
    "        \n",
    "import math # imports mathematical module functions\n",
    "import statistics # imports statistics module functions\n",
    "max_value = max([3, 56, 6, 3, 44, 5, 6, 7775, 32353, 34534, 345])\n",
    "print(max_value)\n",
    "min_value =  min([3, 56, 6, 3, 44, 5, 6, 7775, 32353, 34534, 345])\n",
    "print (min_value)\n",
    "sum_value =  sum([3, 56, 6, 3, 44, 5, 6, 7775, 32353, 34534, 345])\n",
    "print (sum_value)\n",
    "mean_value = statistics.mean([3, 56, 6, 3, 44, 5, 6, 7775, 32353, 34534, 345])\n",
    "print (mean_value)\n",
    "median_value = statistics.median([3, 56, 6, 3, 44, 5, 6, 7775, 32353, 34534, 345])\n",
    "print (median_value)\n",
    "variance_value = statistics.variance([3, 56, 6, 3, 44, 5, 6, 7775, 32353, 34534, 345])\n",
    "print (variance_value)\n",
    "stdev_value = statistics.stdev([3, 56, 6, 3, 44, 5, 6, 7775, 32353, 34534, 345])\n",
    "print (stdev_value)"
   ]
  },
  {
   "cell_type": "code",
   "execution_count": 2,
   "metadata": {},
   "outputs": [
    {
     "name": "stdout",
     "output_type": "stream",
     "text": [
      "3\n",
      "4\n",
      "3\n",
      "1.7724538509055159\n",
      "1.1447298858494002\n",
      "0.4971498726941338\n"
     ]
    }
   ],
   "source": [
    "# b) use the math module to do the following:\n",
    "    # print:\n",
    "        # the value of pi rounded down to the nearest whole number\n",
    "        # the value of pi rounded up to nearest whole number\n",
    "        # the square root of pi\n",
    "        # the log of pi\n",
    "\n",
    "import math\n",
    "pi = math.pi\n",
    "round_down = round (pi)  #this is equivalent to int(x) and also to math.floor(x) . the main difference is that int() works without importing math\n",
    "print(round (pi))\n",
    "print (math.ceil (pi))\n",
    "print (math.floor (pi))\n",
    "print (math.sqrt (pi))\n",
    "print (math.log(pi)) # This will print the ln (natural logarith)\n",
    "print (math.log(pi,10)) # This will print the log10"
   ]
  },
  {
   "cell_type": "code",
   "execution_count": 3,
   "metadata": {},
   "outputs": [
    {
     "name": "stdout",
     "output_type": "stream",
     "text": [
      "[1, 2, 3, 1]\n"
     ]
    }
   ],
   "source": [
    "example_list = [1, 2, 3]\n",
    "\n",
    "example_list.append(1) #append takes only 1 argument. This can be a character, a string, a list, etc .\n",
    "print (example_list)\n"
   ]
  },
  {
   "cell_type": "code",
   "execution_count": 4,
   "metadata": {},
   "outputs": [
    {
     "name": "stdout",
     "output_type": "stream",
     "text": [
      "[1, 2, 3, 1, [12, 2, 3]]\n"
     ]
    }
   ],
   "source": [
    "example_list.append([12,2,3]) #append will add the list TO THE END of the list. This will now show : [1, [12, 2, 3]]\n",
    "print (example_list)\n"
   ]
  },
  {
   "cell_type": "code",
   "execution_count": 5,
   "metadata": {},
   "outputs": [
    {
     "name": "stdout",
     "output_type": "stream",
     "text": [
      "[1, 2, 3, 1, [12, 2, 3], 12, 1, 2, 3, 4]\n"
     ]
    },
    {
     "data": {
      "text/plain": [
       "[1, 2, 3, 1, [12, 2, 3], 12, 1, 2, 3, 4]"
      ]
     },
     "execution_count": 5,
     "metadata": {},
     "output_type": "execute_result"
    }
   ],
   "source": [
    "example_list.extend([12,1,2,3,4]) # extend will just add them as elements of integers at the end\n",
    "print(example_list) # u can also just write example list and it will call it\n",
    "example_list"
   ]
  },
  {
   "cell_type": "code",
   "execution_count": 6,
   "metadata": {},
   "outputs": [
    {
     "name": "stdout",
     "output_type": "stream",
     "text": [
      "29\n",
      "43\n",
      "10\n",
      "24\n",
      "16\n",
      "26\n",
      "82\n",
      "10\n",
      "88\n",
      "25\n"
     ]
    }
   ],
   "source": [
    "# d) generate some random numbers\n",
    "import random\n",
    "for x in range(10):\n",
    "    print(random.randint(1, 101)) "
   ]
  },
  {
   "cell_type": "code",
   "execution_count": 7,
   "metadata": {},
   "outputs": [
    {
     "name": "stdout",
     "output_type": "stream",
     "text": [
      "[54, 36, 91, 79, 49, 92, 31, 11, 87, 86]\n"
     ]
    }
   ],
   "source": [
    "# put my numbers in a list. There are 2 ways:\n",
    "#Way 1: Make a list and then add your numbers\n",
    "random_numbers = [] #the square parentheses [] are the sign of the list\n",
    "for x in range(10): #this will give you 10 numbers\n",
    "    random_numbers.append(random.randint(1, 101)) #randomint are random integers.\n",
    "    #By also saying give me (1, 101) it will choose 10 numbers between 1-101\n",
    "print (random_numbers) "
   ]
  },
  {
   "cell_type": "code",
   "execution_count": 8,
   "metadata": {},
   "outputs": [
    {
     "name": "stdout",
     "output_type": "stream",
     "text": [
      "[56, 72, 67, 97, 86, 32, 30, 81, 74, 87]\n",
      "[6, 4, 56, 80, 19, 40, 15, 52, 101, 57]\n"
     ]
    }
   ],
   "source": [
    "# Way 2: list comprenehsions\n",
    "random_numbers2 = [random.randint (1, 101) for x in range (10)]\n",
    "print (random_numbers2)\n",
    "random_numbers3 = [random.randint (x, 101) for x in range (10)]\n",
    "print (random_numbers3) #PUT BRACKETS AFTER PRINT"
   ]
  },
  {
   "cell_type": "code",
   "execution_count": 9,
   "metadata": {},
   "outputs": [
    {
     "name": "stdout",
     "output_type": "stream",
     "text": [
      "0.3183098861837907\n",
      "0.3183098861837907\n",
      "1.0\n",
      "0.7071067811865475\n",
      "0.3826834323650898\n",
      "[1.0, 0.7071067811865475, 0.3826834323650898]\n",
      "0.027412133592044294\n"
     ]
    },
    {
     "data": {
      "text/plain": [
       "'1.5707963267948966'"
      ]
     },
     "execution_count": 9,
     "metadata": {},
     "output_type": "execute_result"
    }
   ],
   "source": [
    "# c) calculate pi squared divided by pi cubed\n",
    "# e) what is sine(pi/2), sine(pi/4), sine(pi/8)\n",
    "# f) if the result is in radians, convert it to degrees\n",
    "# g) cast your result from a float into a string (floar einai oi dekadikoi)\n",
    "\n",
    "import math\n",
    "pi = math.pi\n",
    "print (pi**2/pi**3) # the sign of power are the double stars e.g. 5 ** 2  OR pow(x, y)\n",
    "print ((pow (pi, 2))/(pow (pi, 3)))\n",
    "print (math.sin(pi/2))\n",
    "print (math.sin(pi/4))\n",
    "print (math.sin(pi/8))\n",
    "\n",
    "#also you can do this:\n",
    "sine_radians = [math.sin(pi/x) for x in (2, 4, 8)]\n",
    "print (sine_radians)\n",
    "\n",
    "print (math.sin(math.radians(pi/2))) #this will give you the answer in radians instead of degrees\n",
    "str(pi/2) #this will cast the result as a string\n",
    "\n"
   ]
  },
  {
   "cell_type": "code",
   "execution_count": 10,
   "metadata": {},
   "outputs": [
    {
     "name": "stdout",
     "output_type": "stream",
     "text": [
      "1.5707963267948966\n"
     ]
    }
   ],
   "source": [
    "print (str(pi/2)) #this will just print what's in the string's parenthesis"
   ]
  },
  {
   "cell_type": "markdown",
   "metadata": {},
   "source": [
    "# variable assignment"
   ]
  },
  {
   "cell_type": "code",
   "execution_count": 11,
   "metadata": {},
   "outputs": [
    {
     "name": "stdout",
     "output_type": "stream",
     "text": [
      "330\n",
      "3\n",
      "110\n",
      "4\n",
      "10\n"
     ]
    }
   ],
   "source": [
    "# QUESTION 2\n",
    "# a) assign the number 3 to a variable called width, and the number 110 to a variable called height\n",
    "\n",
    "width = 3\n",
    "height = 110\n",
    "\n",
    "# b) calculate the area and assign it to a new variable called area\n",
    "\n",
    "area_value = width * height\n",
    "print (area_value)\n",
    "\n",
    "# c) turns out you got the width and height mixed up, see if you can swap them without re-declaring the width and height variables\n",
    "\n",
    "width, height = height, width\n",
    "print(height)\n",
    "print (width)\n",
    "\n",
    "# d) assign the width and height variables in a single statement\n",
    "\n",
    "width, height = 4, 10\n",
    "print (width)\n",
    "print (height)\n",
    "\n",
    "\n"
   ]
  },
  {
   "cell_type": "markdown",
   "metadata": {},
   "source": [
    "# control flow - using statements"
   ]
  },
  {
   "cell_type": "code",
   "execution_count": 12,
   "metadata": {},
   "outputs": [
    {
     "name": "stdout",
     "output_type": "stream",
     "text": [
      "1\n",
      "2\n",
      "3\n",
      "4\n",
      "5\n",
      "6\n",
      "7\n",
      "8\n",
      "9\n",
      "10\n"
     ]
    }
   ],
   "source": [
    "# QUESTION 3\n",
    "# a) write a simple for loop that counts up to 10 and prints the value\n",
    "for x in range(1, 11): #sos, it will never print the last one\n",
    "    print (x)"
   ]
  },
  {
   "cell_type": "code",
   "execution_count": 13,
   "metadata": {},
   "outputs": [
    {
     "name": "stdout",
     "output_type": "stream",
     "text": [
      "0\n",
      "1\n",
      "2\n",
      "3\n",
      "4\n",
      "5\n",
      "6\n",
      "7\n",
      "8\n",
      "9\n",
      "10\n"
     ]
    }
   ],
   "source": [
    "# QUESTION 3\n",
    "# a) write a simple for loop that counts up to 10 and prints the value\n",
    "for x in range(11): #by ommiting the start, it will start printing from 0\n",
    "    print (x)"
   ]
  },
  {
   "cell_type": "code",
   "execution_count": 14,
   "metadata": {},
   "outputs": [
    {
     "name": "stdout",
     "output_type": "stream",
     "text": [
      "the number is not 4\n",
      "the number is not 4\n",
      "the number is not 4\n",
      "4\n",
      "the number is not 4\n",
      "the number is not 4\n",
      "the number is not 4\n",
      "the number is not 4\n",
      "the number is not 4\n",
      "the number is not 4\n"
     ]
    }
   ],
   "source": [
    "# b) use an if statement to print 4 if the value is 4\n",
    "# c) add an else clause to print 'the number is not 4' when it is not 4\n",
    "\n",
    "onetoten = range(1,11)\n",
    "for count in onetoten:\n",
    "    if count == 4:\n",
    "        print ('4')\n",
    "    else:\n",
    "        print ('the number is not 4')"
   ]
  },
  {
   "cell_type": "code",
   "execution_count": 15,
   "metadata": {},
   "outputs": [
    {
     "name": "stdout",
     "output_type": "stream",
     "text": [
      "the number is not 4\n",
      "the number is not 4\n",
      "the number is not 4\n",
      "the number is not 4\n",
      "4\n",
      "the number is not 4\n",
      "the number is not 4\n",
      "the number is not 4\n",
      "the number is not 4\n",
      "the number is not 4\n",
      "the number is not 4\n"
     ]
    }
   ],
   "source": [
    "onetoten = range(11)\n",
    "for count in onetoten:\n",
    "    if count != 4:\n",
    "        print ('the number is not 4')\n",
    "    else :\n",
    "        print ('4')\n",
    "     "
   ]
  },
  {
   "cell_type": "code",
   "execution_count": 16,
   "metadata": {},
   "outputs": [
    {
     "name": "stdout",
     "output_type": "stream",
     "text": [
      "1 2 3 4 5\n",
      "[1, 2, 3, 4, 5]\n"
     ]
    }
   ],
   "source": [
    "# Python program to print list without using loop\n",
    " \n",
    "a = [1, 2, 3, 4, 5]\n",
    " \n",
    "# printing the list using * operator separated by space \n",
    "print(*a) \n",
    "\n",
    "#this will print the list \n",
    "print(a) "
   ]
  },
  {
   "cell_type": "code",
   "execution_count": 17,
   "metadata": {},
   "outputs": [
    {
     "name": "stdout",
     "output_type": "stream",
     "text": [
      "printing lists separated by commas\n",
      "1, 2, 3, 4, 5\n",
      "printing lists in new line\n",
      "1\n",
      "2\n",
      "3\n",
      "4\n",
      "5\n"
     ]
    }
   ],
   "source": [
    " \n",
    "# printing the list using * and sep operator\n",
    "print(\"printing lists separated by commas\")\n",
    " \n",
    "print(*a, sep = \", \") \n",
    " \n",
    "# print in new line\n",
    "print(\"printing lists in new line\")\n",
    " \n",
    "print(*a, sep = \"\\n\")"
   ]
  },
  {
   "cell_type": "code",
   "execution_count": 18,
   "metadata": {},
   "outputs": [
    {
     "name": "stdout",
     "output_type": "stream",
     "text": [
      "the value is anything other than 4\n",
      "the value is anything other than 4\n",
      "the value is anything other than 4\n",
      "the value is anything other than 4\n",
      "the value is 4\n",
      "the value is anything other than 4\n",
      "the value is anything other than 4\n",
      "the value is anything other than 4\n",
      "the value is anything other than 4\n",
      "the value is anything other than 4\n",
      "the value is anything other than 4\n"
     ]
    }
   ],
   "source": [
    "# d) use an if statement to print if the value is anything other than 4\n",
    "\n",
    "onetoten = range(11)\n",
    "for count in onetoten:\n",
    "    if count <4 or count >4:\n",
    "            print('the value is anything other than 4')\n",
    "    else:\n",
    "            print('the value is 4')\n",
    "        "
   ]
  },
  {
   "cell_type": "code",
   "execution_count": 19,
   "metadata": {
    "scrolled": true
   },
   "outputs": [
    {
     "name": "stdout",
     "output_type": "stream",
     "text": [
      "the value is anything other than 4\n",
      "the value is anything other than 4\n",
      "the value is anything other than 4\n",
      "the value is anything other than 4\n",
      "the value is 4\n"
     ]
    }
   ],
   "source": [
    "# e) rewrite this using a while loop (HINT: try out using the += operation)\n",
    "w = 0\n",
    "while w<=10:\n",
    "    # w+=1 if this put here, it will add the number and then do the loop. \n",
    "    if w == 4:\n",
    "        print ('the value is 4')\n",
    "        break #this will break the loop when it will find 4 so I could even skip completely the w<=10\n",
    "    else:\n",
    "        print ('the value is anything other than 4')\n",
    "    w+=1 #this will increment by 1. U can add here whatevr you want"
   ]
  },
  {
   "cell_type": "code",
   "execution_count": 20,
   "metadata": {},
   "outputs": [
    {
     "name": "stdout",
     "output_type": "stream",
     "text": [
      "0\n",
      "2\n",
      "6\n",
      "8\n",
      "10\n"
     ]
    }
   ],
   "source": [
    "i=0\n",
    "while i < 11:\n",
    "    if i != 4:\n",
    "        print(i)\n",
    "    i += 2\n",
    "\n",
    "    "
   ]
  },
  {
   "cell_type": "markdown",
   "metadata": {},
   "source": [
    "# string manipulation\n",
    "IMPORTANT: if you are uncertain what is meant by built-in method, have a look here (https://docs.python.org/3/library/stdtypes.html) at the different functionality that is built-in to each data type\n"
   ]
  },
  {
   "cell_type": "code",
   "execution_count": 21,
   "metadata": {
    "scrolled": true
   },
   "outputs": [
    {
     "name": "stdout",
     "output_type": "stream",
     "text": [
      "Usage: thingy [OPTIONS]\n",
      "     -h                        Display this usage message\n",
      "     -H hostname               Hostname to connect to\n",
      "\n"
     ]
    }
   ],
   "source": [
    "#String literals can span multiple lines. \n",
    "#One way is using triple-quotes: \"\"\"...\"\"\" or '''...'''. \n",
    "#End of lines are automatically included in the string, but it’s possible to prevent this \n",
    "#by adding a \\ at the end of the line. The following example:\n",
    "print(\"\"\"\\\n",
    "Usage: thingy [OPTIONS]\n",
    "     -h                        Display this usage message\n",
    "     -H hostname               Hostname to connect to\n",
    "\"\"\")"
   ]
  },
  {
   "cell_type": "code",
   "execution_count": 22,
   "metadata": {},
   "outputs": [
    {
     "name": "stdout",
     "output_type": "stream",
     "text": [
      "SRETRATSYpbOTbEMOCLEw\n",
      "SRETRATSYp OT EMOCLEw\n",
      "sretratsyP ot emocleW\n",
      "Welcome to Pystarters\n"
     ]
    }
   ],
   "source": [
    "#QUESTION 4\n",
    "secret_message = 'S1R3E2!!3@4T2R3AT23@@!S2Y3pbO1T3!@@!!4b1E@M134O13C1L3@@Ew41@23!!'\n",
    "\n",
    "# a) remove all digits and special characters from the secret message\n",
    "# c) if you wrote your answer as a loop, try with a list comprehension\n",
    "message = ''.join(e for e in secret_message if e.isalpha()) #if you want to remove only the\n",
    "#special characters and keep the numbers and letters, then write e.isalnum (alphanumeric)\n",
    "print (message)\n",
    "\n",
    "# b) replace all every letter b with an empty space \n",
    "message = message.replace('b', ' ')\n",
    "print (message)\n",
    "\n",
    "\n",
    "# d) reverse the capitalisation\n",
    "message = message.swapcase()\n",
    "print (message)\n",
    "\n",
    "# e) reverse the order of the letters\n",
    "message = message[::-1] #Python doesn't have a function to reverse string so u use ::-1 to treat it as a list and reverse it\n",
    "print (message)\n"
   ]
  },
  {
   "cell_type": "code",
   "execution_count": 23,
   "metadata": {},
   "outputs": [
    {
     "name": "stdout",
     "output_type": "stream",
     "text": [
      "\"please remove the space around me\"\n",
      "\"               please remove the space on my right\"\n"
     ]
    },
    {
     "data": {
      "text/plain": [
       "'please remove the space around me'"
      ]
     },
     "execution_count": 23,
     "metadata": {},
     "output_type": "execute_result"
    }
   ],
   "source": [
    "# f) use built in string methods to do the following\n",
    "\n",
    "s1 = '              please remove the space around me           '\n",
    "s2 = '               please remove the space on my right           '\n",
    "\n",
    "s1 = str.strip(s1)\n",
    "print('\"{}\"'.format(s1)) #the {} is replacing it\n",
    "\n",
    "s2 = str.rstrip(s2) #you can use lstrip or rstrip to remove something left or right of a string\n",
    "print('\"{}\"'.format(s2)) \n",
    "\n",
    "s1.strip() #with this method it will just call it. \n",
    "\n",
    "# The version with str.strip(string_instance) is a class method (static method)\n",
    "# that does not act on an object itself. The second (s1.strip()) is the method call\n",
    "# which acts on the object instance calling it (s1). We will see more about this\n",
    "# when we discuss object oriented programming at a later point.\n",
    "# The parenthesis are required in both cases because both are functions"
   ]
  },
  {
   "cell_type": "code",
   "execution_count": 56,
   "metadata": {},
   "outputs": [
    {
     "name": "stdout",
     "output_type": "stream",
     "text": [
      "\"     please add the same number of spaces on my left as on my right     \"\n",
      "     please add the same number of spaces on my left as on my right     \n",
      "72\n"
     ]
    }
   ],
   "source": [
    "s3 = 'please add the same number of spaces on my left as on my right             '\n",
    "s3_strip = s3.strip()\n",
    "s3 = s3_strip.center(len(s3_strip) + 10)\n",
    "print('\"{}\"'.format(s3))  \n",
    "#{} is a placeholder so we are telling it to print the \"\" left and right and the {} in the middle \n",
    "# and then by using format what to put inside the curly brackets {}\n",
    "\n",
    "print (s3)\n",
    "print(len(s3))"
   ]
  },
  {
   "cell_type": "code",
   "execution_count": 25,
   "metadata": {},
   "outputs": [
    {
     "name": "stdout",
     "output_type": "stream",
     "text": [
      "\"please remove the space around me               please remove the space on my right\"\n",
      "please remove the space around me               please remove the space on my right\n"
     ]
    }
   ],
   "source": [
    "# g) combine strings s1 and s2\n",
    "    # do it with and without using built-in string methods\n",
    "s1_s2 = s1 + s2\n",
    "print('\"{}\"'.format(s1_s2))\n",
    "print (s1_s2) #den eimai sigouri poia einai i doafora tou format me to aplo print"
   ]
  },
  {
   "cell_type": "code",
   "execution_count": 26,
   "metadata": {},
   "outputs": [
    {
     "name": "stdout",
     "output_type": "stream",
     "text": [
      "Sammy loves open source.\n"
     ]
    },
    {
     "data": {
      "text/plain": [
       "'The sum of 1 + 2 is 3'"
      ]
     },
     "execution_count": 26,
     "metadata": {},
     "output_type": "execute_result"
    }
   ],
   "source": [
    "open_string = \"Sammy loves {}.\"\n",
    "print(open_string.format(\"open source\"))\n",
    "\n",
    "#this is a cool trick\n",
    "\"The sum of 1 + 2 is {0}\".format(1+2)\n"
   ]
  },
  {
   "cell_type": "code",
   "execution_count": 27,
   "metadata": {},
   "outputs": [
    {
     "name": "stdout",
     "output_type": "stream",
     "text": [
      "3.122.323\n",
      "3.1*22.323\n",
      "25.423000000000002\n",
      "25\n",
      "69.2013\n"
     ]
    }
   ],
   "source": [
    "    \n",
    "# h) for a and b (below), compute the following:\n",
    "    # a + b\n",
    "    # a * b\n",
    " # i) if your result is just one long string, try to cast a and b into integers and try again\n",
    "   \n",
    "a = '3.1' \n",
    "b = '22.323'    \n",
    "\n",
    "x= a + b\n",
    "print(x) # if you do it like this, it will see them as strings as they are in quotes and will just concatenate them\n",
    "\n",
    "print('{}*{}'.format(a, b)) # this is also wrong as it just adds the * between them and still sees them as strings\n",
    "\n",
    "#this is what you should be doing\n",
    "c = float(a) + float(b)\n",
    "d = float(a) * float(b)\n",
    "print(c)\n",
    "print(int(c)) #this will return the integer\n",
    "print (d)"
   ]
  },
  {
   "cell_type": "code",
   "execution_count": 28,
   "metadata": {},
   "outputs": [
    {
     "name": "stdout",
     "output_type": "stream",
     "text": [
      "23\"\u001c",
      "\u0013\\\\//\n",
      "23\\42\\34\\23\\\\\\//\n"
     ]
    }
   ],
   "source": [
    "# k) print the following string: \n",
    "a= '23\\42\\34\\23\\\\\\//'\n",
    "print (a)\n",
    "    # think about what is going on, google it and see why it doesn't work as expected\n",
    "    \n",
    "#     \"\"\" The backslash in a string is an escape sequence, and the numbers following it are codes \n",
    "# for ASCII characters. One way to print the string as it appears below would be to add \n",
    "# backslashes to escape the backslashes \"\"\"\n",
    "print('23\\\\42\\\\34\\\\23\\\\\\\\\\\\//')"
   ]
  },
  {
   "cell_type": "code",
   "execution_count": 29,
   "metadata": {},
   "outputs": [
    {
     "name": "stdout",
     "output_type": "stream",
     "text": [
      "the value of pi is: 3, 3.14, 3.14159\n"
     ]
    }
   ],
   "source": [
    "import math\n",
    "pi = math.pi\n",
    "# string = 'the value of pi is: {}, {}, {}'\n",
    "print('the value of pi is: {0:.0f}, {0:.2f}, {0:.5f}'.format(pi))"
   ]
  },
  {
   "cell_type": "code",
   "execution_count": 30,
   "metadata": {},
   "outputs": [
    {
     "name": "stdout",
     "output_type": "stream",
     "text": [
      "(1, 2, 3)\n",
      "[1, 2, 3]\n"
     ]
    },
    {
     "data": {
      "text/plain": [
       "3"
      ]
     },
     "execution_count": 30,
     "metadata": {},
     "output_type": "execute_result"
    }
   ],
   "source": [
    "my_tuple = (1,2,3)\n",
    "my_list = list(my_tuple) #this will change a tuple into a list which means it will become mutable\n",
    "print(my_tuple)\n",
    "print(my_list)\n",
    "my_list [2] #this will give you the last digit of your list\n"
   ]
  },
  {
   "cell_type": "code",
   "execution_count": 31,
   "metadata": {},
   "outputs": [
    {
     "data": {
      "text/plain": [
       "True"
      ]
     },
     "execution_count": 31,
     "metadata": {},
     "output_type": "execute_result"
    }
   ],
   "source": [
    "my_string = 'sdfsef.tif'\n",
    "my_string.endswith('.tiff') or my_string.endswith('.tif')"
   ]
  },
  {
   "cell_type": "code",
   "execution_count": 32,
   "metadata": {},
   "outputs": [
    {
     "name": "stdout",
     "output_type": "stream",
     "text": [
      "seflhwehwei23293432\n"
     ]
    }
   ],
   "source": [
    "string = 'seflhwehwei23293432%%%'\n",
    "my_new_string = [char for char in string if char.isalnum()]\n",
    "new_string = ''.join(my_new_string)\n",
    "print (new_string)\n"
   ]
  },
  {
   "cell_type": "code",
   "execution_count": 33,
   "metadata": {},
   "outputs": [
    {
     "name": "stdout",
     "output_type": "stream",
     "text": [
      "seflhwehwei23293432\n"
     ]
    }
   ],
   "source": [
    "#OR!!!\n",
    "new_string = [] #I am creating an empty list\n",
    "for char in string:\n",
    "    if char.isalnum():\n",
    "        new_string.append(char)\n",
    "new_string = ''.join(new_string)\n",
    "print(new_string)"
   ]
  },
  {
   "cell_type": "code",
   "execution_count": 34,
   "metadata": {},
   "outputs": [
    {
     "data": {
      "text/plain": [
       "'AIDGF_in=_between_BDF_in=_between_Z'"
      ]
     },
     "execution_count": 34,
     "metadata": {},
     "output_type": "execute_result"
    }
   ],
   "source": [
    "'_in=_between_'.join(['AIDGF', 'BDF', 'Z']) \n",
    "\n",
    "#this will add each one of the list's elememts in the first sentence using the order that you have in the list"
   ]
  },
  {
   "cell_type": "code",
   "execution_count": 35,
   "metadata": {},
   "outputs": [
    {
     "data": {
      "text/plain": [
       "'_in=_b---tw------n_'"
      ]
     },
     "execution_count": 35,
     "metadata": {},
     "output_type": "execute_result"
    }
   ],
   "source": [
    "'_in=_between_'.replace('e', '---')"
   ]
  },
  {
   "cell_type": "code",
   "execution_count": 36,
   "metadata": {},
   "outputs": [
    {
     "name": "stdout",
     "output_type": "stream",
     "text": [
      "S True\n",
      "R True\n",
      "E True\n",
      "T True\n",
      "R True\n",
      "A True\n",
      "T True\n",
      "S True\n",
      "Y True\n",
      "p True\n",
      "b True\n",
      "O True\n",
      "T True\n",
      "b True\n",
      "E True\n",
      "M True\n",
      "O True\n",
      "C True\n",
      "L True\n",
      "E True\n",
      "w True\n"
     ]
    }
   ],
   "source": [
    "#QUESTION 4\n",
    "secret_message = 'S1R3E2!!3@4T2R3AT23@@!S2Y3pbO1T3!@@!!4b1E@M134O13C1L3@@Ew41@23!!'\n",
    "\n",
    "# a) remove all digits and special characters from the secret message\n",
    "new_string = []\n",
    "for letter in secret_message:\n",
    "    if letter.isalpha():\n",
    "        print(letter, letter.isalpha()) # this will check at every letter if it's alphabet\n",
    "  "
   ]
  },
  {
   "cell_type": "code",
   "execution_count": 37,
   "metadata": {},
   "outputs": [
    {
     "name": "stdout",
     "output_type": "stream",
     "text": [
      "the value of pi is: 3, 3.14, 3.14159\n"
     ]
    }
   ],
   "source": [
    "# b) replace all every letter b with an empty space \n",
    "\n",
    "\n",
    "# c) if you wrote your answer as a loop, try with a list comprehension\n",
    "# d) reverse the capitalisation\n",
    "# e) reverse the order of the letters\n",
    "# f) use built in string methods to do the following\n",
    "\n",
    "s1 = '              please remove the space around me           '\n",
    "s2 = '               please remove the space on my right           '\n",
    "s3 = 'please add the same number of spaces on my left as on my right             '\n",
    "\n",
    "# g) combine strings s1 and s2\n",
    "    # do it with and without using built-in string methods\n",
    "    \n",
    "# h) for a and b (below), compute the following:\n",
    "    # a + b\n",
    "    # a * b\n",
    "    \n",
    "a = '3.1' \n",
    "b = '22.323'    \n",
    "\n",
    "# i) if your result is just one long string, try to cast a and b into integers and try again\n",
    "\n",
    "# j) replace the {}s below with the value of pi using string methods, for 0, 2 and 5 decimal places respectively\n",
    "\n",
    "print ('the value of pi is: {0:.0f}, {0:.2f}, {0:.5f}'.format (math.pi) ) # the 0:.0f means that will give 0 decimal points etc\n",
    "# use '' to make sure that is string\n",
    "# curly brackets won't work until you put something in format\n",
    " #if you need to add letters make sure u put them in a string or they are assigned earlier as a variable\n",
    "\n",
    "# k) print the following string: '23\\42\\34\\23\\\\\\//'\n",
    "    # think about what is going on, google it and see why it doesn't work as expected"
   ]
  },
  {
   "cell_type": "markdown",
   "metadata": {},
   "source": [
    "# working with text files "
   ]
  },
  {
   "cell_type": "code",
   "execution_count": 38,
   "metadata": {},
   "outputs": [
    {
     "name": "stdout",
     "output_type": "stream",
     "text": [
      "add a number:3\n",
      "\n",
      "odd\n",
      "done\n"
     ]
    }
   ],
   "source": [
    "x = int(input('add a number:'))\n",
    "if x % 2 == 0:\n",
    "    print('')\n",
    "    print('even')\n",
    "else: \n",
    "    print('')\n",
    "    print('odd')\n",
    "print ('done')"
   ]
  },
  {
   "cell_type": "code",
   "execution_count": 57,
   "metadata": {},
   "outputs": [
    {
     "name": "stdout",
     "output_type": "stream",
     "text": [
      "all work and no play makes Steve a very typical neuroscientist all work and no play makes Steve a very typical neuroscientist all work and no play makes Steve a very typical neuroscientist all work and no play makes Steve a very typical neuroscientist all work and no play makes Steve a very typical neuroscientist all work and no play makes Steve a very typical neuroscientist all work and no play makes Steve a very typical neuroscientist all work and no play makes Steve a very typical neuroscientist all work and no play makes Steve a very typical neuroscientist all work and no play makes Steve a very typical neuroscientist all work and no play makes Steve a very typical neuroscientist all work and no play makes Steve a very typical neuroscientist all work and no play makes Steve a very typical neuroscientist all work and no play makes Steve a very typical neuroscientist all work and no play makes Steve a very typical neuroscientist all work and no play makes Steve a very typical neuroscientist all work and no play makes Steve a very typical neuroscientist all work and no play makes Steve a very typical neuroscientist all work and no play makes Steve a very typical neuroscientist all work and no play makes Steve a very typical neuroscientist all work and no play makes Steve a very typical neuroscientist all work and no play makes Steve a very typical neuroscientist all work and no play makes Steve a very typical neuroscientist all work and no play makes Steve a very typical neuroscientist all work and no play makes Steve a very typical neuroscientist all work and no play makes Steve a very typical neuroscientist all work and no play makes Steve a very typical neuroscientist all work and no play makes Steve a very typical neuroscientist all work and no play makes Steve a very typical neuroscientist all work and no play makes Steve a very typical neuroscientist all work and no play makes Steve a very typical neuroscientist all work and no play makes Steve a very typical neuroscientist all work and no play makes Steve a very typical neuroscientist all work and no play makes Steve a very typical neuroscientist all work and no play makes Steve a very typical neuroscientist all work and no play makes Steve a very typical neuroscientist all work and no play makes Steve a very typical neuroscientist all work and no play makes Steve a very typical neuroscientist all work and no play makes Steve a very typical neuroscientist all work and no play makes Steve a very typical neuroscientist all work and no play makes Steve a very typical neuroscientist all work and no play makes Steve a very typical neuroscientist all work and no play makes Steve a very typical neuroscientist all work and no play makes Steve a very typical neuroscientist all work and no play makes Steve a very typical neuroscientist all work and no play makes Steve a very typical neuroscientist all work and no play makes Steve a very typical neuroscientist all work and no play makes Steve a very typical neuroscientist all work and no play makes Steve a very typical neuroscientist all work and no play makes Steve a very typical neuroscientist all work and no play makes Steve a very typical neuroscientist all work and no play makes Steve a very typical neuroscientist all work and no play makes Steve a very typical neuroscientist all work and no play makes Steve a very typical neuroscientist all work and no play makes Steve a very typical neuroscientist all work and no play makes Steve a very typical neuroscientist all work and no play makes Steve a very typical neuroscientist all work and no play makes Steve a very typical neuroscientist all work and no play makes Steve a very typical neuroscientist all work and no play makes Steve a very typical neuroscientist all work and no play makes Steve a very typical neuroscientist all work and no play makes Steve a very typical neuroscientist all work and no play makes Steve a very typical neuroscientist all work and no play makes Steve a very typical neuroscientist all work and no play makes Steve a very typical neuroscientist all work and no play makes Steve a very typical neuroscientist all work and no play makes Steve a very typical neuroscientist all work and no play makes Steve a very typical neuroscientist all work and no play makes Steve a very typical neuroscientist all work and no play makes Steve a very typical neuroscientist all work and no play makes Steve a very typical neuroscientist all work and no play makes Steve a very typical neuroscientist all work and no play makes Steve a very typical neuroscientist all work and no play makes Steve a very typical neuroscientist all work and no play makes Steve a very typical neuroscientist all work and no play makes Steve a very typical neuroscientist all work and no play makes Steve a very typical neuroscientist all work and no play makes Steve a very typical neuroscientist all work and no play makes Steve a very typical neuroscientist all work and no play makes Steve a very typical neuroscientist all work and no play makes Steve a very typical neuroscientist all work and no play makes Steve a very typical neuroscientist all work and no play makes Steve a very typical neuroscientist all work and no play makes Steve a very typical neuroscientist all work and no play makes Steve a very typical neuroscientist all work and no play makes Steve a very typical neuroscientist all work and no play makes Steve a very typical neuroscientist all work and no play makes Steve a very typical neuroscientist all work and no play makes Steve a very typical neuroscientist all work and no play makes Steve a very typical neuroscientist all work and no play makes Steve a very typical neuroscientist all work and no play makes Steve a very typical neuroscientist all work and no play makes Steve a very typical neuroscientist all work and no play makes Steve a very typical neuroscientist all work and no play makes Steve a very typical neuroscientist all work and no play makes Steve a very typical neuroscientist all work and no play makes Steve a very typical neuroscientist all work and no play makes Steve a very typical neuroscientist all work and no play makes Steve a very typical neuroscientist all work and no play makes Steve a very typical neuroscientist all work and no play makes Steve a very typical neuroscientist all work and no play makes Steve a very typical neuroscientist all work and no play makes Steve a very typical neuroscientist all work and no play makes Steve a very typical neuroscientist all work and no play makes Steve a very typical neuroscientist all work and no play makes Steve a very typical neuroscientist all work and no play makes Steve a very typical neuroscientist all work and no play makes Steve a very typical neuroscientist all work and no play makes Steve a very typical neuroscientist all work and no play makes Steve a very typical neuroscientist all work and no play makes Steve a very typical neuroscientist all work and no play makes Steve a very typical neuroscientist all work and no play makes Steve a very typical neuroscientist all work and no play makes Steve a very typical neuroscientist all work and no play makes Steve a very typical neuroscientist all work and no play makes Steve a very typical neuroscientist all work and no play makes Steve a very typical neuroscientist all work and no play makes Steve a very typical neuroscientist all work and no play makes Steve a very typical neuroscientist all work and no play makes Steve a very typical neuroscientist all work and no play makes Steve a very typical neuroscientist all work and no play makes Steve a very typical neuroscientist all work and no play makes Steve a very typical neuroscientist all work and no play makes Steve a very typical neuroscientist all work and no play makes Steve a very typical neuroscientist all work and no play makes Steve a very typical neuroscientist all work and no play makes Steve a very typical neuroscientist all work and no play makes Steve a very typical neuroscientist all work and no play makes Steve a very typical neuroscientist all work and no play makes Steve a very typical neuroscientist all work and no play makes Steve a very typical neuroscientist all work and no play makes Steve a very typical neuroscientist all work and no play makes Steve a very typical neuroscientist all work and no play makes Steve a very typical neuroscientist all work and no play makes Steve a very typical neuroscientist all work and no play makes Steve a very typical neuroscientist all work and no play makes Steve a very typical neuroscientist all work and no play makes Steve a very typical neuroscientist all work and no play makes Steve a very typical neuroscientist all work and no play makes Steve a very typical neuroscientist all work and no play makes Steve a very typical neuroscientist all work and no play makes Steve a very typical neuroscientist all work and no play makes Steve a very typical neuroscientist all work and no play makes Steve a very typical neuroscientist all work and no play makes Steve a very typical neuroscientist all work and no play makes Steve a very typical neuroscientist all work and no play makes Steve a very typical neuroscientist all work and no play makes Steve a very typical neuroscientist all work and no play makes Steve a very typical neuroscientist all work and no play makes Steve a very typical neuroscientist all work and no play makes Steve a very typical neuroscientist all work and no play makes Steve a very typical neuroscientist all work and no play makes Steve a very typical neuroscientist all work and no play makes Steve a very typical neuroscientist all work and no play makes Steve a very typical neuroscientist all work and no play makes Steve a very typical neuroscientist all work and no play makes Steve a very typical neuroscientist all work and no play makes Steve a very typical neuroscientist all work and no play makes Steve a very typical neuroscientist all work and no play makes Steve a very typical neuroscientist all work and no play makes Steve a very typical neuroscientist all work and no play makes Steve a very typical neuroscientist all work and no play makes Steve a very typical neuroscientist all work and no play makes Steve a very typical neuroscientist all work and no play makes Steve a very typical neuroscientist all work and no play makes Steve a very typical neuroscientist all work and no play makes Steve a very typical neuroscientist all work and no play makes Steve a very typical neuroscientist all work and no play makes Steve a very typical neuroscientist all work and no play makes Steve a very typical neuroscientist all work and no play makes Steve a very typical neuroscientist all work and no play makes Steve a very typical neuroscientist all work and no play makes Steve a very typical neuroscientist all work and no play makes Steve a very typical neuroscientist all work and no play makes Steve a very typical neuroscientist all work and no play makes Steve a very typical neuroscientist all work and no play makes Steve a very typical neuroscientist all work and no play makes Steve a very typical neuroscientist all work and no play makes Steve a very typical neuroscientist all work and no play makes Steve a very typical neuroscientist all work and no play makes Steve a very typical neuroscientist all work and no play makes Steve a very typical neuroscientist all work and no play makes Steve a very typical neuroscientist all work and no play makes Steve a very typical neuroscientist all work and no play makes Steve a very typical neuroscientist all work and no play makes Steve a very typical neuroscientist all work and no play makes Steve a very typical neuroscientist all work and no play makes Steve a very typical neuroscientist all work and no play makes Steve a very typical neuroscientist all work and no play makes Steve a very typical neuroscientist all work and no play makes Steve a very typical neuroscientist all work and no play makes Steve a very typical neuroscientist all work and no play makes Steve a very typical neuroscientist all work and no play makes Steve a very typical neuroscientist all work and no play makes Steve a very typical neuroscientist all work and no play makes Steve a very typical neuroscientist all work and no play makes Steve a very typical neuroscientist all work and no play makes Steve a very typical neuroscientist all work and no play makes Steve a very typical neuroscientist all work and no play makes Steve a very typical neuroscientist all work and no play makes Steve a very typical neuroscientist all work and no play makes Steve a very typical neuroscientist all work and no play makes Steve a very typical neuroscientist all work and no play makes Steve a very typical neuroscientist all work and no play makes Steve a very typical neuroscientist all work and no play makes Steve a very typical neuroscientist all work and no play makes Steve a very typical neuroscientist all work and no play makes Steve a very typical neuroscientist all work and no play makes Steve a very typical neuroscientist all work and no play makes Steve a very typical neuroscientist all work and no play makes Steve a very typical neuroscientist all work and no play makes Steve a very typical neuroscientist all work and no play makes Steve a very typical neuroscientist all work and no play makes Steve a very typical neuroscientist all work and no play makes Steve a very typical neuroscientist all work and no play makes Steve a very typical neuroscientist all work and no play makes Steve a very typical neuroscientist all work and no play makes Steve a very typical neuroscientist all work and no play makes Steve a very typical neuroscientist all work and no play makes Steve a very typical neuroscientist all work and no play makes Steve a very typical neuroscientist all work and no play makes Steve a very typical neuroscientist all work and no play makes Steve a very typical neuroscientist all work and no play makes Steve a very typical neuroscientist all work and no play makes Steve a very typical neuroscientist all work and no play makes Steve a very typical neuroscientist all work and no play makes Steve a very typical neuroscientist all work and no play makes Steve a very typical neuroscientist all work and no play makes Steve a very typical neuroscientist all work and no play makes Steve a very typical neuroscientist all work and no play makes Steve a very typical neuroscientist all work and no play makes Steve a very typical neuroscientist all work and no play makes Steve a very typical neuroscientist all work and no play makes Steve a very typical neuroscientist all work and no play makes Steve a very typical neuroscientist all work and no play makes Steve a very typical neuroscientist all work and no play makes Steve a very typical neuroscientist all work and no play makes Steve a very typical neuroscientist all work and no play makes Steve a very typical neuroscientist all work and no play makes Steve a very typical neuroscientist all work and no play makes Steve a very typical neuroscientist all work and no play makes Steve a very typical neuroscientist all work and no play makes Steve a very typical neuroscientist all work and no play makes Steve a very typical neuroscientist all work and no play makes Steve a very typical neuroscientist all work and no play makes Steve a very typical neuroscientist all work and no play makes Steve a very typical neuroscientist all work and no play makes Steve a very typical neuroscientist all work and no play makes Steve a very typical neuroscientist all work and no play makes Steve a very typical neuroscientist all work and no play makes Steve a very typical neuroscientist all work and no play makes Steve a very typical neuroscientist all work and no play makes Steve a very typical neuroscientist all work and no play makes Steve a very typical neuroscientist all work and no play makes Steve a very typical neuroscientist all work and no play makes Steve a very typical neuroscientist all work and no play makes Steve a very typical neuroscientist all work and no play makes Steve a very typical neuroscientist all work and no play makes Steve a very typical neuroscientist all work and no play makes Steve a very typical neuroscientist all work and no play makes Steve a very typical neuroscientist all work and no play makes Steve a very typical neuroscientist all work and no play makes Steve a very typical neuroscientist all work and no play makes Steve a very typical neuroscientist all work and no play makes Steve a very typical neuroscientist all work and no play makes Steve a very typical neuroscientist all work and no play makes Steve a very typical neuroscientist all work and no play makes Steve a very typical neuroscientist all work and no play makes Steve a very typical neuroscientist all work and no play makes Steve a very typical neuroscientist all work and no play makes Steve a very typical neuroscientist all work and no play makes Steve a very typical neuroscientist all work and no play makes Steve a very typical neuroscientist all work and no play makes Steve a very typical neuroscientist all work and no play makes Steve a very typical neuroscientist all work and no play makes Steve a very typical neuroscientist all work and no play makes Steve a very typical neuroscientist all work and no play makes Steve a very typical neuroscientist all work and no play makes Steve a very typical neuroscientist all work and no play makes Steve a very typical neuroscientist all work and no play makes Steve a very typical neuroscientist all work and no play makes Steve a very typical neuroscientist all work and no play makes Steve a very typical neuroscientist all work and no play makes Steve a very typical neuroscientist all work and no play makes Steve a very typical neuroscientist all work and no play makes Steve a very typical neuroscientist all work and no play makes Steve a very typical neuroscientist all work and no play makes Steve a very typical neuroscientist all work and no play makes Steve a very typical neuroscientist all work and no play makes Steve a very typical neuroscientist all work and no play makes Steve a very typical neuroscientist all work and no play makes Steve a very typical neuroscientist all work and no play makes Steve a very typical neuroscientist all work and no play makes Steve a very typical neuroscientist all work and no play makes Steve a very typical neuroscientist all work and no play makes Steve a very typical neuroscientist all work and no play makes Steve a very typical neuroscientist all work and no play makes Steve a very typical neuroscientist all work and no play makes Steve a very typical neuroscientist all work and no play makes Steve a very typical neuroscientist all work and no play makes Steve a very typical neuroscientist all work and no play makes Steve a very typical neuroscientist all work and no play makes Steve a very typical neuroscientist all work and no play makes Steve a very typical neuroscientist all work and no play makes Steve a very typical neuroscientist all work and no play makes Steve a very typical neuroscientist all work and no play makes Steve a very typical neuroscientist all work and no play makes Steve a very typical neuroscientist all work and no play makes Steve a very typical neuroscientist all work and no play makes Steve a very typical neuroscientist all work and no play makes Steve a very typical neuroscientist all work and no play makes Steve a very typical neuroscientist all work and no play makes Steve a very typical neuroscientist all work and no play makes Steve a very typical neuroscientist all work and no play makes Steve a very typical neuroscientist all work and no play makes Steve a very typical neuroscientist all work and no play makes Steve a very typical neuroscientist all work and no play makes Steve a very typical neuroscientist all work and no play makes Steve a very typical neuroscientist all work and no play makes Steve a very typical neuroscientist all work and no play makes Steve a very typical neuroscientist all work and no play makes Steve a very typical neuroscientist all work and no play makes Steve a very typical neuroscientist all work and no play makes Steve a very typical neuroscientist all work and no play makes Steve a very typical neuroscientist all work and no play makes Steve a very typical neuroscientist all work and no play makes Steve a very typical neuroscientist all work and no play makes Steve a very typical neuroscientist all work and no play makes Steve a very typical neuroscientist all work and no play makes Steve a very typical neuroscientist all work and no play makes Steve a very typical neuroscientist all work and no play makes Steve a very typical neuroscientist all work and no play makes Steve a very typical neuroscientist all work and no play makes Steve a very typical neuroscientist all work and no play makes Steve a very typical neuroscientist all work and no play makes Steve a very typical neuroscientist all work and no play makes Steve a very typical neuroscientist all work and no play makes Steve a very typical neuroscientist all work and no play makes Steve a very typical neuroscientist all work and no play makes Steve a very typical neuroscientist all work and no play makes Steve a very typical neuroscientist all work and no play makes Steve a very typical neuroscientist all work and no play makes Steve a very typical neuroscientist all work and no play makes Steve a very typical neuroscientist all work and no play makes Steve a very typical neuroscientist all work and no play makes Steve a very typical neuroscientist all work and no play makes Steve a very typical neuroscientist all work and no play makes Steve a very typical neuroscientist all work and no play makes Steve a very typical neuroscientist all work and no play makes Steve a very typical neuroscientist all work and no play makes Steve a very typical neuroscientist all work and no play makes Steve a very typical neuroscientist all work and no play makes Steve a very typical neuroscientist all work and no play makes Steve a very typical neuroscientist all work and no play makes Steve a very typical neuroscientist all work and no play makes Steve a very typical neuroscientist all work and no play makes Steve a very typical neuroscientist all work and no play makes Steve a very typical neuroscientist all work and no play makes Steve a very typical neuroscientist all work and no play makes Steve a very typical neuroscientist all work and no play makes Steve a very typical neuroscientist all work and no play makes Steve a very typical neuroscientist all work and no play makes Steve a very typical neuroscientist all work and no play makes Steve a very typical neuroscientist all work and no play makes Steve a very typical neuroscientist all work and no play makes Steve a very typical neuroscientist all work and no play makes Steve a very typical neuroscientist all work and no play makes Steve a very typical neuroscientist all work and no play makes Steve a very typical neuroscientist all work and no play makes Steve a very typical neuroscientist all work and no play makes Steve a very typical neuroscientist all work and no play makes Steve a very typical neuroscientist all work and no play makes Steve a very typical neuroscientist all work and no play makes Steve a very typical neuroscientist all work and no play makes Steve a very typical neuroscientist all work and no play makes Steve a very typical neuroscientist all work and no play makes Steve a very typical neuroscientist all work and no play makes Steve a very typical neuroscientist all work and no play makes Steve a very typical neuroscientist all work and no play makes Steve a very typical neuroscientist all work and no play makes Steve a very typical neuroscientist all work and no play__aha! made you look__ makes Steve a very typical neuroscientist all work and no play makes Steve a very typical neuroscientist all work and no play makes Steve a very typical neuroscientist all work and no play makes Steve a very typical neuroscientist all work and no play makes Steve a very typical neuroscientist all work and no play makes Steve a very typical neuroscientist all work and no play makes Steve a very typical neuroscientist all work and no play makes Steve a very typical neuroscientist all work and no play makes Steve a very typical neuroscientist all work and no play makes Steve a very typical neuroscientist all work and no play makes Steve a very typical neuroscientist all work and no play makes Steve a very typical neuroscientist all work and no play makes Steve a very typical neuroscientist all work and no play makes Steve a very typical neuroscientist all work and no play makes Steve a very typical neuroscientist all work and no play makes Steve a very typical neuroscientist all work and no play makes Steve a very typical neuroscientist all work and no play makes Steve a very typical neuroscientist all work and no play makes Steve a very typical neuroscientist all work and no play makes Steve a very typical neuroscientist all work and no play makes Steve a very typical neuroscientist all work and no play makes Steve a very typical neuroscientist all work and no play makes Steve a very typical neuroscientist all work and no play makes Steve a very typical neuroscientist all work and no play makes Steve a very typical neuroscientist all work and no play makes Steve a very typical neuroscientist all work and no play makes Steve a very typical neuroscientist all work and no play makes Steve a very typical neuroscientist all work and no play makes Steve a very typical neuroscientist all work and no play makes Steve a very typical neuroscientist all work and no play makes Steve a very typical neuroscientist all work and no play makes Steve a very typical neuroscientist all work and no play makes Steve a very typical neuroscientist all work and no play makes Steve a very typical neuroscientist all work and no play makes Steve a very typical neuroscientist all work and no play makes Steve a very typical neuroscientist all work and no play makes Steve a very typical neuroscientist all work and no play makes Steve a very typical neuroscientist all work and no play makes Steve a very typical neuroscientist all work and no play makes Steve a very typical neuroscientist all work and no play makes Steve a very typical neuroscientist all work and no play makes Steve a very typical neuroscientist all work and no play makes Steve a very typical neuroscientist all work and no play makes Steve a very typical neuroscientist all work and no play makes Steve a very typical neuroscientist all work and no play makes Steve a very typical neuroscientist all work and no play makes Steve a very typical neuroscientist all work and no play makes Steve a very typical neuroscientist all work and no play makes Steve a very typical neuroscientist all work and no play makes Steve a very typical neuroscientist all work and no play makes Steve a very typical neuroscientist all work and no play makes Steve a very typical neuroscientist all work and no play makes Steve a very typical neuroscientist all work and no play makes Steve a very typical neuroscientist all work and no play makes Steve a very typical neuroscientist all work and no play makes Steve a very typical neuroscientist all work and no play makes Steve a very typical neuroscientist all work and no play makes Steve a very typical neuroscientist all work and no play makes Steve a very typical neuroscientist all work and no play makes Steve a very typical neuroscientist all work and no play makes Steve a very typical neuroscientist all work and no play makes Steve a very typical neuroscientist all work and no play makes Steve a very typical neuroscientist all work and no play makes Steve a very typical neuroscientist all work and no play makes Steve a very typical neuroscientist all work and no play makes Steve a very typical neuroscientist all work and no play makes Steve a very typical neuroscientist all work and no play makes Steve a very typical neuroscientist all work and no play makes Steve a very typical neuroscientist all work and no play makes Steve a very typical neuroscientist all work and no play makes Steve a very typical neuroscientist all work and no play makes Steve a very typical neuroscientist all work and no play makes Steve a very typical neuroscientist all work and no play makes Steve a very typical neuroscientist all work and no play makes Steve a very typical neuroscientist all work and no play makes Steve a very typical neuroscientist all work and no play makes Steve a very typical neuroscientist all work and no play makes Steve a very typical neuroscientist all work and no play makes Steve a very typical neuroscientist all work and no play makes Steve a very typical neuroscientist all work and no play makes Steve a very typical neuroscientist all work and no play makes Steve a very typical neuroscientist all work and no play makes Steve a very typical neuroscientist all work and no play makes Steve a very typical neuroscientist all work and no play makes Steve a very typical neuroscientist all work and no play makes Steve a very typical neuroscientist all work and no play makes Steve a very typical neuroscientist all work and no play makes Steve a very typical neuroscientist all work and no play makes Steve a very typical neuroscientist all work and no play makes Steve a very typical neuroscientist all work and no play makes Steve a very typical neuroscientist all work and no play makes Steve a very typical neuroscientist all work and no play makes Steve a very typical neuroscientist all work and no play makes Steve a very typical neuroscientist all work and no play makes Steve a very typical neuroscientist all work and no play makes Steve a very typical neuroscientist all work and no play makes Steve a very typical neuroscientist all work and no play makes Steve a very typical neuroscientist all work and no play makes Steve a very typical neuroscientist all work and no play makes Steve a very typical neuroscientist all work and no play makes Steve a very typical neuroscientist all work and no play makes Steve a very typical neuroscientist all work and no play makes Steve a very typical neuroscientist all work and no play makes Steve a very typical neuroscientist all work and no play makes Steve a very typical neuroscientist all work and no play makes Steve a very typical neuroscientist all work and no play makes Steve a very typical neuroscientist all work and no play makes Steve a very typical neuroscientist all work and no play makes Steve a very typical neuroscientist all work and no play makes Steve a very typical neuroscientist all work and no play makes Steve a very typical neuroscientist all work and no play makes Steve a very typical neuroscientist all work and no play makes Steve a very typical neuroscientist all work and no play makes Steve a very typical neuroscientist all work and no play makes Steve a very typical neuroscientist all work and no play makes Steve a very typical neuroscientist all work and no play makes Steve a very typical neuroscientist all work and no play makes Steve a very typical neuroscientist all work and no play makes Steve a very typical neuroscientist all work and no play makes Steve a very typical neuroscientist all work and no play makes Steve a very typical neuroscientist all work and no play makes Steve a very typical neuroscientist all work and no play makes Steve a very typical neuroscientist all work and no play makes Steve a very typical neuroscientist all work and no play makes Steve a very typical neuroscientist all work and no play makes Steve a very typical neuroscientist all work and no play makes Steve a very typical neuroscientist all work and no play makes Steve a very typical neuroscientist all work and no play makes Steve a very typical neuroscientist all work and no play makes Steve a very typical neuroscientist all work and no play makes Steve a very typical neuroscientist all work and no play makes Steve a very typical neuroscientist all work and no play makes Steve a very typical neuroscientist all work and no play makes Steve a very typical neuroscientist all work and no play makes Steve a very typical neuroscientist all work and no play makes Steve a very typical neuroscientist all work and no play makes Steve a very typical neuroscientist all work and no play makes Steve a very typical neuroscientist all work and no play makes Steve a very typical neuroscientist all work and no play makes Steve a very typical neuroscientist all work and no play makes Steve a very typical neuroscientist all work and no play makes Steve a very typical neuroscientist all work and no play makes Steve a very typical neuroscientist all work and no play makes Steve a very typical neuroscientist all work and no play makes Steve a very typical neuroscientist all work and no play makes Steve a very typical neuroscientist all work and no play makes Steve a very typical neuroscientist all work and no play makes Steve a very typical neuroscientist all work and no play makes Steve a very typical neuroscientist all work and no play makes Steve a very typical neuroscientist all work and no play makes Steve a very typical neuroscientist all work and no play makes Steve a very typical neuroscientist all work and no play makes Steve a very typical neuroscientist all work and no play makes Steve a very typical neuroscientist all work and no play makes Steve a very typical neuroscientist all work and no play makes Steve a very typical neuroscientist all work and no play makes Steve a very typical neuroscientist all work and no play makes Steve a very typical neuroscientist all work and no play makes Steve a very typical neuroscientist all work and no play makes Steve a very typical neuroscientist all work and no play makes Steve a very typical neuroscientist all work and no play makes Steve a very typical neuroscientist all work and no play makes Steve a very typical neuroscientist all work and no play makes Steve a very typical neuroscientist all work and no play makes Steve a very typical neuroscientist all work and no play makes Steve a very typical neuroscientist all work and no play makes Steve a very typical neuroscientist all work and no play makes Steve a very typical neuroscientist all work and no play makes Steve a very typical neuroscientist all work and no play makes Steve a very typical neuroscientist all work and no play makes Steve a very typical neuroscientist all work and no play makes Steve a very typical neuroscientist all work and no play makes Steve a very typical neuroscientist all work and no play makes Steve a very typical neuroscientist all work and no play makes Steve a very typical neuroscientist all work and no play makes Steve a very typical neuroscientist all work and no play makes Steve a very typical neuroscientist all work and no play makes Steve a very typical neuroscientist all work and no play makes Steve a very typical neuroscientist all work and no play makes Steve a very typical neuroscientist all work and no play makes Steve a very typical neuroscientist all work and no play makes Steve a very typical neuroscientist all work and no play makes Steve a very typical neuroscientist all work and no play makes Steve a very typical neuroscientist all work and no play makes Steve a very typical neuroscientist all work and no play makes Steve a very typical neuroscientist all work and no play makes Steve a very typical neuroscientist all work and no play makes Steve a very typical neuroscientist all work and no play makes Steve a very typical neuroscientist all work and no play makes Steve a very typical neuroscientist all work and no play makes Steve a very typical neuroscientist all work and no play makes Steve a very typical neuroscientist all work and no play makes Steve a very typical neuroscientist all work and no play makes Steve a very typical neuroscientist all work and no play makes Steve a very typical neuroscientist all work and no play makes Steve a very typical neuroscientist all work and no play makes Steve a very typical neuroscientist all work and no play makes Steve a very typical neuroscientist all work and no play makes Steve a very typical neuroscientist all work and no play makes Steve a very typical neuroscientist all work and no play makes Steve a very typical neuroscientist all work and no play makes Steve a very typical neuroscientist all work and no play makes Steve a very typical neuroscientist all work and no play makes Steve a very typical neuroscientist all work and no play makes Steve a very typical neuroscientist all work and no play makes Steve a very typical neuroscientist all work and no play makes Steve a very typical neuroscientist all work and no play makes Steve a very typical neuroscientist all work and no play makes Steve a very typical neuroscientist all work and no play makes Steve a very typical neuroscientist all work and no play makes Steve a very typical neuroscientist all work and no play makes Steve a very typical neuroscientist all work and no play makes Steve a very typical neuroscientist all work and no play makes Steve a very typical neuroscientist all work and no play makes Steve a very typical neuroscientist all work and no play makes Steve a very typical neuroscientist all work and no play makes Steve a very typical neuroscientist all work and no play makes Steve a very typical neuroscientist all work and no play makes Steve a very typical neuroscientist all work and no play makes Steve a very typical neuroscientist all work and no play makes Steve a very typical neuroscientist all work and no play makes Steve a very typical neuroscientist all work and no play makes Steve a very typical neuroscientist all work and no play makes Steve a very typical neuroscientist all work and no play makes Steve a very typical neuroscientist all work and no play makes Steve a very typical neuroscientist all work and no play makes Steve a very typical neuroscientist all work and no play makes Steve a very typical neuroscientist all work and no play makes Steve a very typical neuroscientist all work and no play makes Steve a very typical neuroscientist all work and no play makes Steve a very typical neuroscientist all work and no play makes Steve a very typical neuroscientist all work and no play makes Steve a very typical neuroscientist all work and no play makes Steve a very typical neuroscientist all work and no play makes Steve a very typical neuroscientist all work and no play makes Steve a very typical neuroscientist all work and no play makes Steve a very typical neuroscientist all work and no play makes Steve a very typical neuroscientist all work and no play makes Steve a very typical neuroscientist all work and no play makes Steve a very typical neuroscientist all work and no play makes Steve a very typical neuroscientist all work and no play makes Steve a very typical neuroscientist all work and no play makes Steve a very typical neuroscientist all work and no play makes Steve a very typical neuroscientist all work and no play makes Steve a very typical neuroscientist all work and no play makes Steve a very typical neuroscientist all work and no play makes Steve a very typical neuroscientist all work and no play makes Steve a very typical neuroscientist all work and no play makes Steve a very typical neuroscientist all work and no play makes Steve a very typical neuroscientist all work and no play makes Steve a very typical neuroscientist all work and no play makes Steve a very typical neuroscientist all work and no play makes Steve a very typical neuroscientist all work and no play makes Steve a very typical neuroscientist all work and no play makes Steve a very typical neuroscientist all work and no play makes Steve a very typical neuroscientist all work and no play makes Steve a very typical neuroscientist all work and no play makes Steve a very typical neuroscientist all work and no play makes Steve a very typical neuroscientist all work and no play makes Steve a very typical neuroscientist all work and no play makes Steve a very typical neuroscientist all work and no play makes Steve a very typical neuroscientist all work and no play makes Steve a very typical neuroscientist all work and no play makes Steve a very typical neuroscientist all work and no play makes Steve a very typical neuroscientist all work and no play makes Steve a very typical neuroscientist all work and no play makes Steve a very typical neuroscientist all work and no play makes Steve a very typical neuroscientist all work and no play makes Steve a very typical neuroscientist all work and no play makes Steve a very typical neuroscientist all work and no play makes Steve a very typical neuroscientist all work and no play makes Steve a very typical neuroscientist all work and no play makes Steve a very typical neuroscientist all work and no play makes Steve a very typical neuroscientist all work and no play makes Steve a very typical neuroscientist all work and no play makes Steve a very typical neuroscientist all work and no play makes Steve a very typical neuroscientist all work and no play makes Steve a very typical neuroscientist all work and no play makes Steve a very typical neuroscientist all work and no play makes Steve a very typical neuroscientist all work and no play makes Steve a very typical neuroscientist all work and no play makes Steve a very typical neuroscientist all work and no play makes Steve a very typical neuroscientist all work and no play makes Steve a very typical neuroscientist all work and no play makes Steve a very typical neuroscientist all work and no play makes Steve a very typical neuroscientist all work and no play makes Steve a very typical neuroscientist all work and no play makes Steve a very typical neuroscientist all work and no play makes Steve a very typical neuroscientist all work and no play makes Steve a very typical neuroscientist all work and no play makes Steve a very typical neuroscientist all work and no play makes Steve a very typical neuroscientist all work and no play makes Steve a very typical neuroscientist all work and no play makes Steve a very typical neuroscientist all work and no play makes Steve a very typical neuroscientist all work and no play makes Steve a very typical neuroscientist all work and no play makes Steve a very typical neuroscientist all work and no play makes Steve a very typical neuroscientist all work and no play makes Steve a very typical neuroscientist all work and no play makes Steve a very typical neuroscientist all work and no play makes Steve a very typical neuroscientist all work and no play makes Steve a very typical neuroscientist all work and no play makes Steve a very typical neuroscientist all work and no play makes Steve a very typical neuroscientist all work and no play makes Steve a very typical neuroscientist all work and no play makes Steve a very typical neuroscientist all work and no play makes Steve a very typical neuroscientist all work and no play makes Steve a very typical neuroscientist all work and no play makes Steve a very typical neuroscientist all work and no play makes Steve a very typical neuroscientist all work and no play makes Steve a very typical neuroscientist all work and no play makes Steve a very typical neuroscientist all work and no play makes Steve a very typical neuroscientist all work and no play makes Steve a very typical neuroscientist all work and no play makes Steve a very typical neuroscientist all work and no play makes Steve a very typical neuroscientist all work and no play makes Steve a very typical neuroscientist all work and no play makes Steve a very typical neuroscientist all work and no play makes Steve a very typical neuroscientist all work and no play makes Steve a very typical neuroscientist all work and no play makes Steve a very typical neuroscientist all work and no play makes Steve a very typical neuroscientist all work and no play makes Steve a very typical neuroscientist all work and no play makes Steve a very typical neuroscientist all work and no play makes Steve a very typical neuroscientist all work and no play makes Steve a very typical neuroscientist all work and no play makes Steve a very typical neuroscientist all work and no play makes Steve a very typical neuroscientist all work and no play makes Steve a very typical neuroscientist all work and no play makes Steve a very typical neuroscientist all work and no play makes Steve a very typical neuroscientist all work and no play makes Steve a very typical neuroscientist all work and no play makes Steve a very typical neuroscientist all work and no play makes Steve a very typical neuroscientist all work and no play makes Steve a very typical neuroscientist all work and no play makes Steve a very typical neuroscientist all work and no play makes Steve a very typical neuroscientist all work and no play makes Steve a very typical neuroscientist all work and no play makes Steve a very typical neuroscientist all work and no play makes Steve a very typical neuroscientist all work and no play makes Steve a very typical neuroscientist all work and no play makes Steve a very typical neuroscientist all work and no play makes Steve a very typical neuroscientist all work and no play makes Steve a very typical neuroscientist all work and no play makes Steve a very typical neuroscientist all work and no play makes Steve a very typical neuroscientist all work and no play makes Steve a very typical neuroscientist all work and no play makes Steve a very typical neuroscientist all work and no play makes Steve a very typical neuroscientist all work and no play makes Steve a very typical neuroscientist all work and no play makes Steve a very typical neuroscientist all work and no play makes Steve a very typical neuroscientist all work and no play makes Steve a very typical neuroscientist all work and no play makes Steve a very typical neuroscientist all work and no play makes Steve a very typical neuroscientist all work and no play makes Steve a very typical neuroscientist all work and no play makes Steve a very typical neuroscientist all work and no play makes Steve a very typical neuroscientist all work and no play makes Steve a very typical neuroscientist all work and no play makes Steve a very typical neuroscientist all work and no play makes Steve a very typical neuroscientist all work and no play makes Steve a very typical neuroscientist all work and no play makes Steve a very typical neuroscientist all work and no play makes Steve a very typical neuroscientist all work and no play makes Steve a very typical neuroscientist all work and no play makes Steve a very typical neuroscientist all work and no play makes Steve a very typical neuroscientist all work and no play makes Steve a very typical neuroscientist all work and no play makes Steve a very typical neuroscientist all work and no play makes Steve a very typical neuroscientist all work and no play makes Steve a very typical neuroscientist all work and no play makes Steve a very typical neuroscientist all work and no play makes Steve a very typical neuroscientist all work and no play makes Steve a very typical neuroscientist all work and no play makes Steve a very typical neuroscientist all work and no play makes Steve a very typical neuroscientist all work and no play makes Steve a very typical neuroscientist all work and no play makes Steve a very typical neuroscientist all work and no play makes Steve a very typical neuroscientist all work and no play makes Steve a very typical neuroscientist all work and no play makes Steve a very typical neuroscientist all work and no play makes Steve a very typical neuroscientist all work and no play makes Steve a very typical neuroscientist all work and no play makes Steve a very typical neuroscientist all work and no play makes Steve a very typical neuroscientist all work and no play makes Steve a very typical neuroscientist all work and no play makes Steve a very typical neuroscientist all work and no play makes Steve a very typical neuroscientist all work and no play makes Steve a very typical neuroscientist all work and no play makes Steve a very typical neuroscientist all work and no play makes Steve a very typical neuroscientist all work and no play makes Steve a very typical neuroscientist all work and no play makes Steve a very typical neuroscientist all work and no play makes Steve a very typical neuroscientist all work and no play makes Steve a very typical neuroscientist all work and no play makes Steve a very typical neuroscientist all work and no play makes Steve a very typical neuroscientist all work and no play makes Steve a very typical neuroscientist all work and no play makes Steve a very typical neuroscientist all work and no play makes Steve a very typical neuroscientist all work and no play makes Steve a very typical neuroscientist all work and no play makes Steve a very typical neuroscientist all work and no play makes Steve a very typical neuroscientist all work and no play makes Steve a very typical neuroscientist all work and no play makes Steve a very typical neuroscientist all work and no play makes Steve a very typical neuroscientist all work and no play makes Steve a very typical neuroscientist all work and no play makes Steve a very typical neuroscientist all work and no play makes Steve a very typical neuroscientist all work and no play makes Steve a very typical neuroscientist all work and no play makes Steve a very typical neuroscientist all work and no play makes Steve a very typical neuroscientist all work and no play makes Steve a very typical neuroscientist all work and no play makes Steve a very typical neuroscientist all work and no play makes Steve a very typical neuroscientist all work and no play makes Steve a very typical neuroscientist all work and no play makes Steve a very typical neuroscientist all work and no play makes Steve a very typical neuroscientist all work and no play makes Steve a very typical neuroscientist all work and no play makes Steve a very typical neuroscientist all work and no play makes Steve a very typical neuroscientist all work and no play makes Steve a very typical neuroscientist all work and no play makes Steve a very typical neuroscientist all work and no play makes Steve a very typical neuroscientist all work and no play makes Steve a very typical neuroscientist all work and no play makes Steve a very typical neuroscientist all work and no play makes Steve a very typical neuroscientist all work and no play makes Steve a very typical neuroscientist all work and no play makes Steve a very typical neuroscientist all work and no play makes Steve a very typical neuroscientist all work and no play makes Steve a very typical neuroscientist all work and no play makes Steve a very typical neuroscientist all work and no play makes Steve a very typical neuroscientist all work and no play makes Steve a very typical neuroscientist all work and no play makes Steve a very typical neuroscientist all work and no play makes Steve a very typical neuroscientist all work and no play makes Steve a very typical neuroscientist all work and no play makes Steve a very typical neuroscientist all work and no play makes Steve a very typical neuroscientist all work and no play makes Steve a very typical neuroscientist all work and no play makes Steve a very typical neuroscientist all work and no play makes Steve a very typical neuroscientist all work and no play makes Steve a very typical neuroscientist all work and no play makes Steve a very typical neuroscientist all work and no play makes Steve a very typical neuroscientist all work and no play makes Steve a very typical neuroscientist all work and no play makes Steve a very typical neuroscientist all work and no play makes Steve a very typical neuroscientist all work and no play makes Steve a very typical neuroscientist all work and no play makes Steve a very typical neuroscientist all work and no play makes Steve a very typical neuroscientist all work and no play makes Steve a very typical neuroscientist all work and no play makes Steve a very typical neuroscientist all work and no play makes Steve a very typical neuroscientist all work and no play makes Steve a very typical neuroscientist all work and no play makes Steve a very typical neuroscientist all work and no play makes Steve a very typical neuroscientist all work and no play makes Steve a very typical neuroscientist all work and no play makes Steve a very typical neuroscientist all work and no play makes Steve a very typical neuroscientist all work and no play makes Steve a very typical neuroscientist all work and no play makes Steve a very typical neuroscientist all work and no play makes Steve a very typical neuroscientist all work and no play makes Steve a very typical neuroscientist all work and no play makes Steve a very typical neuroscientist all work and no play makes Steve a very typical neuroscientist all work and no play makes Steve a very typical neuroscientist all work and no play makes Steve a very typical neuroscientist all work and no play makes Steve a very typical neuroscientist all work and no play makes Steve a very typical neuroscientist all work and no play makes Steve a very typical neuroscientist all work and no play makes Steve a very typical neuroscientist all work and no play makes Steve a very typical neuroscientist all work and no play makes Steve a very typical neuroscientist all work and no play makes Steve a very typical neuroscientist all work and no play makes Steve a very typical neuroscientist all work and no play makes Steve a very typical neuroscientist all work and no play makes Steve a very typical neuroscientist all work and no play makes Steve a very typical neuroscientist all work and no play makes Steve a very typical neuroscientist all work and no play makes Steve a very typical neuroscientist all work and no play makes Steve a very typical neuroscientist all work and no play makes Steve a very typical neuroscientist all work and no play makes Steve a very typical neuroscientist all work and no play makes Steve a very typical neuroscientist all work and no play makes Steve a very typical neuroscientist all work and no play makes Steve a very typical neuroscientist all work and no play makes Steve a very typical neuroscientist all work and no play makes Steve a very typical neuroscientist all work and no play makes Steve a very typical neuroscientist all work and no play makes Steve a very typical neuroscientist all work and no play makes Steve a very typical neuroscientist all work and no play makes Steve a very typical neuroscientist all work and no play makes Steve a very typical neuroscientist all work and no play makes Steve a very typical neuroscientist all work and no play makes Steve a very typical neuroscientist all work and no play makes Steve a very typical neuroscientist all work and no play makes Steve a very typical neuroscientist all work and no play makes Steve a very typical neuroscientist all work and no play makes Steve a very typical neuroscientist all work and no play makes Steve a very typical neuroscientist all work and no play makes Steve a very typical neuroscientist all work and no play makes Steve a very typical neuroscientist all work and no play makes Steve a very typical neuroscientist all work and no play makes Steve a very typical neuroscientist all work and no play makes Steve a very typical neuroscientist all work and no play makes Steve a very typical neuroscientist all work and no play makes Steve a very typical neuroscientist all work and no play makes Steve a very typical neuroscientist all work and no play makes Steve a very typical neuroscientist all work and no play makes Steve a very typical neuroscientist all work and no play makes Steve a very typical neuroscientist all work and no play makes Steve a very typical neuroscientist all work and no play makes Steve a very typical neuroscientist all work and no play makes Steve a very typical neuroscientist all work and no play makes Steve a very typical neuroscientist all work and no play makes Steve a very typical neuroscientist all work and no play makes Steve a very typical neuroscientist all work and no play makes Steve a very typical neuroscientist all work and no play makes Steve a very typical neuroscientist all work and no play makes Steve a very typical neuroscientist all work and no play makes Steve a very typical neuroscientist all work and no play makes Steve a very typical neuroscientist all work and no play makes Steve a very typical neuroscientist all work and no play makes Steve a very typical neuroscientist all work and no play makes Steve a very typical neuroscientist all work and no play makes Steve a very typical neuroscientist all work and no play makes Steve a very typical neuroscientist all work and no play makes Steve a very typical neuroscientist all work and no play makes Steve a very typical neuroscientist all work and no play makes Steve a very typical neuroscientist all work and no play makes Steve a very typical neuroscientist all work and no play makes Steve a very typical neuroscientist all work and no play makes Steve a very typical neuroscientist all work and no play makes Steve a very typical neuroscientist all work and no play makes Steve a very typical neuroscientist all work and no play makes Steve a very typical neuroscientist all work and no play makes Steve a very typical neuroscientist all work and no play makes Steve a very typical neuroscientist all work and no play makes Steve a very typical neuroscientist all work and no play makes Steve a very typical neuroscientist all work and no play makes Steve a very typical neuroscientist all work and no play makes Steve a very typical neuroscientist all work and no play makes Steve a very typical neuroscientist all work and no play makes Steve a very typical neuroscientist all work and no play makes Steve a very typical neuroscientist all work and no play makes Steve a very typical neuroscientist all work and no play makes Steve a very typical neuroscientist all work and no play makes Steve a very typical neuroscientist all work and no play makes Steve a very typical neuroscientist all work and no play makes Steve a very typical neuroscientist all work and no play makes Steve a very typical neuroscientist all work and no play makes Steve a very typical neuroscientist all work and no play makes Steve a very typical neuroscientist all work and no play makes Steve a very typical neuroscientist all work and no play makes Steve a very typical neuroscientist all work and no play makes Steve a very typical neuroscientist all work and no play makes Steve a very typical neuroscientist all work and no play makes Steve a very typical neuroscientist all work and no play makes Steve a very typical neuroscientist all work and no play makes Steve a very typical neuroscientist all work and no play makes Steve a very typical neuroscientist all work and no play makes Steve a very typical neuroscientist all work and no play makes Steve a very typical neuroscientist all work and no play makes Steve a very typical neuroscientist all work and no play makes Steve a very typical neuroscientist all work and no play makes Steve a very typical neuroscientist all work and no play makes Steve a very typical neuroscientist all work and no play makes Steve a very typical neuroscientist all work and no play makes Steve a very typical neuroscientist all work and no play makes Steve a very typical neuroscientist all work and no play makes Steve a very typical neuroscientist all work and no play makes Steve a very typical neuroscientist all work and no play makes Steve a very typical neuroscientist all work and no play makes Steve a very typical neuroscientist all work and no play makes Steve a very typical neuroscientist all work and no play makes Steve a very typical neuroscientist all work and no play makes Steve a very typical neuroscientist all work and no play makes Steve a very typical neuroscientist all work and no play makes Steve a very typical neuroscientist all work and no play makes Steve a very typical neuroscientist all work and no play makes Steve a very typical neuroscientist all work and no play makes Steve a very typical neuroscientist all work and no play makes Steve a very typical neuroscientist all work and no play makes Steve a very typical neuroscientist all work and no play makes Steve a very typical neuroscientist all work and no play makes Steve a very typical neuroscientist all work and no play makes Steve a very typical neuroscientist all work and no play makes Steve a very typical neuroscientist all work and no play makes Steve a very typical neuroscientist all work and no play makes Steve a very typical neuroscientist all work and no play makes Steve a very typical neuroscientist all work and no play makes Steve a very typical neuroscientist all work and no play makes Steve a very typical neuroscientist all work and no play makes Steve a very typical neuroscientist all work and no play makes Steve a very typical neuroscientist all work and no play makes Steve a very typical neuroscientist all work and no play makes Steve a very typical neuroscientist all work and no play makes Steve a very typical neuroscientist all work and no play makes Steve a very typical neuroscientist all work and no play makes Steve a very typical neuroscientist all work and no play makes Steve a very typical neuroscientist all work and no play makes Steve a very typical neuroscientist all work and no play makes Steve a very typical neuroscientist all work and no play makes Steve a very typical neuroscientist all work and no play makes Steve a very typical neuroscientist all work and no play makes Steve a very typical neuroscientist all work and no play makes Steve a very typical neuroscientist all work and no play makes Steve a very typical neuroscientist all work and no play makes Steve a very typical neuroscientist all work and no play makes Steve a very typical neuroscientist all work and no play makes Steve a very typical neuroscientist all work and no play makes Steve a very typical neuroscientist all work and no play makes Steve a very typical neuroscientist all work and no play makes Steve a very typical neuroscientist all work and no play makes Steve a very typical neuroscientist all work and no play makes Steve a very typical neuroscientist all work and no play makes Steve a very typical neuroscientist all work and no play makes Steve a very typical neuroscientist \n"
     ]
    },
    {
     "data": {
      "text/plain": [
       "True"
      ]
     },
     "execution_count": 57,
     "metadata": {},
     "output_type": "execute_result"
    }
   ],
   "source": [
    "# QUESTION 5 \n",
    "# a) load the example dataset '/resources/strings_example_1.txt'\n",
    " \n",
    "file = 'strings_example1.text'\n",
    "file_path = '/Users/loukia/Jupyter projects/week_1/assignments/resources/strings_example_1.txt'\n",
    "with open(file_path, 'r') as input_file:\n",
    "    text = input_file.read()\n",
    "    \n",
    "\n",
    "\n",
    "# b) change the vowels back to normal characters\n",
    "\n",
    "vowel_correction = str.maketrans('&310', 'aeio') \n",
    "# vowel_correction = file_path.maketrans('&310', 'aeio') this should also work\n",
    "\n",
    "translated_text = text.translate(vowel_correction)\n",
    "print(translated_text)\n"
   ]
  },
  {
   "cell_type": "code",
   "execution_count": 58,
   "metadata": {},
   "outputs": [
    {
     "data": {
      "text/plain": [
       "[('s', 3000),\n",
       " ('n', 4000),\n",
       " ('c', 2000),\n",
       " ('d', 1001),\n",
       " ('k', 2001),\n",
       " ('S', 1000),\n",
       " ('e', 6001),\n",
       " ('a', 6003),\n",
       " ('i', 3000),\n",
       " ('m', 1001),\n",
       " ('p', 2000),\n",
       " ('r', 3000),\n",
       " ('h', 1),\n",
       " ('o', 3003),\n",
       " ('v', 2000),\n",
       " ('y', 3001),\n",
       " ('l', 4001),\n",
       " ('!', 1),\n",
       " ('w', 1000),\n",
       " (' ', 11003),\n",
       " ('t', 4000),\n",
       " ('u', 1001),\n",
       " ('_', 4)]"
      ]
     },
     "execution_count": 58,
     "metadata": {},
     "output_type": "execute_result"
    }
   ],
   "source": [
    "# c) locate the hidden substring (HINT: the it starts and ends with __)\n",
    "'_' in 'translated_text'\n",
    "limit_sequence = '_' # they are giving it a name (hence substring) because it is easier to locate it\n",
    "\n",
    "\"\"\"It is a good idea to extract literals (numbers or strings) as variables\n",
    "as you can \n",
    "1) Explain what they are by giving them a meaningful name\n",
    "2) Reuse them (see below len(limit_sequence) instead of having to write the length directly.\n",
    "This makes your code more generic and hence more reusable in different contexts. We will see more\n",
    "about this when we talk about functions.\n",
    "\"\"\"\n",
    "start = translated_text.find(limit_sequence) #this will only return -1 it means that it's there\n",
    "end = translated_text.rfind(limit_sequence)\n",
    "\n",
    "# d) remove this substring and save the modified text in a new variable. Show that this is no longer the same as the original\n",
    "\n",
    "mutable_string_list = list(translated_text) #this is making the translated list into a pythonic LIST\n",
    "del mutable_string_list[start:end+len(limit_sequence)] #this makes no sense to me\n",
    "\n",
    "letters_in_translated_text = set(translated_text)\n",
    "counts = [(char, translated_text.count(char)) for char in letters_in_translated_text]\n",
    "\n",
    "\"\"\"alternatively\"\"\"\n",
    "counts = [translated_text.count(char) for char in letters_in_translated_text]\n",
    "list(zip(letters_in_translated_text, counts))\n",
    "\n",
    "\n",
    "# e) find the counts of each letter in the text such that:\n",
    "    # 'aaAabb dddDD hhcc' >>> [('d',5), ('a',4), ('b',2), ('c',2), ('h', 2)]\n",
    " "
   ]
  },
  {
   "cell_type": "code",
   "execution_count": 41,
   "metadata": {},
   "outputs": [
    {
     "data": {
      "text/plain": [
       "'all work and no play makes Steve a very typical neuroscientist all work and no play makes Steve a very typical neuroscientist all work and no play makes Steve a very typical neuroscientist all work and no play makes Steve a very typical neuroscientist all work and no play makes Steve a very typical neuroscientist all work and no play makes Steve a very typical neuroscientist all work and no play makes Steve a very typical neuroscientist all work and no play makes Steve a very typical neuroscientist all work and no play makes Steve a very typical neuroscientist all work and no play makes Steve a very typical neuroscientist all work and no play makes Steve a very typical neuroscientist all work and no play makes Steve a very typical neuroscientist all work and no play makes Steve a very typical neuroscientist all work and no play makes Steve a very typical neuroscientist all work and no play makes Steve a very typical neuroscientist all work and no play makes Steve a very typical neuroscientist all work and no play makes Steve a very typical neuroscientist all work and no play makes Steve a very typical neuroscientist all work and no play makes Steve a very typical neuroscientist all work and no play makes Steve a very typical neuroscientist all work and no play makes Steve a very typical neuroscientist all work and no play makes Steve a very typical neuroscientist all work and no play makes Steve a very typical neuroscientist all work and no play makes Steve a very typical neuroscientist all work and no play makes Steve a very typical neuroscientist all work and no play makes Steve a very typical neuroscientist all work and no play makes Steve a very typical neuroscientist all work and no play makes Steve a very typical neuroscientist all work and no play makes Steve a very typical neuroscientist all work and no play makes Steve a very typical neuroscientist all work and no play makes Steve a very typical neuroscientist all work and no play makes Steve a very typical neuroscientist all work and no play makes Steve a very typical neuroscientist all work and no play makes Steve a very typical neuroscientist all work and no play makes Steve a very typical neuroscientist all work and no play makes Steve a very typical neuroscientist all work and no play makes Steve a very typical neuroscientist all work and no play makes Steve a very typical neuroscientist all work and no play makes Steve a very typical neuroscientist all work and no play makes Steve a very typical neuroscientist all work and no play makes Steve a very typical neuroscientist all work and no play makes Steve a very typical neuroscientist all work and no play makes Steve a very typical neuroscientist all work and no play makes Steve a very typical neuroscientist all work and no play makes Steve a very typical neuroscientist all work and no play makes Steve a very typical neuroscientist all work and no play makes Steve a very typical neuroscientist all work and no play makes Steve a very typical neuroscientist all work and no play makes Steve a very typical neuroscientist all work and no play makes Steve a very typical neuroscientist all work and no play makes Steve a very typical neuroscientist all work and no play makes Steve a very typical neuroscientist all work and no play makes Steve a very typical neuroscientist all work and no play makes Steve a very typical neuroscientist all work and no play makes Steve a very typical neuroscientist all work and no play makes Steve a very typical neuroscientist all work and no play makes Steve a very typical neuroscientist all work and no play makes Steve a very typical neuroscientist all work and no play makes Steve a very typical neuroscientist all work and no play makes Steve a very typical neuroscientist all work and no play makes Steve a very typical neuroscientist all work and no play makes Steve a very typical neuroscientist all work and no play makes Steve a very typical neuroscientist all work and no play makes Steve a very typical neuroscientist all work and no play makes Steve a very typical neuroscientist all work and no play makes Steve a very typical neuroscientist all work and no play makes Steve a very typical neuroscientist all work and no play makes Steve a very typical neuroscientist all work and no play makes Steve a very typical neuroscientist all work and no play makes Steve a very typical neuroscientist all work and no play makes Steve a very typical neuroscientist all work and no play makes Steve a very typical neuroscientist all work and no play makes Steve a very typical neuroscientist all work and no play makes Steve a very typical neuroscientist all work and no play makes Steve a very typical neuroscientist all work and no play makes Steve a very typical neuroscientist all work and no play makes Steve a very typical neuroscientist all work and no play makes Steve a very typical neuroscientist all work and no play makes Steve a very typical neuroscientist all work and no play makes Steve a very typical neuroscientist all work and no play makes Steve a very typical neuroscientist all work and no play makes Steve a very typical neuroscientist all work and no play makes Steve a very typical neuroscientist all work and no play makes Steve a very typical neuroscientist all work and no play makes Steve a very typical neuroscientist all work and no play makes Steve a very typical neuroscientist all work and no play makes Steve a very typical neuroscientist all work and no play makes Steve a very typical neuroscientist all work and no play makes Steve a very typical neuroscientist all work and no play makes Steve a very typical neuroscientist all work and no play makes Steve a very typical neuroscientist all work and no play makes Steve a very typical neuroscientist all work and no play makes Steve a very typical neuroscientist all work and no play makes Steve a very typical neuroscientist all work and no play makes Steve a very typical neuroscientist all work and no play makes Steve a very typical neuroscientist all work and no play makes Steve a very typical neuroscientist all work and no play makes Steve a very typical neuroscientist all work and no play makes Steve a very typical neuroscientist all work and no play makes Steve a very typical neuroscientist all work and no play makes Steve a very typical neuroscientist all work and no play makes Steve a very typical neuroscientist all work and no play makes Steve a very typical neuroscientist all work and no play makes Steve a very typical neuroscientist all work and no play makes Steve a very typical neuroscientist all work and no play makes Steve a very typical neuroscientist all work and no play makes Steve a very typical neuroscientist all work and no play makes Steve a very typical neuroscientist all work and no play makes Steve a very typical neuroscientist all work and no play makes Steve a very typical neuroscientist all work and no play makes Steve a very typical neuroscientist all work and no play makes Steve a very typical neuroscientist all work and no play makes Steve a very typical neuroscientist all work and no play makes Steve a very typical neuroscientist all work and no play makes Steve a very typical neuroscientist all work and no play makes Steve a very typical neuroscientist all work and no play makes Steve a very typical neuroscientist all work and no play makes Steve a very typical neuroscientist all work and no play makes Steve a very typical neuroscientist all work and no play makes Steve a very typical neuroscientist all work and no play makes Steve a very typical neuroscientist all work and no play makes Steve a very typical neuroscientist all work and no play makes Steve a very typical neuroscientist all work and no play makes Steve a very typical neuroscientist all work and no play makes Steve a very typical neuroscientist all work and no play makes Steve a very typical neuroscientist all work and no play makes Steve a very typical neuroscientist all work and no play makes Steve a very typical neuroscientist all work and no play makes Steve a very typical neuroscientist all work and no play makes Steve a very typical neuroscientist all work and no play makes Steve a very typical neuroscientist all work and no play makes Steve a very typical neuroscientist all work and no play makes Steve a very typical neuroscientist all work and no play makes Steve a very typical neuroscientist all work and no play makes Steve a very typical neuroscientist all work and no play makes Steve a very typical neuroscientist all work and no play makes Steve a very typical neuroscientist all work and no play makes Steve a very typical neuroscientist all work and no play makes Steve a very typical neuroscientist all work and no play makes Steve a very typical neuroscientist all work and no play makes Steve a very typical neuroscientist all work and no play makes Steve a very typical neuroscientist all work and no play makes Steve a very typical neuroscientist all work and no play makes Steve a very typical neuroscientist all work and no play makes Steve a very typical neuroscientist all work and no play makes Steve a very typical neuroscientist all work and no play makes Steve a very typical neuroscientist all work and no play makes Steve a very typical neuroscientist all work and no play makes Steve a very typical neuroscientist all work and no play makes Steve a very typical neuroscientist all work and no play makes Steve a very typical neuroscientist all work and no play makes Steve a very typical neuroscientist all work and no play makes Steve a very typical neuroscientist all work and no play makes Steve a very typical neuroscientist all work and no play makes Steve a very typical neuroscientist all work and no play makes Steve a very typical neuroscientist all work and no play makes Steve a very typical neuroscientist all work and no play makes Steve a very typical neuroscientist all work and no play makes Steve a very typical neuroscientist all work and no play makes Steve a very typical neuroscientist all work and no play makes Steve a very typical neuroscientist all work and no play makes Steve a very typical neuroscientist all work and no play makes Steve a very typical neuroscientist all work and no play makes Steve a very typical neuroscientist all work and no play makes Steve a very typical neuroscientist all work and no play makes Steve a very typical neuroscientist all work and no play makes Steve a very typical neuroscientist all work and no play makes Steve a very typical neuroscientist all work and no play makes Steve a very typical neuroscientist all work and no play makes Steve a very typical neuroscientist all work and no play makes Steve a very typical neuroscientist all work and no play makes Steve a very typical neuroscientist all work and no play makes Steve a very typical neuroscientist all work and no play makes Steve a very typical neuroscientist all work and no play makes Steve a very typical neuroscientist all work and no play makes Steve a very typical neuroscientist all work and no play makes Steve a very typical neuroscientist all work and no play makes Steve a very typical neuroscientist all work and no play makes Steve a very typical neuroscientist all work and no play makes Steve a very typical neuroscientist all work and no play makes Steve a very typical neuroscientist all work and no play makes Steve a very typical neuroscientist all work and no play makes Steve a very typical neuroscientist all work and no play makes Steve a very typical neuroscientist all work and no play makes Steve a very typical neuroscientist all work and no play makes Steve a very typical neuroscientist all work and no play makes Steve a very typical neuroscientist all work and no play makes Steve a very typical neuroscientist all work and no play makes Steve a very typical neuroscientist all work and no play makes Steve a very typical neuroscientist all work and no play makes Steve a very typical neuroscientist all work and no play makes Steve a very typical neuroscientist all work and no play makes Steve a very typical neuroscientist all work and no play makes Steve a very typical neuroscientist all work and no play makes Steve a very typical neuroscientist all work and no play makes Steve a very typical neuroscientist all work and no play makes Steve a very typical neuroscientist all work and no play makes Steve a very typical neuroscientist all work and no play makes Steve a very typical neuroscientist all work and no play makes Steve a very typical neuroscientist all work and no play makes Steve a very typical neuroscientist all work and no play makes Steve a very typical neuroscientist all work and no play makes Steve a very typical neuroscientist all work and no play makes Steve a very typical neuroscientist all work and no play makes Steve a very typical neuroscientist all work and no play makes Steve a very typical neuroscientist all work and no play makes Steve a very typical neuroscientist all work and no play makes Steve a very typical neuroscientist all work and no play makes Steve a very typical neuroscientist all work and no play makes Steve a very typical neuroscientist all work and no play makes Steve a very typical neuroscientist all work and no play makes Steve a very typical neuroscientist all work and no play makes Steve a very typical neuroscientist all work and no play makes Steve a very typical neuroscientist all work and no play makes Steve a very typical neuroscientist all work and no play makes Steve a very typical neuroscientist all work and no play makes Steve a very typical neuroscientist all work and no play makes Steve a very typical neuroscientist all work and no play makes Steve a very typical neuroscientist all work and no play makes Steve a very typical neuroscientist all work and no play makes Steve a very typical neuroscientist all work and no play makes Steve a very typical neuroscientist all work and no play makes Steve a very typical neuroscientist all work and no play makes Steve a very typical neuroscientist all work and no play makes Steve a very typical neuroscientist all work and no play makes Steve a very typical neuroscientist all work and no play makes Steve a very typical neuroscientist all work and no play makes Steve a very typical neuroscientist all work and no play makes Steve a very typical neuroscientist all work and no play makes Steve a very typical neuroscientist all work and no play makes Steve a very typical neuroscientist all work and no play makes Steve a very typical neuroscientist all work and no play makes Steve a very typical neuroscientist all work and no play makes Steve a very typical neuroscientist all work and no play makes Steve a very typical neuroscientist all work and no play makes Steve a very typical neuroscientist all work and no play makes Steve a very typical neuroscientist all work and no play makes Steve a very typical neuroscientist all work and no play makes Steve a very typical neuroscientist all work and no play makes Steve a very typical neuroscientist all work and no play makes Steve a very typical neuroscientist all work and no play makes Steve a very typical neuroscientist all work and no play makes Steve a very typical neuroscientist all work and no play makes Steve a very typical neuroscientist all work and no play makes Steve a very typical neuroscientist all work and no play makes Steve a very typical neuroscientist all work and no play makes Steve a very typical neuroscientist all work and no play makes Steve a very typical neuroscientist all work and no play makes Steve a very typical neuroscientist all work and no play makes Steve a very typical neuroscientist all work and no play makes Steve a very typical neuroscientist all work and no play makes Steve a very typical neuroscientist all work and no play makes Steve a very typical neuroscientist all work and no play makes Steve a very typical neuroscientist all work and no play makes Steve a very typical neuroscientist all work and no play makes Steve a very typical neuroscientist all work and no play makes Steve a very typical neuroscientist all work and no play makes Steve a very typical neuroscientist all work and no play makes Steve a very typical neuroscientist all work and no play makes Steve a very typical neuroscientist all work and no play makes Steve a very typical neuroscientist all work and no play makes Steve a very typical neuroscientist all work and no play makes Steve a very typical neuroscientist all work and no play makes Steve a very typical neuroscientist all work and no play makes Steve a very typical neuroscientist all work and no play makes Steve a very typical neuroscientist all work and no play makes Steve a very typical neuroscientist all work and no play makes Steve a very typical neuroscientist all work and no play makes Steve a very typical neuroscientist all work and no play makes Steve a very typical neuroscientist all work and no play makes Steve a very typical neuroscientist all work and no play makes Steve a very typical neuroscientist all work and no play makes Steve a very typical neuroscientist all work and no play makes Steve a very typical neuroscientist all work and no play makes Steve a very typical neuroscientist all work and no play makes Steve a very typical neuroscientist all work and no play makes Steve a very typical neuroscientist all work and no play makes Steve a very typical neuroscientist all work and no play makes Steve a very typical neuroscientist all work and no play makes Steve a very typical neuroscientist all work and no play makes Steve a very typical neuroscientist all work and no play makes Steve a very typical neuroscientist all work and no play makes Steve a very typical neuroscientist all work and no play makes Steve a very typical neuroscientist all work and no play makes Steve a very typical neuroscientist all work and no play makes Steve a very typical neuroscientist all work and no play makes Steve a very typical neuroscientist all work and no play makes Steve a very typical neuroscientist all work and no play makes Steve a very typical neuroscientist all work and no play makes Steve a very typical neuroscientist all work and no play makes Steve a very typical neuroscientist all work and no play makes Steve a very typical neuroscientist all work and no play makes Steve a very typical neuroscientist all work and no play makes Steve a very typical neuroscientist all work and no play makes Steve a very typical neuroscientist all work and no play makes Steve a very typical neuroscientist all work and no play makes Steve a very typical neuroscientist all work and no play makes Steve a very typical neuroscientist all work and no play makes Steve a very typical neuroscientist all work and no play makes Steve a very typical neuroscientist all work and no play makes Steve a very typical neuroscientist all work and no play makes Steve a very typical neuroscientist all work and no play makes Steve a very typical neuroscientist all work and no play makes Steve a very typical neuroscientist all work and no play makes Steve a very typical neuroscientist all work and no play makes Steve a very typical neuroscientist all work and no play makes Steve a very typical neuroscientist all work and no play makes Steve a very typical neuroscientist all work and no play makes Steve a very typical neuroscientist all work and no play makes Steve a very typical neuroscientist all work and no play makes Steve a very typical neuroscientist all work and no play makes Steve a very typical neuroscientist all work and no play makes Steve a very typical neuroscientist all work and no play makes Steve a very typical neuroscientist all work and no play makes Steve a very typical neuroscientist all work and no play makes Steve a very typical neuroscientist all work and no play makes Steve a very typical neuroscientist all work and no play makes Steve a very typical neuroscientist all work and no play makes Steve a very typical neuroscientist all work and no play makes Steve a very typical neuroscientist all work and no play makes Steve a very typical neuroscientist all work and no play makes Steve a very typical neuroscientist all work and no play makes Steve a very typical neuroscientist all work and no play makes Steve a very typical neuroscientist all work and no play makes Steve a very typical neuroscientist all work and no play makes Steve a very typical neuroscientist all work and no play makes Steve a very typical neuroscientist all work and no play makes Steve a very typical neuroscientist all work and no play makes Steve a very typical neuroscientist all work and no play makes Steve a very typical neuroscientist all work and no play makes Steve a very typical neuroscientist all work and no play makes Steve a very typical neuroscientist all work and no play makes Steve a very typical neuroscientist all work and no play makes Steve a very typical neuroscientist all work and no play makes Steve a very typical neuroscientist all work and no play makes Steve a very typical neuroscientist all work and no play makes Steve a very typical neuroscientist all work and no play makes Steve a very typical neuroscientist all work and no play makes Steve a very typical neuroscientist all work and no play makes Steve a very typical neuroscientist all work and no play makes Steve a very typical neuroscientist all work and no play makes Steve a very typical neuroscientist all work and no play makes Steve a very typical neuroscientist all work and no play makes Steve a very typical neuroscientist all work and no play makes Steve a very typical neuroscientist all work and no play makes Steve a very typical neuroscientist all work and no play makes Steve a very typical neuroscientist all work and no play makes Steve a very typical neuroscientist all work and no play makes Steve a very typical neuroscientist all work and no play makes Steve a very typical neuroscientist all work and no play makes Steve a very typical neuroscientist all work and no play makes Steve a very typical neuroscientist all work and no play makes Steve a very typical neuroscientist all work and no play makes Steve a very typical neuroscientist all work and no play makes Steve a very typical neuroscientist all work and no play makes Steve a very typical neuroscientist all work and no play makes Steve a very typical neuroscientist all work and no play makes Steve a very typical neuroscientist all work and no play makes Steve a very typical neuroscientist all work and no play makes Steve a very typical neuroscientist all work and no play makes Steve a very typical neuroscientist all work and no play makes Steve a very typical neuroscientist all work and no play makes Steve a very typical neuroscientist all work and no play makes Steve a very typical neuroscientist all work and no play makes Steve a very typical neuroscientist all work and no play makes Steve a very typical neuroscientist all work and no play makes Steve a very typical neuroscientist all work and no play makes Steve a very typical neuroscientist all work and no play makes Steve a very typical neuroscientist all work and no play makes Steve a very typical neuroscientist all work and no play makes Steve a very typical neuroscientist all work and no play makes Steve a very typical neuroscientist all work and no play makes Steve a very typical neuroscientist all work and no play makes Steve a very typical neuroscientist all work and no play makes Steve a very typical neuroscientist all work and no play makes Steve a very typical neuroscientist all work and no play makes Steve a very typical neuroscientist all work and no play makes Steve a very typical neuroscientist all work and no play makes Steve a very typical neuroscientist all work and no play makes Steve a very typical neuroscientist all work and no play makes Steve a very typical neuroscientist all work and no play__aha! made you look__ makes Steve a very typical neuroscientist all work and no play makes Steve a very typical neuroscientist all work and no play makes Steve a very typical neuroscientist all work and no play makes Steve a very typical neuroscientist all work and no play makes Steve a very typical neuroscientist all work and no play makes Steve a very typical neuroscientist all work and no play makes Steve a very typical neuroscientist all work and no play makes Steve a very typical neuroscientist all work and no play makes Steve a very typical neuroscientist all work and no play makes Steve a very typical neuroscientist all work and no play makes Steve a very typical neuroscientist all work and no play makes Steve a very typical neuroscientist all work and no play makes Steve a very typical neuroscientist all work and no play makes Steve a very typical neuroscientist all work and no play makes Steve a very typical neuroscientist all work and no play makes Steve a very typical neuroscientist all work and no play makes Steve a very typical neuroscientist all work and no play makes Steve a very typical neuroscientist all work and no play makes Steve a very typical neuroscientist all work and no play makes Steve a very typical neuroscientist all work and no play makes Steve a very typical neuroscientist all work and no play makes Steve a very typical neuroscientist all work and no play makes Steve a very typical neuroscientist all work and no play makes Steve a very typical neuroscientist all work and no play makes Steve a very typical neuroscientist all work and no play makes Steve a very typical neuroscientist all work and no play makes Steve a very typical neuroscientist all work and no play makes Steve a very typical neuroscientist all work and no play makes Steve a very typical neuroscientist all work and no play makes Steve a very typical neuroscientist all work and no play makes Steve a very typical neuroscientist all work and no play makes Steve a very typical neuroscientist all work and no play makes Steve a very typical neuroscientist all work and no play makes Steve a very typical neuroscientist all work and no play makes Steve a very typical neuroscientist all work and no play makes Steve a very typical neuroscientist all work and no play makes Steve a very typical neuroscientist all work and no play makes Steve a very typical neuroscientist all work and no play makes Steve a very typical neuroscientist all work and no play makes Steve a very typical neuroscientist all work and no play makes Steve a very typical neuroscientist all work and no play makes Steve a very typical neuroscientist all work and no play makes Steve a very typical neuroscientist all work and no play makes Steve a very typical neuroscientist all work and no play makes Steve a very typical neuroscientist all work and no play makes Steve a very typical neuroscientist all work and no play makes Steve a very typical neuroscientist all work and no play makes Steve a very typical neuroscientist all work and no play makes Steve a very typical neuroscientist all work and no play makes Steve a very typical neuroscientist all work and no play makes Steve a very typical neuroscientist all work and no play makes Steve a very typical neuroscientist all work and no play makes Steve a very typical neuroscientist all work and no play makes Steve a very typical neuroscientist all work and no play makes Steve a very typical neuroscientist all work and no play makes Steve a very typical neuroscientist all work and no play makes Steve a very typical neuroscientist all work and no play makes Steve a very typical neuroscientist all work and no play makes Steve a very typical neuroscientist all work and no play makes Steve a very typical neuroscientist all work and no play makes Steve a very typical neuroscientist all work and no play makes Steve a very typical neuroscientist all work and no play makes Steve a very typical neuroscientist all work and no play makes Steve a very typical neuroscientist all work and no play makes Steve a very typical neuroscientist all work and no play makes Steve a very typical neuroscientist all work and no play makes Steve a very typical neuroscientist all work and no play makes Steve a very typical neuroscientist all work and no play makes Steve a very typical neuroscientist all work and no play makes Steve a very typical neuroscientist all work and no play makes Steve a very typical neuroscientist all work and no play makes Steve a very typical neuroscientist all work and no play makes Steve a very typical neuroscientist all work and no play makes Steve a very typical neuroscientist all work and no play makes Steve a very typical neuroscientist all work and no play makes Steve a very typical neuroscientist all work and no play makes Steve a very typical neuroscientist all work and no play makes Steve a very typical neuroscientist all work and no play makes Steve a very typical neuroscientist all work and no play makes Steve a very typical neuroscientist all work and no play makes Steve a very typical neuroscientist all work and no play makes Steve a very typical neuroscientist all work and no play makes Steve a very typical neuroscientist all work and no play makes Steve a very typical neuroscientist all work and no play makes Steve a very typical neuroscientist all work and no play makes Steve a very typical neuroscientist all work and no play makes Steve a very typical neuroscientist all work and no play makes Steve a very typical neuroscientist all work and no play makes Steve a very typical neuroscientist all work and no play makes Steve a very typical neuroscientist all work and no play makes Steve a very typical neuroscientist all work and no play makes Steve a very typical neuroscientist all work and no play makes Steve a very typical neuroscientist all work and no play makes Steve a very typical neuroscientist all work and no play makes Steve a very typical neuroscientist all work and no play makes Steve a very typical neuroscientist all work and no play makes Steve a very typical neuroscientist all work and no play makes Steve a very typical neuroscientist all work and no play makes Steve a very typical neuroscientist all work and no play makes Steve a very typical neuroscientist all work and no play makes Steve a very typical neuroscientist all work and no play makes Steve a very typical neuroscientist all work and no play makes Steve a very typical neuroscientist all work and no play makes Steve a very typical neuroscientist all work and no play makes Steve a very typical neuroscientist all work and no play makes Steve a very typical neuroscientist all work and no play makes Steve a very typical neuroscientist all work and no play makes Steve a very typical neuroscientist all work and no play makes Steve a very typical neuroscientist all work and no play makes Steve a very typical neuroscientist all work and no play makes Steve a very typical neuroscientist all work and no play makes Steve a very typical neuroscientist all work and no play makes Steve a very typical neuroscientist all work and no play makes Steve a very typical neuroscientist all work and no play makes Steve a very typical neuroscientist all work and no play makes Steve a very typical neuroscientist all work and no play makes Steve a very typical neuroscientist all work and no play makes Steve a very typical neuroscientist all work and no play makes Steve a very typical neuroscientist all work and no play makes Steve a very typical neuroscientist all work and no play makes Steve a very typical neuroscientist all work and no play makes Steve a very typical neuroscientist all work and no play makes Steve a very typical neuroscientist all work and no play makes Steve a very typical neuroscientist all work and no play makes Steve a very typical neuroscientist all work and no play makes Steve a very typical neuroscientist all work and no play makes Steve a very typical neuroscientist all work and no play makes Steve a very typical neuroscientist all work and no play makes Steve a very typical neuroscientist all work and no play makes Steve a very typical neuroscientist all work and no play makes Steve a very typical neuroscientist all work and no play makes Steve a very typical neuroscientist all work and no play makes Steve a very typical neuroscientist all work and no play makes Steve a very typical neuroscientist all work and no play makes Steve a very typical neuroscientist all work and no play makes Steve a very typical neuroscientist all work and no play makes Steve a very typical neuroscientist all work and no play makes Steve a very typical neuroscientist all work and no play makes Steve a very typical neuroscientist all work and no play makes Steve a very typical neuroscientist all work and no play makes Steve a very typical neuroscientist all work and no play makes Steve a very typical neuroscientist all work and no play makes Steve a very typical neuroscientist all work and no play makes Steve a very typical neuroscientist all work and no play makes Steve a very typical neuroscientist all work and no play makes Steve a very typical neuroscientist all work and no play makes Steve a very typical neuroscientist all work and no play makes Steve a very typical neuroscientist all work and no play makes Steve a very typical neuroscientist all work and no play makes Steve a very typical neuroscientist all work and no play makes Steve a very typical neuroscientist all work and no play makes Steve a very typical neuroscientist all work and no play makes Steve a very typical neuroscientist all work and no play makes Steve a very typical neuroscientist all work and no play makes Steve a very typical neuroscientist all work and no play makes Steve a very typical neuroscientist all work and no play makes Steve a very typical neuroscientist all work and no play makes Steve a very typical neuroscientist all work and no play makes Steve a very typical neuroscientist all work and no play makes Steve a very typical neuroscientist all work and no play makes Steve a very typical neuroscientist all work and no play makes Steve a very typical neuroscientist all work and no play makes Steve a very typical neuroscientist all work and no play makes Steve a very typical neuroscientist all work and no play makes Steve a very typical neuroscientist all work and no play makes Steve a very typical neuroscientist all work and no play makes Steve a very typical neuroscientist all work and no play makes Steve a very typical neuroscientist all work and no play makes Steve a very typical neuroscientist all work and no play makes Steve a very typical neuroscientist all work and no play makes Steve a very typical neuroscientist all work and no play makes Steve a very typical neuroscientist all work and no play makes Steve a very typical neuroscientist all work and no play makes Steve a very typical neuroscientist all work and no play makes Steve a very typical neuroscientist all work and no play makes Steve a very typical neuroscientist all work and no play makes Steve a very typical neuroscientist all work and no play makes Steve a very typical neuroscientist all work and no play makes Steve a very typical neuroscientist all work and no play makes Steve a very typical neuroscientist all work and no play makes Steve a very typical neuroscientist all work and no play makes Steve a very typical neuroscientist all work and no play makes Steve a very typical neuroscientist all work and no play makes Steve a very typical neuroscientist all work and no play makes Steve a very typical neuroscientist all work and no play makes Steve a very typical neuroscientist all work and no play makes Steve a very typical neuroscientist all work and no play makes Steve a very typical neuroscientist all work and no play makes Steve a very typical neuroscientist all work and no play makes Steve a very typical neuroscientist all work and no play makes Steve a very typical neuroscientist all work and no play makes Steve a very typical neuroscientist all work and no play makes Steve a very typical neuroscientist all work and no play makes Steve a very typical neuroscientist all work and no play makes Steve a very typical neuroscientist all work and no play makes Steve a very typical neuroscientist all work and no play makes Steve a very typical neuroscientist all work and no play makes Steve a very typical neuroscientist all work and no play makes Steve a very typical neuroscientist all work and no play makes Steve a very typical neuroscientist all work and no play makes Steve a very typical neuroscientist all work and no play makes Steve a very typical neuroscientist all work and no play makes Steve a very typical neuroscientist all work and no play makes Steve a very typical neuroscientist all work and no play makes Steve a very typical neuroscientist all work and no play makes Steve a very typical neuroscientist all work and no play makes Steve a very typical neuroscientist all work and no play makes Steve a very typical neuroscientist all work and no play makes Steve a very typical neuroscientist all work and no play makes Steve a very typical neuroscientist all work and no play makes Steve a very typical neuroscientist all work and no play makes Steve a very typical neuroscientist all work and no play makes Steve a very typical neuroscientist all work and no play makes Steve a very typical neuroscientist all work and no play makes Steve a very typical neuroscientist all work and no play makes Steve a very typical neuroscientist all work and no play makes Steve a very typical neuroscientist all work and no play makes Steve a very typical neuroscientist all work and no play makes Steve a very typical neuroscientist all work and no play makes Steve a very typical neuroscientist all work and no play makes Steve a very typical neuroscientist all work and no play makes Steve a very typical neuroscientist all work and no play makes Steve a very typical neuroscientist all work and no play makes Steve a very typical neuroscientist all work and no play makes Steve a very typical neuroscientist all work and no play makes Steve a very typical neuroscientist all work and no play makes Steve a very typical neuroscientist all work and no play makes Steve a very typical neuroscientist all work and no play makes Steve a very typical neuroscientist all work and no play makes Steve a very typical neuroscientist all work and no play makes Steve a very typical neuroscientist all work and no play makes Steve a very typical neuroscientist all work and no play makes Steve a very typical neuroscientist all work and no play makes Steve a very typical neuroscientist all work and no play makes Steve a very typical neuroscientist all work and no play makes Steve a very typical neuroscientist all work and no play makes Steve a very typical neuroscientist all work and no play makes Steve a very typical neuroscientist all work and no play makes Steve a very typical neuroscientist all work and no play makes Steve a very typical neuroscientist all work and no play makes Steve a very typical neuroscientist all work and no play makes Steve a very typical neuroscientist all work and no play makes Steve a very typical neuroscientist all work and no play makes Steve a very typical neuroscientist all work and no play makes Steve a very typical neuroscientist all work and no play makes Steve a very typical neuroscientist all work and no play makes Steve a very typical neuroscientist all work and no play makes Steve a very typical neuroscientist all work and no play makes Steve a very typical neuroscientist all work and no play makes Steve a very typical neuroscientist all work and no play makes Steve a very typical neuroscientist all work and no play makes Steve a very typical neuroscientist all work and no play makes Steve a very typical neuroscientist all work and no play makes Steve a very typical neuroscientist all work and no play makes Steve a very typical neuroscientist all work and no play makes Steve a very typical neuroscientist all work and no play makes Steve a very typical neuroscientist all work and no play makes Steve a very typical neuroscientist all work and no play makes Steve a very typical neuroscientist all work and no play makes Steve a very typical neuroscientist all work and no play makes Steve a very typical neuroscientist all work and no play makes Steve a very typical neuroscientist all work and no play makes Steve a very typical neuroscientist all work and no play makes Steve a very typical neuroscientist all work and no play makes Steve a very typical neuroscientist all work and no play makes Steve a very typical neuroscientist all work and no play makes Steve a very typical neuroscientist all work and no play makes Steve a very typical neuroscientist all work and no play makes Steve a very typical neuroscientist all work and no play makes Steve a very typical neuroscientist all work and no play makes Steve a very typical neuroscientist all work and no play makes Steve a very typical neuroscientist all work and no play makes Steve a very typical neuroscientist all work and no play makes Steve a very typical neuroscientist all work and no play makes Steve a very typical neuroscientist all work and no play makes Steve a very typical neuroscientist all work and no play makes Steve a very typical neuroscientist all work and no play makes Steve a very typical neuroscientist all work and no play makes Steve a very typical neuroscientist all work and no play makes Steve a very typical neuroscientist all work and no play makes Steve a very typical neuroscientist all work and no play makes Steve a very typical neuroscientist all work and no play makes Steve a very typical neuroscientist all work and no play makes Steve a very typical neuroscientist all work and no play makes Steve a very typical neuroscientist all work and no play makes Steve a very typical neuroscientist all work and no play makes Steve a very typical neuroscientist all work and no play makes Steve a very typical neuroscientist all work and no play makes Steve a very typical neuroscientist all work and no play makes Steve a very typical neuroscientist all work and no play makes Steve a very typical neuroscientist all work and no play makes Steve a very typical neuroscientist all work and no play makes Steve a very typical neuroscientist all work and no play makes Steve a very typical neuroscientist all work and no play makes Steve a very typical neuroscientist all work and no play makes Steve a very typical neuroscientist all work and no play makes Steve a very typical neuroscientist all work and no play makes Steve a very typical neuroscientist all work and no play makes Steve a very typical neuroscientist all work and no play makes Steve a very typical neuroscientist all work and no play makes Steve a very typical neuroscientist all work and no play makes Steve a very typical neuroscientist all work and no play makes Steve a very typical neuroscientist all work and no play makes Steve a very typical neuroscientist all work and no play makes Steve a very typical neuroscientist all work and no play makes Steve a very typical neuroscientist all work and no play makes Steve a very typical neuroscientist all work and no play makes Steve a very typical neuroscientist all work and no play makes Steve a very typical neuroscientist all work and no play makes Steve a very typical neuroscientist all work and no play makes Steve a very typical neuroscientist all work and no play makes Steve a very typical neuroscientist all work and no play makes Steve a very typical neuroscientist all work and no play makes Steve a very typical neuroscientist all work and no play makes Steve a very typical neuroscientist all work and no play makes Steve a very typical neuroscientist all work and no play makes Steve a very typical neuroscientist all work and no play makes Steve a very typical neuroscientist all work and no play makes Steve a very typical neuroscientist all work and no play makes Steve a very typical neuroscientist all work and no play makes Steve a very typical neuroscientist all work and no play makes Steve a very typical neuroscientist all work and no play makes Steve a very typical neuroscientist all work and no play makes Steve a very typical neuroscientist all work and no play makes Steve a very typical neuroscientist all work and no play makes Steve a very typical neuroscientist all work and no play makes Steve a very typical neuroscientist all work and no play makes Steve a very typical neuroscientist all work and no play makes Steve a very typical neuroscientist all work and no play makes Steve a very typical neuroscientist all work and no play makes Steve a very typical neuroscientist all work and no play makes Steve a very typical neuroscientist all work and no play makes Steve a very typical neuroscientist all work and no play makes Steve a very typical neuroscientist all work and no play makes Steve a very typical neuroscientist all work and no play makes Steve a very typical neuroscientist all work and no play makes Steve a very typical neuroscientist all work and no play makes Steve a very typical neuroscientist all work and no play makes Steve a very typical neuroscientist all work and no play makes Steve a very typical neuroscientist all work and no play makes Steve a very typical neuroscientist all work and no play makes Steve a very typical neuroscientist all work and no play makes Steve a very typical neuroscientist all work and no play makes Steve a very typical neuroscientist all work and no play makes Steve a very typical neuroscientist all work and no play makes Steve a very typical neuroscientist all work and no play makes Steve a very typical neuroscientist all work and no play makes Steve a very typical neuroscientist all work and no play makes Steve a very typical neuroscientist all work and no play makes Steve a very typical neuroscientist all work and no play makes Steve a very typical neuroscientist all work and no play makes Steve a very typical neuroscientist all work and no play makes Steve a very typical neuroscientist all work and no play makes Steve a very typical neuroscientist all work and no play makes Steve a very typical neuroscientist all work and no play makes Steve a very typical neuroscientist all work and no play makes Steve a very typical neuroscientist all work and no play makes Steve a very typical neuroscientist all work and no play makes Steve a very typical neuroscientist all work and no play makes Steve a very typical neuroscientist all work and no play makes Steve a very typical neuroscientist all work and no play makes Steve a very typical neuroscientist all work and no play makes Steve a very typical neuroscientist all work and no play makes Steve a very typical neuroscientist all work and no play makes Steve a very typical neuroscientist all work and no play makes Steve a very typical neuroscientist all work and no play makes Steve a very typical neuroscientist all work and no play makes Steve a very typical neuroscientist all work and no play makes Steve a very typical neuroscientist all work and no play makes Steve a very typical neuroscientist all work and no play makes Steve a very typical neuroscientist all work and no play makes Steve a very typical neuroscientist all work and no play makes Steve a very typical neuroscientist all work and no play makes Steve a very typical neuroscientist all work and no play makes Steve a very typical neuroscientist all work and no play makes Steve a very typical neuroscientist all work and no play makes Steve a very typical neuroscientist all work and no play makes Steve a very typical neuroscientist all work and no play makes Steve a very typical neuroscientist all work and no play makes Steve a very typical neuroscientist all work and no play makes Steve a very typical neuroscientist all work and no play makes Steve a very typical neuroscientist all work and no play makes Steve a very typical neuroscientist all work and no play makes Steve a very typical neuroscientist all work and no play makes Steve a very typical neuroscientist all work and no play makes Steve a very typical neuroscientist all work and no play makes Steve a very typical neuroscientist all work and no play makes Steve a very typical neuroscientist all work and no play makes Steve a very typical neuroscientist all work and no play makes Steve a very typical neuroscientist all work and no play makes Steve a very typical neuroscientist all work and no play makes Steve a very typical neuroscientist all work and no play makes Steve a very typical neuroscientist all work and no play makes Steve a very typical neuroscientist all work and no play makes Steve a very typical neuroscientist all work and no play makes Steve a very typical neuroscientist all work and no play makes Steve a very typical neuroscientist all work and no play makes Steve a very typical neuroscientist all work and no play makes Steve a very typical neuroscientist all work and no play makes Steve a very typical neuroscientist all work and no play makes Steve a very typical neuroscientist all work and no play makes Steve a very typical neuroscientist all work and no play makes Steve a very typical neuroscientist all work and no play makes Steve a very typical neuroscientist all work and no play makes Steve a very typical neuroscientist all work and no play makes Steve a very typical neuroscientist all work and no play makes Steve a very typical neuroscientist all work and no play makes Steve a very typical neuroscientist all work and no play makes Steve a very typical neuroscientist all work and no play makes Steve a very typical neuroscientist all work and no play makes Steve a very typical neuroscientist all work and no play makes Steve a very typical neuroscientist all work and no play makes Steve a very typical neuroscientist all work and no play makes Steve a very typical neuroscientist all work and no play makes Steve a very typical neuroscientist all work and no play makes Steve a very typical neuroscientist all work and no play makes Steve a very typical neuroscientist all work and no play makes Steve a very typical neuroscientist all work and no play makes Steve a very typical neuroscientist all work and no play makes Steve a very typical neuroscientist all work and no play makes Steve a very typical neuroscientist all work and no play makes Steve a very typical neuroscientist all work and no play makes Steve a very typical neuroscientist all work and no play makes Steve a very typical neuroscientist all work and no play makes Steve a very typical neuroscientist all work and no play makes Steve a very typical neuroscientist all work and no play makes Steve a very typical neuroscientist all work and no play makes Steve a very typical neuroscientist all work and no play makes Steve a very typical neuroscientist all work and no play makes Steve a very typical neuroscientist all work and no play makes Steve a very typical neuroscientist all work and no play makes Steve a very typical neuroscientist all work and no play makes Steve a very typical neuroscientist all work and no play makes Steve a very typical neuroscientist all work and no play makes Steve a very typical neuroscientist all work and no play makes Steve a very typical neuroscientist all work and no play makes Steve a very typical neuroscientist all work and no play makes Steve a very typical neuroscientist all work and no play makes Steve a very typical neuroscientist all work and no play makes Steve a very typical neuroscientist all work and no play makes Steve a very typical neuroscientist all work and no play makes Steve a very typical neuroscientist all work and no play makes Steve a very typical neuroscientist all work and no play makes Steve a very typical neuroscientist all work and no play makes Steve a very typical neuroscientist all work and no play makes Steve a very typical neuroscientist all work and no play makes Steve a very typical neuroscientist all work and no play makes Steve a very typical neuroscientist all work and no play makes Steve a very typical neuroscientist all work and no play makes Steve a very typical neuroscientist all work and no play makes Steve a very typical neuroscientist all work and no play makes Steve a very typical neuroscientist all work and no play makes Steve a very typical neuroscientist all work and no play makes Steve a very typical neuroscientist all work and no play makes Steve a very typical neuroscientist all work and no play makes Steve a very typical neuroscientist all work and no play makes Steve a very typical neuroscientist all work and no play makes Steve a very typical neuroscientist all work and no play makes Steve a very typical neuroscientist all work and no play makes Steve a very typical neuroscientist all work and no play makes Steve a very typical neuroscientist all work and no play makes Steve a very typical neuroscientist all work and no play makes Steve a very typical neuroscientist all work and no play makes Steve a very typical neuroscientist all work and no play makes Steve a very typical neuroscientist all work and no play makes Steve a very typical neuroscientist all work and no play makes Steve a very typical neuroscientist all work and no play makes Steve a very typical neuroscientist all work and no play makes Steve a very typical neuroscientist all work and no play makes Steve a very typical neuroscientist all work and no play makes Steve a very typical neuroscientist all work and no play makes Steve a very typical neuroscientist all work and no play makes Steve a very typical neuroscientist all work and no play makes Steve a very typical neuroscientist all work and no play makes Steve a very typical neuroscientist all work and no play makes Steve a very typical neuroscientist all work and no play makes Steve a very typical neuroscientist all work and no play makes Steve a very typical neuroscientist all work and no play makes Steve a very typical neuroscientist all work and no play makes Steve a very typical neuroscientist all work and no play makes Steve a very typical neuroscientist all work and no play makes Steve a very typical neuroscientist all work and no play makes Steve a very typical neuroscientist all work and no play makes Steve a very typical neuroscientist all work and no play makes Steve a very typical neuroscientist all work and no play makes Steve a very typical neuroscientist all work and no play makes Steve a very typical neuroscientist all work and no play makes Steve a very typical neuroscientist all work and no play makes Steve a very typical neuroscientist all work and no play makes Steve a very typical neuroscientist all work and no play makes Steve a very typical neuroscientist all work and no play makes Steve a very typical neuroscientist all work and no play makes Steve a very typical neuroscientist all work and no play makes Steve a very typical neuroscientist all work and no play makes Steve a very typical neuroscientist all work and no play makes Steve a very typical neuroscientist all work and no play makes Steve a very typical neuroscientist all work and no play makes Steve a very typical neuroscientist all work and no play makes Steve a very typical neuroscientist all work and no play makes Steve a very typical neuroscientist all work and no play makes Steve a very typical neuroscientist all work and no play makes Steve a very typical neuroscientist all work and no play makes Steve a very typical neuroscientist all work and no play makes Steve a very typical neuroscientist all work and no play makes Steve a very typical neuroscientist all work and no play makes Steve a very typical neuroscientist all work and no play makes Steve a very typical neuroscientist all work and no play makes Steve a very typical neuroscientist all work and no play makes Steve a very typical neuroscientist all work and no play makes Steve a very typical neuroscientist all work and no play makes Steve a very typical neuroscientist all work and no play makes Steve a very typical neuroscientist all work and no play makes Steve a very typical neuroscientist all work and no play makes Steve a very typical neuroscientist all work and no play makes Steve a very typical neuroscientist all work and no play makes Steve a very typical neuroscientist all work and no play makes Steve a very typical neuroscientist all work and no play makes Steve a very typical neuroscientist all work and no play makes Steve a very typical neuroscientist all work and no play makes Steve a very typical neuroscientist all work and no play makes Steve a very typical neuroscientist all work and no play makes Steve a very typical neuroscientist all work and no play makes Steve a very typical neuroscientist all work and no play makes Steve a very typical neuroscientist all work and no play makes Steve a very typical neuroscientist all work and no play makes Steve a very typical neuroscientist all work and no play makes Steve a very typical neuroscientist all work and no play makes Steve a very typical neuroscientist all work and no play makes Steve a very typical neuroscientist all work and no play makes Steve a very typical neuroscientist all work and no play makes Steve a very typical neuroscientist all work and no play makes Steve a very typical neuroscientist all work and no play makes Steve a very typical neuroscientist all work and no play makes Steve a very typical neuroscientist all work and no play makes Steve a very typical neuroscientist all work and no play makes Steve a very typical neuroscientist all work and no play makes Steve a very typical neuroscientist all work and no play makes Steve a very typical neuroscientist all work and no play makes Steve a very typical neuroscientist all work and no play makes Steve a very typical neuroscientist all work and no play makes Steve a very typical neuroscientist all work and no play makes Steve a very typical neuroscientist all work and no play makes Steve a very typical neuroscientist all work and no play makes Steve a very typical neuroscientist all work and no play makes Steve a very typical neuroscientist all work and no play makes Steve a very typical neuroscientist all work and no play makes Steve a very typical neuroscientist all work and no play makes Steve a very typical neuroscientist all work and no play makes Steve a very typical neuroscientist all work and no play makes Steve a very typical neuroscientist all work and no play makes Steve a very typical neuroscientist all work and no play makes Steve a very typical neuroscientist all work and no play makes Steve a very typical neuroscientist all work and no play makes Steve a very typical neuroscientist all work and no play makes Steve a very typical neuroscientist all work and no play makes Steve a very typical neuroscientist all work and no play makes Steve a very typical neuroscientist all work and no play makes Steve a very typical neuroscientist all work and no play makes Steve a very typical neuroscientist all work and no play makes Steve a very typical neuroscientist all work and no play makes Steve a very typical neuroscientist all work and no play makes Steve a very typical neuroscientist all work and no play makes Steve a very typical neuroscientist all work and no play makes Steve a very typical neuroscientist all work and no play makes Steve a very typical neuroscientist all work and no play makes Steve a very typical neuroscientist all work and no play makes Steve a very typical neuroscientist all work and no play makes Steve a very typical neuroscientist all work and no play makes Steve a very typical neuroscientist all work and no play makes Steve a very typical neuroscientist all work and no play makes Steve a very typical neuroscientist all work and no play makes Steve a very typical neuroscientist all work and no play makes Steve a very typical neuroscientist all work and no play makes Steve a very typical neuroscientist all work and no play makes Steve a very typical neuroscientist all work and no play makes Steve a very typical neuroscientist all work and no play makes Steve a very typical neuroscientist all work and no play makes Steve a very typical neuroscientist all work and no play makes Steve a very typical neuroscientist all work and no play makes Steve a very typical neuroscientist all work and no play makes Steve a very typical neuroscientist all work and no play makes Steve a very typical neuroscientist all work and no play makes Steve a very typical neuroscientist all work and no play makes Steve a very typical neuroscientist all work and no play makes Steve a very typical neuroscientist all work and no play makes Steve a very typical neuroscientist all work and no play makes Steve a very typical neuroscientist all work and no play makes Steve a very typical neuroscientist all work and no play makes Steve a very typical neuroscientist all work and no play makes Steve a very typical neuroscientist all work and no play makes Steve a very typical neuroscientist all work and no play makes Steve a very typical neuroscientist all work and no play makes Steve a very typical neuroscientist all work and no play makes Steve a very typical neuroscientist all work and no play makes Steve a very typical neuroscientist all work and no play makes Steve a very typical neuroscientist all work and no play makes Steve a very typical neuroscientist all work and no play makes Steve a very typical neuroscientist all work and no play makes Steve a very typical neuroscientist all work and no play makes Steve a very typical neuroscientist all work and no play makes Steve a very typical neuroscientist all work and no play makes Steve a very typical neuroscientist all work and no play makes Steve a very typical neuroscientist all work and no play makes Steve a very typical neuroscientist all work and no play makes Steve a very typical neuroscientist all work and no play makes Steve a very typical neuroscientist all work and no play makes Steve a very typical neuroscientist all work and no play makes Steve a very typical neuroscientist all work and no play makes Steve a very typical neuroscientist all work and no play makes Steve a very typical neuroscientist all work and no play makes Steve a very typical neuroscientist all work and no play makes Steve a very typical neuroscientist all work and no play makes Steve a very typical neuroscientist all work and no play makes Steve a very typical neuroscientist all work and no play makes Steve a very typical neuroscientist all work and no play makes Steve a very typical neuroscientist all work and no play makes Steve a very typical neuroscientist all work and no play makes Steve a very typical neuroscientist all work and no play makes Steve a very typical neuroscientist '"
      ]
     },
     "execution_count": 41,
     "metadata": {},
     "output_type": "execute_result"
    }
   ],
   "source": [
    "translated_text"
   ]
  },
  {
   "cell_type": "code",
   "execution_count": 42,
   "metadata": {},
   "outputs": [
    {
     "name": "stdout",
     "output_type": "stream",
     "text": [
      "[('s', 3000), ('n', 4000), ('c', 2000), ('d', 1001), ('k', 2001), ('S', 1000), ('e', 6001), ('a', 6003), ('i', 3000), ('m', 1001), ('p', 2000), ('r', 3000), ('h', 1), ('o', 3003), ('v', 2000), ('y', 3001), ('l', 4001), ('w', 1000), ('t', 4000), ('u', 1001)]\n",
      "[]\n",
      "[('!', 1), (' ', 11003), ('_', 4)]\n"
     ]
    }
   ],
   "source": [
    "   \n",
    "# f) make a separate list for alphabetical, numeric and special characters\n",
    "    # HINT: you may want to use sets to solve this\n",
    "    \n",
    "letters_counts = [(char, translated_text.count(char)) for char in letters_in_translated_text if char.isalpha()]\n",
    "print(letters_counts)\n",
    "digits_counts = [(char, translated_text.count(char)) for char in letters_in_translated_text if char.isdigit()]\n",
    "print(digits_counts) #this will return an empty list because we cleaned the numbers from it\n",
    "special_chars_counts = [(char, translated_text.count(char)) for char in letters_in_translated_text if not char.isalnum()]\n",
    "print(special_chars_counts)\n"
   ]
  },
  {
   "cell_type": "code",
   "execution_count": 43,
   "metadata": {},
   "outputs": [
    {
     "name": "stdout",
     "output_type": "stream",
     "text": [
      "neuron from wikipedia, the free encyclopedia this article is about cells in the nervous system. for other uses, see neuron (disambiguation). \"brain cell\" redirects here. for other uses, see glial cell. neuron blausen 0657 multipolarneuron.png anatomy of a multipolar neuron identifiers mesh \td009474 neurolex id \tsao1417703748 ta \ta14.0.00.002 th \th2.00.06.1.00002 fma \t56566 anatomical terms of neuroanatomy [edit on wikidata] this schematic shows an anatomically accurate single pyramidal neuron, the primary excitatory neuron of cerebral cortex, with a synaptic connection from an incoming axon onto a dendritic spine.  a neuron, also known as a neurone (british spelling) and nerve cell, is an electrically excitable cell that receives, processes, and transmits information through electrical and chemical signals. these signals between neurons occur via specialized connections called synapses. neurons can connect to each other to form neural networks. neurons are the primary components of the central nervous system, which includes the brain and spinal cord, and of the peripheral nervous system, which comprises the autonomic nervous system and the somatic nervous system.  there are many types of specialized neurons. sensory neurons respond to one particular type of stimulus such as touch, sound, or light and all other stimuli affecting the cells of the sensory organs, and converts it into an electrical signal via transduction, which is then sent to the spinal cord or brain. motor neurons receive signals from the brain and spinal cord to cause everything from muscle contractions and affect glandular outputs. interneurons connect neurons to other neurons within the same region of the brain or spinal cord in neural networks.  a typical neuron consists of a cell body (soma), dendrites, and an axon. the term neurite is used to describe either a dendrite or an axon, particularly in its undifferentiated stage. dendrites are thin structures that arise from the cell body, often extending for hundreds of micrometers and branching multiple times, giving rise to a complex \"dendritic tree\". an axon (also called a nerve fiber) is a special cellular extension (process) that arises from the cell body at a site called the axon hillock and travels for a distance, as far as 1 meter in humans or even more in other species. most neurons receive signals via the dendrites and send out signals down the axon. numerous axons are often bundled into fascicles that make up the nerves in the peripheral nervous system (like strands of wire make up cables). bundles of axons in the central nervous system are called tracts. the cell body of a neuron frequently gives rise to multiple dendrites, but never to more than one axon, although the axon may branch hundreds of times before it terminates. at the majority of synapses, signals are sent from the axon of one neuron to a dendrite of another. there are, however, many exceptions to these rules: for example, neurons can lack dendrites, or have no axon, and synapses can connect an axon to another axon or a dendrite to another dendrite.  all neurons are electrically excitable, due to maintenance of voltage gradients across their membranes by means of metabolically driven ion pumps, which combine with ion channels embedded in the membrane to generate intracellular-versus-extracellular concentration differences of ions such as sodium, potassium, chloride, and calcium. changes in the cross-membrane voltage can alter the function of voltage-dependent ion channels. if the voltage changes by a large enough amount, an all-or-none electrochemical pulse called an action potential is generated and this change in cross-membrane potential travels rapidly along the cell's axon, and activates synaptic connections with other cells when it arrives.  in most cases, neurons are generated by special types of stem cells during brain development and childhood. neurons in the adult brain generally do not undergo cell division. astrocytes are star-shaped glial cells that have also been observed to turn into neurons by virtue of the stem cell characteristic pluripotency. neurogenesis largely ceases during adulthood in most areas of the brain. however, there is strong evidence for generation of substantial numbers of new neurons in two brain areas, the hippocampus and olfactory bulb.[1][2]  contents      1 overview     2 anatomy and histology         2.1 histology and internal structure     3 classification         3.1 structural classification             3.1.1 polarity             3.1.2 other         3.2 functional classification             3.2.1 direction             3.2.2 action on other neurons             3.2.3 discharge patterns             3.2.4 classification by neurotransmitter production     4 connectivity     5 mechanisms for propagating action potentials     6 neural coding     7 all-or-none principle     8 history         8.1 neuron doctrine     9 neurons in the brain     10 neurological disorders         10.1 demyelination         10.2 axonal degeneration     11 neurogenesis     12 nerve regeneration     13 see also     14 references     15 further reading     16 external links  overview structure of a typical neuron neuron (peripheral nervous system) at one end of an elongated structure is a branching mass. at the centre of this mass is the nucleus and the branches are dendrites. a thick axon trails away from the mass, ending with further branching which are labeled as axon terminals. along the axon are a number of protuberances labeled as myelin sheaths. dendrite soma axon nucleus node of ranvier axon terminal schwann cell myelin sheath drawing of neurons in the pigeon cerebellum, by spanish neuroscientist santiago ramón y cajal in 1899. (a) denotes purkinje cells and (b) denotes granule cells, both of which are multipolar. neuron cell body  a neuron is a specialized type of cell found in the bodies of all eumetozoans. only sponges and a few other simpler animals lack neurons. the features that define a neuron are electrical excitability[3] and the presence of synapses, which are complex membrane junctions that transmit signals to other cells. the body's neurons, plus the glial cells that give them structural and metabolic support, together constitute the nervous system. in vertebrates, the majority of neurons belong to the central nervous system, but some reside in peripheral ganglia, and many sensory neurons are situated in sensory organs such as the retina and cochlea.  a typical neuron is divided into three parts: the soma or cell body, dendrites, and axon. the soma is usually compact; the axon and dendrites are filaments that extrude from it. dendrites typically branch profusely, getting thinner with each branching, and extending their farthest branches a few hundred micrometers from the soma. the axon leaves the soma at a swelling called the axon hillock, and can extend for great distances, giving rise to hundreds of branches. unlike dendrites, an axon usually maintains the same diameter as it extends. the soma may give rise to numerous dendrites, but never to more than one axon. synaptic signals from other neurons are received by the soma and dendrites; signals to other neurons are transmitted by the axon. a typical synapse, then, is a contact between the axon of one neuron and a dendrite or soma of another. synaptic signals may be excitatory or inhibitory. if the net excitation received by a neuron over a short period of time is large enough, the neuron generates a brief pulse called an action potential, which originates at the soma and propagates rapidly along the axon, activating synapses onto other neurons as it goes.  many neurons fit the foregoing schema in every respect, but there are also exceptions to most parts of it. there are no neurons that lack a soma, but there are neurons that lack dendrites, and others that lack an axon. furthermore, in addition to the typical axodendritic and axosomatic synapses, there are axoaxonic (axon-to-axon) and dendrodendritic (dendrite-to-dendrite) synapses.  the key to neural function is the synaptic signaling process, which is partly electrical and partly chemical. the electrical aspect depends on properties of the neuron's membrane. like all animal cells, the cell body of every neuron is enclosed by a plasma membrane, a bilayer of lipid molecules with many types of protein structures embedded in it. a lipid bilayer is a powerful electrical insulator, but in neurons, many of the protein structures embedded in the membrane are electrically active. these include ion channels that permit electrically charged ions to flow across the membrane and ion pumps that actively transport ions from one side of the membrane to the other. most ion channels are permeable only to specific types of ions. some ion channels are voltage gated, meaning that they can be switched between open and closed states by altering the voltage difference across the membrane. others are chemically gated, meaning that they can be switched between open and closed states by interactions with chemicals that diffuse through the extracellular fluid. the interactions between ion channels and ion pumps produce a voltage difference across the membrane, typically a bit less than 1/10 of a volt at baseline. this voltage has two functions: first, it provides a power source for an assortment of voltage-dependent protein machinery that is embedded in the membrane; second, it provides a basis for electrical signal transmission between different parts of the membrane.  neurons communicate by chemical and electrical synapses in a process known as neurotransmission, also called synaptic transmission. the fundamental process that triggers the release of neurotransmitters is the action potential, a propagating electrical signal that is generated by exploiting the electrically excitable membrane of the neuron. this is also known as a wave of depolarization. anatomy and histology diagram of a typical myelinated vertebrate motor neuron  neurons are highly specialized for the processing and transmission of cellular signals. given their diversity of functions performed in different parts of the nervous system, there is a wide variety in their shape, size, and electrochemical properties. for instance, the soma of a neuron can vary from 4 to 100 micrometers in diameter.[4]      the soma is the body of the neuron. as it contains the nucleus, most protein synthesis occurs here. the nucleus can range from 3 to 18 micrometers in diameter.[5]     the dendrites of a neuron are cellular extensions with many branches. this overall shape and structure is referred to metaphorically as a dendritic tree. this is where the majority of input to the neuron occurs via the dendritic spine.     the axon is a finer, cable-like projection that can extend tens, hundreds, or even tens of thousands of times the diameter of the soma in length. the axon carries nerve signals away from the soma (and also carries some types of information back to it). many neurons have only one axon, but this axon may—and usually will—undergo extensive branching, enabling communication with many target cells. the part of the axon where it emerges from the soma is called the axon hillock. besides being an anatomical structure, the axon hillock is also the part of the neuron that has the greatest density of voltage-dependent sodium channels. this makes it the most easily excited part of the neuron and the spike initiation zone for the axon: in electrophysiological terms, it has the most negative action potential threshold. while the axon and axon hillock are generally involved in information outflow, this region can also receive input from other neurons.     the axon terminal contains synapses, specialized structures where neurotransmitter chemicals are released to communicate with target neurons.  the accepted view of the neuron attributes dedicated functions to its various anatomical components; however, dendrites and axons often act in ways contrary to their so-called main function.  axons and dendrites in the central nervous system are typically only about one micrometer thick, while some in the peripheral nervous system are much thicker. the soma is usually about 10–25 micrometers in diameter and often is not much larger than the cell nucleus it contains. the longest axon of a human motor neuron can be over a meter long, reaching from the base of the spine to the toes.  sensory neurons can have axons that run from the toes to the posterior column of the spinal cord, over 1.5 meters in adults. giraffes have single axons several meters in length running along the entire length of their necks. much of what is known about axonal function comes from studying the squid giant axon, an ideal experimental preparation because of its relatively immense size (0.5–1 millimeters thick, several centimeters long).  fully differentiated neurons are permanently postmitotic;[6] however, research starting around 2002 shows that additional neurons throughout the brain can originate from neural stem cells through the process of neurogenesis. these are found throughout the brain, but are particularly concentrated in the subventricular zone and subgranular zone.[7] histology and internal structure golgi-stained neurons in human hippocampal tissue actin filaments in a mouse cortical neuron in culture  numerous microscopic clumps called nissl substance (or nissl bodies) are seen when nerve cell bodies are stained with a basophilic (\"base-loving\") dye. these structures consist of rough endoplasmic reticulum and associated ribosomal rna. named after german psychiatrist and neuropathologist franz nissl (1860–1919), they are involved in protein synthesis and their prominence can be explained by the fact that nerve cells are very metabolically active. basophilic dyes such as aniline or (weakly) haematoxylin [8] highlight negatively charged components, and so bind to the phosphate backbone of the ribosomal rna.  the cell body of a neuron is supported by a complex mesh of structural proteins called neurofilaments, which are assembled into larger neurofibrils. some neurons also contain pigment granules, such as neuromelanin (a brownish-black pigment that is byproduct of synthesis of catecholamines), and lipofuscin (a yellowish-brown pigment), both of which accumulate with age.[9][10][11] other structural proteins that are important for neuronal function are actin and the tubulin of microtubules. actin is predominately found at the tips of axons and dendrites during neuronal development.  there are different internal structural characteristics between axons and dendrites. typical axons almost never contain ribosomes, except some in the initial segment. dendrites contain granular endoplasmic reticulum or ribosomes, in diminishing amounts as the distance from the cell body increases. classification image of pyramidal neurons in mouse cerebral cortex expressing green fluorescent protein. the red staining indicates gabaergic interneurons.[12] smi32-stained pyramidal neurons in cerebral cortex see also: list of distinct cell types in the adult human body § nervous system  neurons exist in a number of different shapes and sizes and can be classified by their morphology and function.[13] the anatomist camillo golgi grouped neurons into two types; type i with long axons used to move signals over long distances and type ii with short axons, which can often be confused with dendrites. type i cells can be further divided by where the cell body or soma is located. the basic morphology of type i neurons, represented by spinal motor neurons, consists of a cell body called the soma and a long thin axon covered by the myelin sheath. around the cell body is a branching dendritic tree that receives signals from other neurons. the end of the axon has branching terminals (axon terminal) that release neurotransmitters into a gap called the synaptic cleft between the terminals and the dendrites of the next neuron. \n"
     ]
    }
   ],
   "source": [
    "# QUESTION 6\n",
    "# a) load the dataset '/resources/strings_example_2.txt'\n",
    "\n",
    "file2= 'strings_example_2.txt'\n",
    "dataset_filepath2 = '/Users/loukia/Jupyter projects/week_1/assignments/resources/strings_example_2.txt'\n",
    "with open(dataset_filepath2, 'r') as input_file2:\n",
    "    text2 = input_file2.read()\n",
    "\n",
    "# b) clean the text and create a flat list containing every word\n",
    "\n",
    "flat_text = text2.replace('\\n', ' ').lower() #this will replace the new lines with an empty space and make it all into one long text \n",
    "                                            # that's what they mean when they are saying flat text\n",
    "                                            # also the function lower will make all of them lower case letters\n",
    "print(flat_text)"
   ]
  },
  {
   "cell_type": "code",
   "execution_count": 44,
   "metadata": {},
   "outputs": [
    {
     "name": "stdout",
     "output_type": "stream",
     "text": [
      "\n",
      "\n",
      "Special characters: {'.', '§', '8', '4', '7', '1', '3', \"'\", '—', '0', ')', ':', '\\n', '/', ';', ',', '–', '9', '[', '(', '-', '6', '\\t', ' ', '\"', '5', ']', '2'}\n",
      "\n",
      "\n",
      " Neuron From Wikipedia  the free encyclopedia This article is about cells in the nervous system  For other uses  see Neuron  disambiguation    Brain cell  redirects here  For other uses  see Glial cell  Neuron Blausen      MultipolarNeuron png Anatomy of a multipolar neuron Identifiers MeSH  D       NeuroLex ID  sao           TA  A            TH  H                FMA        Anatomical terms of neuroanatomy  edit on Wikidata  This schematic shows an anatomically accurate single pyramidal neuron  the primary excitatory neuron of cerebral cortex  with a synaptic connection from an incoming axon onto a dendritic spine   A neuron  also known as a neurone  British spelling  and nerve cell  is an electrically excitable cell that receives  processes  and transmits information through electrical and chemical signals  These signals between neurons occur via specialized connections called synapses  Neurons can connect to each other to form neural networks  Neurons are the primary components of the central nervous system  which includes the brain and spinal cord  and of the peripheral nervous system  which comprises the autonomic nervous system and the somatic nervous system   There are many types of specialized neurons  Sensory neurons respond to one particular type of stimulus such as touch  sound  or light and all other stimuli affecting the cells of the sensory organs  and converts it into an electrical signal via transduction  which is then sent to the spinal cord or brain  Motor neurons receive signals from the brain and spinal cord to cause everything from muscle contractions and affect glandular outputs  Interneurons connect neurons to other neurons within the same region of the brain or spinal cord in neural networks   A typical neuron consists of a cell body  soma   dendrites  and an axon  The term neurite is used to describe either a dendrite or an axon  particularly in its undifferentiated stage  Dendrites are thin structures that arise from the cell body  often extending for hundreds of micrometers and branching multiple times  giving rise to a complex  dendritic tree   An axon  also called a nerve fiber  is a special cellular extension  process  that arises from the cell body at a site called the axon hillock and travels for a distance  as far as   meter in humans or even more in other species  Most neurons receive signals via the dendrites and send out signals down the axon  Numerous axons are often bundled into fascicles that make up the nerves in the peripheral nervous system  like strands of wire make up cables   Bundles of axons in the central nervous system are called tracts  The cell body of a neuron frequently gives rise to multiple dendrites  but never to more than one axon  although the axon may branch hundreds of times before it terminates  At the majority of synapses  signals are sent from the axon of one neuron to a dendrite of another  There are  however  many exceptions to these rules  for example  neurons can lack dendrites  or have no axon  and synapses can connect an axon to another axon or a dendrite to another dendrite   All neurons are electrically excitable  due to maintenance of voltage gradients across their membranes by means of metabolically driven ion pumps  which combine with ion channels embedded in the membrane to generate intracellular versus extracellular concentration differences of ions such as sodium  potassium  chloride  and calcium  Changes in the cross membrane voltage can alter the function of voltage dependent ion channels  If the voltage changes by a large enough amount  an all or none electrochemical pulse called an action potential is generated and this change in cross membrane potential travels rapidly along the cell s axon  and activates synaptic connections with other cells when it arrives   In most cases  neurons are generated by special types of stem cells during brain development and childhood  Neurons in the adult brain generally do not undergo cell division  Astrocytes are star shaped glial cells that have also been observed to turn into neurons by virtue of the stem cell characteristic pluripotency  Neurogenesis largely ceases during adulthood in most areas of the brain  However  there is strong evidence for generation of substantial numbers of new neurons in two brain areas  the hippocampus and olfactory bulb         Contents        Overview       Anatomy and histology             Histology and internal structure       Classification             Structural classification                   Polarity                   Other             Functional classification                   Direction                   Action on other neurons                   Discharge patterns                   Classification by neurotransmitter production       Connectivity       Mechanisms for propagating action potentials       Neural coding       All or none principle       History             Neuron doctrine       Neurons in the brain        Neurological disorders              Demyelination              Axonal degeneration        Neurogenesis        Nerve regeneration        See also        References        Further reading        External links  Overview Structure of a typical neuron Neuron  peripheral nervous system  At one end of an elongated structure is a branching mass  At the centre of this mass is the nucleus and the branches are dendrites  A thick axon trails away from the mass  ending with further branching which are labeled as axon terminals  Along the axon are a number of protuberances labeled as myelin sheaths  Dendrite Soma Axon Nucleus Node of Ranvier Axon terminal Schwann cell Myelin sheath Drawing of neurons in the pigeon cerebellum  by Spanish neuroscientist Santiago Ramón y Cajal in        A  denotes Purkinje cells and  B  denotes granule cells  both of which are multipolar  Neuron cell body  A neuron is a specialized type of cell found in the bodies of all eumetozoans  Only sponges and a few other simpler animals lack neurons  The features that define a neuron are electrical excitability    and the presence of synapses  which are complex membrane junctions that transmit signals to other cells  The body s neurons  plus the glial cells that give them structural and metabolic support  together constitute the nervous system  In vertebrates  the majority of neurons belong to the central nervous system  but some reside in peripheral ganglia  and many sensory neurons are situated in sensory organs such as the retina and cochlea   A typical neuron is divided into three parts  the soma or cell body  dendrites  and axon  The soma is usually compact  the axon and dendrites are filaments that extrude from it  Dendrites typically branch profusely  getting thinner with each branching  and extending their farthest branches a few hundred micrometers from the soma  The axon leaves the soma at a swelling called the axon hillock  and can extend for great distances  giving rise to hundreds of branches  Unlike dendrites  an axon usually maintains the same diameter as it extends  The soma may give rise to numerous dendrites  but never to more than one axon  Synaptic signals from other neurons are received by the soma and dendrites  signals to other neurons are transmitted by the axon  A typical synapse  then  is a contact between the axon of one neuron and a dendrite or soma of another  Synaptic signals may be excitatory or inhibitory  If the net excitation received by a neuron over a short period of time is large enough  the neuron generates a brief pulse called an action potential  which originates at the soma and propagates rapidly along the axon  activating synapses onto other neurons as it goes   Many neurons fit the foregoing schema in every respect  but there are also exceptions to most parts of it  There are no neurons that lack a soma  but there are neurons that lack dendrites  and others that lack an axon  Furthermore  in addition to the typical axodendritic and axosomatic synapses  there are axoaxonic  axon to axon  and dendrodendritic  dendrite to dendrite  synapses   The key to neural function is the synaptic signaling process  which is partly electrical and partly chemical  The electrical aspect depends on properties of the neuron s membrane  Like all animal cells  the cell body of every neuron is enclosed by a plasma membrane  a bilayer of lipid molecules with many types of protein structures embedded in it  A lipid bilayer is a powerful electrical insulator  but in neurons  many of the protein structures embedded in the membrane are electrically active  These include ion channels that permit electrically charged ions to flow across the membrane and ion pumps that actively transport ions from one side of the membrane to the other  Most ion channels are permeable only to specific types of ions  Some ion channels are voltage gated  meaning that they can be switched between open and closed states by altering the voltage difference across the membrane  Others are chemically gated  meaning that they can be switched between open and closed states by interactions with chemicals that diffuse through the extracellular fluid  The interactions between ion channels and ion pumps produce a voltage difference across the membrane  typically a bit less than      of a volt at baseline  This voltage has two functions  first  it provides a power source for an assortment of voltage dependent protein machinery that is embedded in the membrane  second  it provides a basis for electrical signal transmission between different parts of the membrane   Neurons communicate by chemical and electrical synapses in a process known as neurotransmission  also called synaptic transmission  The fundamental process that triggers the release of neurotransmitters is the action potential  a propagating electrical signal that is generated by exploiting the electrically excitable membrane of the neuron  This is also known as a wave of depolarization  Anatomy and histology Diagram of a typical myelinated vertebrate motor neuron  Neurons are highly specialized for the processing and transmission of cellular signals  Given their diversity of functions performed in different parts of the nervous system  there is a wide variety in their shape  size  and electrochemical properties  For instance  the soma of a neuron can vary from   to     micrometers in diameter          The soma is the body of the neuron  As it contains the nucleus  most protein synthesis occurs here  The nucleus can range from   to    micrometers in diameter         The dendrites of a neuron are cellular extensions with many branches  This overall shape and structure is referred to metaphorically as a dendritic tree  This is where the majority of input to the neuron occurs via the dendritic spine      The axon is a finer  cable like projection that can extend tens  hundreds  or even tens of thousands of times the diameter of the soma in length  The axon carries nerve signals away from the soma  and also carries some types of information back to it   Many neurons have only one axon  but this axon may and usually will undergo extensive branching  enabling communication with many target cells  The part of the axon where it emerges from the soma is called the axon hillock  Besides being an anatomical structure  the axon hillock is also the part of the neuron that has the greatest density of voltage dependent sodium channels  This makes it the most easily excited part of the neuron and the spike initiation zone for the axon  in electrophysiological terms  it has the most negative action potential threshold  While the axon and axon hillock are generally involved in information outflow  this region can also receive input from other neurons      The axon terminal contains synapses  specialized structures where neurotransmitter chemicals are released to communicate with target neurons   The accepted view of the neuron attributes dedicated functions to its various anatomical components  however  dendrites and axons often act in ways contrary to their so called main function   Axons and dendrites in the central nervous system are typically only about one micrometer thick  while some in the peripheral nervous system are much thicker  The soma is usually about       micrometers in diameter and often is not much larger than the cell nucleus it contains  The longest axon of a human motor neuron can be over a meter long  reaching from the base of the spine to the toes   Sensory neurons can have axons that run from the toes to the posterior column of the spinal cord  over     meters in adults  Giraffes have single axons several meters in length running along the entire length of their necks  Much of what is known about axonal function comes from studying the squid giant axon  an ideal experimental preparation because of its relatively immense size        millimeters thick  several centimeters long    Fully differentiated neurons are permanently postmitotic     however  research starting around      shows that additional neurons throughout the brain can originate from neural stem cells through the process of neurogenesis  These are found throughout the brain  but are particularly concentrated in the subventricular zone and subgranular zone     Histology and internal structure Golgi stained neurons in human hippocampal tissue Actin filaments in a mouse Cortical Neuron in culture  Numerous microscopic clumps called Nissl substance  or Nissl bodies  are seen when nerve cell bodies are stained with a basophilic   base loving   dye  These structures consist of rough endoplasmic reticulum and associated ribosomal RNA  Named after German psychiatrist and neuropathologist Franz Nissl              they are involved in protein synthesis and their prominence can be explained by the fact that nerve cells are very metabolically active  Basophilic dyes such as aniline or  weakly  haematoxylin     highlight negatively charged components  and so bind to the phosphate backbone of the ribosomal RNA   The cell body of a neuron is supported by a complex mesh of structural proteins called neurofilaments  which are assembled into larger neurofibrils  Some neurons also contain pigment granules  such as neuromelanin  a brownish black pigment that is byproduct of synthesis of catecholamines   and lipofuscin  a yellowish brown pigment   both of which accumulate with age             Other structural proteins that are important for neuronal function are actin and the tubulin of microtubules  Actin is predominately found at the tips of axons and dendrites during neuronal development   There are different internal structural characteristics between axons and dendrites  Typical axons almost never contain ribosomes  except some in the initial segment  Dendrites contain granular endoplasmic reticulum or ribosomes  in diminishing amounts as the distance from the cell body increases  Classification Image of pyramidal neurons in mouse cerebral cortex expressing green fluorescent protein  The red staining indicates GABAergic interneurons      SMI   stained pyramidal neurons in cerebral cortex See also  List of distinct cell types in the adult human body   Nervous system  Neurons exist in a number of different shapes and sizes and can be classified by their morphology and function      The anatomist Camillo Golgi grouped neurons into two types  type I with long axons used to move signals over long distances and type II with short axons  which can often be confused with dendrites  Type I cells can be further divided by where the cell body or soma is located  The basic morphology of type I neurons  represented by spinal motor neurons  consists of a cell body called the soma and a long thin axon covered by the myelin sheath  Around the cell body is a branching dendritic tree that receives signals from other neurons  The end of the axon has branching terminals  axon terminal  that release neurotransmitters into a gap called the synaptic cleft between the terminals and the dendrites of the next neuron  \n",
      "Neuron From Wikipedia  the free encyclopedia This article is about cells in the nervous system  For other uses  see Neuron  disambiguation    Brain cell  redirects here  For other uses  see Glial cell  Neuron Blausen      MultipolarNeuron png Anatomy of a multipolar neuron Identifiers MeSH  D       NeuroLex ID  sao           TA  A            TH  H                FMA        Anatomical terms of neuroanatomy  edit on Wikidata  This schematic shows an anatomically accurate single pyramidal neuron  the primary excitatory neuron of cerebral cortex  with a synaptic connection from an incoming axon onto a dendritic spine   A neuron  also known as a neurone  British spelling  and nerve cell  is an electrically excitable cell that receives  processes  and transmits information through electrical and chemical signals  These signals between neurons occur via specialized connections called synapses  Neurons can connect to each other to form neural networks  Neurons are the primary components of the central nervous system  which includes the brain and spinal cord  and of the peripheral nervous system  which comprises the autonomic nervous system and the somatic nervous system   There are many types of specialized neurons  Sensory neurons respond to one particular type of stimulus such as touch  sound  or light and all other stimuli affecting the cells of the sensory organs  and converts it into an electrical signal via transduction  which is then sent to the spinal cord or brain  Motor neurons receive signals from the brain and spinal cord to cause everything from muscle contractions and affect glandular outputs  Interneurons connect neurons to other neurons within the same region of the brain or spinal cord in neural networks   A typical neuron consists of a cell body  soma   dendrites  and an axon  The term neurite is used to describe either a dendrite or an axon  particularly in its undifferentiated stage  Dendrites are thin structures that arise from the cell body  often extending for hundreds of micrometers and branching multiple times  giving rise to a complex  dendritic tree   An axon  also called a nerve fiber  is a special cellular extension  process  that arises from the cell body at a site called the axon hillock and travels for a distance  as far as   meter in humans or even more in other species  Most neurons receive signals via the dendrites and send out signals down the axon  Numerous axons are often bundled into fascicles that make up the nerves in the peripheral nervous system  like strands of wire make up cables   Bundles of axons in the central nervous system are called tracts  The cell body of a neuron frequently gives rise to multiple dendrites  but never to more than one axon  although the axon may branch hundreds of times before it terminates  At the majority of synapses  signals are sent from the axon of one neuron to a dendrite of another  There are  however  many exceptions to these rules  for example  neurons can lack dendrites  or have no axon  and synapses can connect an axon to another axon or a dendrite to another dendrite   All neurons are electrically excitable  due to maintenance of voltage gradients across their membranes by means of metabolically driven ion pumps  which combine with ion channels embedded in the membrane to generate intracellular versus extracellular concentration differences of ions such as sodium  potassium  chloride  and calcium  Changes in the cross membrane voltage can alter the function of voltage dependent ion channels  If the voltage changes by a large enough amount  an all or none electrochemical pulse called an action potential is generated and this change in cross membrane potential travels rapidly along the cell s axon  and activates synaptic connections with other cells when it arrives   In most cases  neurons are generated by special types of stem cells during brain development and childhood  Neurons in the adult brain generally do not undergo cell division  Astrocytes are star shaped glial cells that have also been observed to turn into neurons by virtue of the stem cell characteristic pluripotency  Neurogenesis largely ceases during adulthood in most areas of the brain  However  there is strong evidence for generation of substantial numbers of new neurons in two brain areas  the hippocampus and olfactory bulb         Contents        Overview       Anatomy and histology             Histology and internal structure       Classification             Structural classification                   Polarity                   Other             Functional classification                   Direction                   Action on other neurons                   Discharge patterns                   Classification by neurotransmitter production       Connectivity       Mechanisms for propagating action potentials       Neural coding       All or none principle       History             Neuron doctrine       Neurons in the brain        Neurological disorders              Demyelination              Axonal degeneration        Neurogenesis        Nerve regeneration        See also        References        Further reading        External links  Overview Structure of a typical neuron Neuron  peripheral nervous system  At one end of an elongated structure is a branching mass  At the centre of this mass is the nucleus and the branches are dendrites  A thick axon trails away from the mass  ending with further branching which are labeled as axon terminals  Along the axon are a number of protuberances labeled as myelin sheaths  Dendrite Soma Axon Nucleus Node of Ranvier Axon terminal Schwann cell Myelin sheath Drawing of neurons in the pigeon cerebellum  by Spanish neuroscientist Santiago Ramón y Cajal in        A  denotes Purkinje cells and  B  denotes granule cells  both of which are multipolar  Neuron cell body  A neuron is a specialized type of cell found in the bodies of all eumetozoans  Only sponges and a few other simpler animals lack neurons  The features that define a neuron are electrical excitability    and the presence of synapses  which are complex membrane junctions that transmit signals to other cells  The body s neurons  plus the glial cells that give them structural and metabolic support  together constitute the nervous system  In vertebrates  the majority of neurons belong to the central nervous system  but some reside in peripheral ganglia  and many sensory neurons are situated in sensory organs such as the retina and cochlea   A typical neuron is divided into three parts  the soma or cell body  dendrites  and axon  The soma is usually compact  the axon and dendrites are filaments that extrude from it  Dendrites typically branch profusely  getting thinner with each branching  and extending their farthest branches a few hundred micrometers from the soma  The axon leaves the soma at a swelling called the axon hillock  and can extend for great distances  giving rise to hundreds of branches  Unlike dendrites  an axon usually maintains the same diameter as it extends  The soma may give rise to numerous dendrites  but never to more than one axon  Synaptic signals from other neurons are received by the soma and dendrites  signals to other neurons are transmitted by the axon  A typical synapse  then  is a contact between the axon of one neuron and a dendrite or soma of another  Synaptic signals may be excitatory or inhibitory  If the net excitation received by a neuron over a short period of time is large enough  the neuron generates a brief pulse called an action potential  which originates at the soma and propagates rapidly along the axon  activating synapses onto other neurons as it goes   Many neurons fit the foregoing schema in every respect  but there are also exceptions to most parts of it  There are no neurons that lack a soma  but there are neurons that lack dendrites  and others that lack an axon  Furthermore  in addition to the typical axodendritic and axosomatic synapses  there are axoaxonic  axon to axon  and dendrodendritic  dendrite to dendrite  synapses   The key to neural function is the synaptic signaling process  which is partly electrical and partly chemical  The electrical aspect depends on properties of the neuron s membrane  Like all animal cells  the cell body of every neuron is enclosed by a plasma membrane  a bilayer of lipid molecules with many types of protein structures embedded in it  A lipid bilayer is a powerful electrical insulator  but in neurons  many of the protein structures embedded in the membrane are electrically active  These include ion channels that permit electrically charged ions to flow across the membrane and ion pumps that actively transport ions from one side of the membrane to the other  Most ion channels are permeable only to specific types of ions  Some ion channels are voltage gated  meaning that they can be switched between open and closed states by altering the voltage difference across the membrane  Others are chemically gated  meaning that they can be switched between open and closed states by interactions with chemicals that diffuse through the extracellular fluid  The interactions between ion channels and ion pumps produce a voltage difference across the membrane  typically a bit less than      of a volt at baseline  This voltage has two functions  first  it provides a power source for an assortment of voltage dependent protein machinery that is embedded in the membrane  second  it provides a basis for electrical signal transmission between different parts of the membrane   Neurons communicate by chemical and electrical synapses in a process known as neurotransmission  also called synaptic transmission  The fundamental process that triggers the release of neurotransmitters is the action potential  a propagating electrical signal that is generated by exploiting the electrically excitable membrane of the neuron  This is also known as a wave of depolarization  Anatomy and histology Diagram of a typical myelinated vertebrate motor neuron  Neurons are highly specialized for the processing and transmission of cellular signals  Given their diversity of functions performed in different parts of the nervous system  there is a wide variety in their shape  size  and electrochemical properties  For instance  the soma of a neuron can vary from   to     micrometers in diameter          The soma is the body of the neuron  As it contains the nucleus  most protein synthesis occurs here  The nucleus can range from   to    micrometers in diameter         The dendrites of a neuron are cellular extensions with many branches  This overall shape and structure is referred to metaphorically as a dendritic tree  This is where the majority of input to the neuron occurs via the dendritic spine      The axon is a finer  cable like projection that can extend tens  hundreds  or even tens of thousands of times the diameter of the soma in length  The axon carries nerve signals away from the soma  and also carries some types of information back to it   Many neurons have only one axon  but this axon may and usually will undergo extensive branching  enabling communication with many target cells  The part of the axon where it emerges from the soma is called the axon hillock  Besides being an anatomical structure  the axon hillock is also the part of the neuron that has the greatest density of voltage dependent sodium channels  This makes it the most easily excited part of the neuron and the spike initiation zone for the axon  in electrophysiological terms  it has the most negative action potential threshold  While the axon and axon hillock are generally involved in information outflow  this region can also receive input from other neurons      The axon terminal contains synapses  specialized structures where neurotransmitter chemicals are released to communicate with target neurons   The accepted view of the neuron attributes dedicated functions to its various anatomical components  however  dendrites and axons often act in ways contrary to their so called main function   Axons and dendrites in the central nervous system are typically only about one micrometer thick  while some in the peripheral nervous system are much thicker  The soma is usually about       micrometers in diameter and often is not much larger than the cell nucleus it contains  The longest axon of a human motor neuron can be over a meter long  reaching from the base of the spine to the toes   Sensory neurons can have axons that run from the toes to the posterior column of the spinal cord  over     meters in adults  Giraffes have single axons several meters in length running along the entire length of their necks  Much of what is known about axonal function comes from studying the squid giant axon  an ideal experimental preparation because of its relatively immense size        millimeters thick  several centimeters long    Fully differentiated neurons are permanently postmitotic     however  research starting around      shows that additional neurons throughout the brain can originate from neural stem cells through the process of neurogenesis  These are found throughout the brain  but are particularly concentrated in the subventricular zone and subgranular zone     Histology and internal structure Golgi stained neurons in human hippocampal tissue Actin filaments in a mouse Cortical Neuron in culture  Numerous microscopic clumps called Nissl substance  or Nissl bodies  are seen when nerve cell bodies are stained with a basophilic   base loving   dye  These structures consist of rough endoplasmic reticulum and associated ribosomal RNA  Named after German psychiatrist and neuropathologist Franz Nissl              they are involved in protein synthesis and their prominence can be explained by the fact that nerve cells are very metabolically active  Basophilic dyes such as aniline or  weakly  haematoxylin     highlight negatively charged components  and so bind to the phosphate backbone of the ribosomal RNA   The cell body of a neuron is supported by a complex mesh of structural proteins called neurofilaments  which are assembled into larger neurofibrils  Some neurons also contain pigment granules  such as neuromelanin  a brownish black pigment that is byproduct of synthesis of catecholamines   and lipofuscin  a yellowish brown pigment   both of which accumulate with age             Other structural proteins that are important for neuronal function are actin and the tubulin of microtubules  Actin is predominately found at the tips of axons and dendrites during neuronal development   There are different internal structural characteristics between axons and dendrites  Typical axons almost never contain ribosomes  except some in the initial segment  Dendrites contain granular endoplasmic reticulum or ribosomes  in diminishing amounts as the distance from the cell body increases  Classification Image of pyramidal neurons in mouse cerebral cortex expressing green fluorescent protein  The red staining indicates GABAergic interneurons      SMI   stained pyramidal neurons in cerebral cortex See also  List of distinct cell types in the adult human body   Nervous system  Neurons exist in a number of different shapes and sizes and can be classified by their morphology and function      The anatomist Camillo Golgi grouped neurons into two types  type I with long axons used to move signals over long distances and type II with short axons  which can often be confused with dendrites  Type I cells can be further divided by where the cell body or soma is located  The basic morphology of type I neurons  represented by spinal motor neurons  consists of a cell body called the soma and a long thin axon covered by the myelin sheath  Around the cell body is a branching dendritic tree that receives signals from other neurons  The end of the axon has branching terminals  axon terminal  that release neurotransmitters into a gap called the synaptic cleft between the terminals and the dendrites of the next neuron  \n"
     ]
    }
   ],
   "source": [
    "special_chars = set([char for char in text2 if not char.isalpha()])\n",
    "print(\"\\n\\nSpecial characters: {}\".format(special_chars)) #the .format will print in the place of the curly brackets{} whatever is in the parenthesis after (format)\n",
    "\n",
    "special_chars_correction = str.maketrans(''.join(special_chars), ' '*len(special_chars))\n",
    "clean_text = text2.translate(special_chars_correction)\n",
    "print(\"\\n\\n {}\".format(clean_text))# I use the curly brackets to say the position of my text and then the .format(clean_text) will say which text to put in the curly brackets\n",
    "#OR JUST\n",
    "print (clean_text) #and it will add it without spaces\n",
    "\n"
   ]
  },
  {
   "cell_type": "code",
   "execution_count": 45,
   "metadata": {},
   "outputs": [
    {
     "name": "stdout",
     "output_type": "stream",
     "text": [
      "\n",
      "\n",
      "Special characters: {'.', '§', '8', '4', '7', '1', '3', \"'\", '—', '0', ')', ':', '\\n', '/', ';', ',', '–', '9', '[', '(', '-', '6', '\\t', ' ', '\"', '5', ']', '2'}\n",
      "Neuron\n",
      "From Wikipedia, the free encyclopedia\n",
      "This article is about cells in the nervous system. For other uses, see Neuron (disambiguation).\n",
      "\"Brain cell\" redirects here. For other uses, see Glial cell.\n",
      "Neuron\n",
      "Blausen 0657 MultipolarNeuron.png\n",
      "Anatomy of a multipolar neuron\n",
      "Identifiers\n",
      "MeSH \tD009474\n",
      "NeuroLex ID \tsao1417703748\n",
      "TA \tA14.0.00.00 \n",
      "TH \tH .00.06.1.0000 \n",
      "FMA \t56566\n",
      "Anatomical terms of neuroanatomy\n",
      "[edit on Wikidata]\n",
      "This schematic shows an anatomically accurate single pyramidal neuron, the primary excitatory neuron of cerebral cortex, with a synaptic connection from an incoming axon onto a dendritic spine.\n",
      "\n",
      "A neuron, also known as a neurone (British spelling) and nerve cell, is an electrically excitable cell that receives, processes, and transmits information through electrical and chemical signals. These signals between neurons occur via specialized connections called synapses. Neurons can connect to each other to form neural networks. Neurons are the primary components of the central nervous system, which includes the brain and spinal cord, and of the peripheral nervous system, which comprises the autonomic nervous system and the somatic nervous system.\n",
      "\n",
      "There are many types of specialized neurons. Sensory neurons respond to one particular type of stimulus such as touch, sound, or light and all other stimuli affecting the cells of the sensory organs, and converts it into an electrical signal via transduction, which is then sent to the spinal cord or brain. Motor neurons receive signals from the brain and spinal cord to cause everything from muscle contractions and affect glandular outputs. Interneurons connect neurons to other neurons within the same region of the brain or spinal cord in neural networks.\n",
      "\n",
      "A typical neuron consists of a cell body (soma), dendrites, and an axon. The term neurite is used to describe either a dendrite or an axon, particularly in its undifferentiated stage. Dendrites are thin structures that arise from the cell body, often extending for hundreds of micrometers and branching multiple times, giving rise to a complex \"dendritic tree\". An axon (also called a nerve fiber) is a special cellular extension (process) that arises from the cell body at a site called the axon hillock and travels for a distance, as far as 1 meter in humans or even more in other species. Most neurons receive signals via the dendrites and send out signals down the axon. Numerous axons are often bundled into fascicles that make up the nerves in the peripheral nervous system (like strands of wire make up cables). Bundles of axons in the central nervous system are called tracts. The cell body of a neuron frequently gives rise to multiple dendrites, but never to more than one axon, although the axon may branch hundreds of times before it terminates. At the majority of synapses, signals are sent from the axon of one neuron to a dendrite of another. There are, however, many exceptions to these rules: for example, neurons can lack dendrites, or have no axon, and synapses can connect an axon to another axon or a dendrite to another dendrite.\n",
      "\n",
      "All neurons are electrically excitable, due to maintenance of voltage gradients across their membranes by means of metabolically driven ion pumps, which combine with ion channels embedded in the membrane to generate intracellular-versus-extracellular concentration differences of ions such as sodium, potassium, chloride, and calcium. Changes in the cross-membrane voltage can alter the function of voltage-dependent ion channels. If the voltage changes by a large enough amount, an all-or-none electrochemical pulse called an action potential is generated and this change in cross-membrane potential travels rapidly along the cell's axon, and activates synaptic connections with other cells when it arrives.\n",
      "\n",
      "In most cases, neurons are generated by special types of stem cells during brain development and childhood. Neurons in the adult brain generally do not undergo cell division. Astrocytes are star-shaped glial cells that have also been observed to turn into neurons by virtue of the stem cell characteristic pluripotency. Neurogenesis largely ceases during adulthood in most areas of the brain. However, there is strong evidence for generation of substantial numbers of new neurons in two brain areas, the hippocampus and olfactory bulb.[1][ ]\n",
      "\n",
      "Contents\n",
      "\n",
      "    1 Overview\n",
      "      Anatomy and histology\n",
      "         .1 Histology and internal structure\n",
      "    3 Classification\n",
      "        3.1 Structural classification\n",
      "            3.1.1 Polarity\n",
      "            3.1.  Other\n",
      "        3.  Functional classification\n",
      "            3. .1 Direction\n",
      "            3. .  Action on other neurons\n",
      "            3. .3 Discharge patterns\n",
      "            3. .4 Classification by neurotransmitter production\n",
      "    4 Connectivity\n",
      "    5 Mechanisms for propagating action potentials\n",
      "    6 Neural coding\n",
      "    7 All-or-none principle\n",
      "    8 History\n",
      "        8.1 Neuron doctrine\n",
      "    9 Neurons in the brain\n",
      "    10 Neurological disorders\n",
      "        10.1 Demyelination\n",
      "        10.  Axonal degeneration\n",
      "    11 Neurogenesis\n",
      "    1  Nerve regeneration\n",
      "    13 See also\n",
      "    14 References\n",
      "    15 Further reading\n",
      "    16 External links\n",
      "\n",
      "Overview\n",
      "Structure of a typical neuron Neuron (peripheral nervous system)\n",
      "At one end of an elongated structure is a branching mass. At the centre of this mass is the nucleus and the branches are dendrites. A thick axon trails away from the mass, ending with further branching which are labeled as axon terminals. Along the axon are a number of protuberances labeled as myelin sheaths.\n",
      "Dendrite\n",
      "Soma\n",
      "Axon\n",
      "Nucleus\n",
      "Node of\n",
      "Ranvier\n",
      "Axon terminal\n",
      "Schwann cell\n",
      "Myelin sheath\n",
      "Drawing of neurons in the pigeon cerebellum, by Spanish neuroscientist Santiago Ramón y Cajal in 1899. (A) denotes Purkinje cells and (B) denotes granule cells, both of which are multipolar.\n",
      "Neuron cell body\n",
      "\n",
      "A neuron is a specialized type of cell found in the bodies of all eumetozoans. Only sponges and a few other simpler animals lack neurons. The features that define a neuron are electrical excitability[3] and the presence of synapses, which are complex membrane junctions that transmit signals to other cells. The body's neurons, plus the glial cells that give them structural and metabolic support, together constitute the nervous system. In vertebrates, the majority of neurons belong to the central nervous system, but some reside in peripheral ganglia, and many sensory neurons are situated in sensory organs such as the retina and cochlea.\n",
      "\n",
      "A typical neuron is divided into three parts: the soma or cell body, dendrites, and axon. The soma is usually compact; the axon and dendrites are filaments that extrude from it. Dendrites typically branch profusely, getting thinner with each branching, and extending their farthest branches a few hundred micrometers from the soma. The axon leaves the soma at a swelling called the axon hillock, and can extend for great distances, giving rise to hundreds of branches. Unlike dendrites, an axon usually maintains the same diameter as it extends. The soma may give rise to numerous dendrites, but never to more than one axon. Synaptic signals from other neurons are received by the soma and dendrites; signals to other neurons are transmitted by the axon. A typical synapse, then, is a contact between the axon of one neuron and a dendrite or soma of another. Synaptic signals may be excitatory or inhibitory. If the net excitation received by a neuron over a short period of time is large enough, the neuron generates a brief pulse called an action potential, which originates at the soma and propagates rapidly along the axon, activating synapses onto other neurons as it goes.\n",
      "\n",
      "Many neurons fit the foregoing schema in every respect, but there are also exceptions to most parts of it. There are no neurons that lack a soma, but there are neurons that lack dendrites, and others that lack an axon. Furthermore, in addition to the typical axodendritic and axosomatic synapses, there are axoaxonic (axon-to-axon) and dendrodendritic (dendrite-to-dendrite) synapses.\n",
      "\n",
      "The key to neural function is the synaptic signaling process, which is partly electrical and partly chemical. The electrical aspect depends on properties of the neuron's membrane. Like all animal cells, the cell body of every neuron is enclosed by a plasma membrane, a bilayer of lipid molecules with many types of protein structures embedded in it. A lipid bilayer is a powerful electrical insulator, but in neurons, many of the protein structures embedded in the membrane are electrically active. These include ion channels that permit electrically charged ions to flow across the membrane and ion pumps that actively transport ions from one side of the membrane to the other. Most ion channels are permeable only to specific types of ions. Some ion channels are voltage gated, meaning that they can be switched between open and closed states by altering the voltage difference across the membrane. Others are chemically gated, meaning that they can be switched between open and closed states by interactions with chemicals that diffuse through the extracellular fluid. The interactions between ion channels and ion pumps produce a voltage difference across the membrane, typically a bit less than 1/10 of a volt at baseline. This voltage has two functions: first, it provides a power source for an assortment of voltage-dependent protein machinery that is embedded in the membrane; second, it provides a basis for electrical signal transmission between different parts of the membrane.\n",
      "\n",
      "Neurons communicate by chemical and electrical synapses in a process known as neurotransmission, also called synaptic transmission. The fundamental process that triggers the release of neurotransmitters is the action potential, a propagating electrical signal that is generated by exploiting the electrically excitable membrane of the neuron. This is also known as a wave of depolarization.\n",
      "Anatomy and histology\n",
      "Diagram of a typical myelinated vertebrate motor neuron\n",
      "\n",
      "Neurons are highly specialized for the processing and transmission of cellular signals. Given their diversity of functions performed in different parts of the nervous system, there is a wide variety in their shape, size, and electrochemical properties. For instance, the soma of a neuron can vary from 4 to 100 micrometers in diameter.[4]\n",
      "\n",
      "    The soma is the body of the neuron. As it contains the nucleus, most protein synthesis occurs here. The nucleus can range from 3 to 18 micrometers in diameter.[5]\n",
      "    The dendrites of a neuron are cellular extensions with many branches. This overall shape and structure is referred to metaphorically as a dendritic tree. This is where the majority of input to the neuron occurs via the dendritic spine.\n",
      "    The axon is a finer, cable-like projection that can extend tens, hundreds, or even tens of thousands of times the diameter of the soma in length. The axon carries nerve signals away from the soma (and also carries some types of information back to it). Many neurons have only one axon, but this axon may—and usually will—undergo extensive branching, enabling communication with many target cells. The part of the axon where it emerges from the soma is called the axon hillock. Besides being an anatomical structure, the axon hillock is also the part of the neuron that has the greatest density of voltage-dependent sodium channels. This makes it the most easily excited part of the neuron and the spike initiation zone for the axon: in electrophysiological terms, it has the most negative action potential threshold. While the axon and axon hillock are generally involved in information outflow, this region can also receive input from other neurons.\n",
      "    The axon terminal contains synapses, specialized structures where neurotransmitter chemicals are released to communicate with target neurons.\n",
      "\n",
      "The accepted view of the neuron attributes dedicated functions to its various anatomical components; however, dendrites and axons often act in ways contrary to their so-called main function.\n",
      "\n",
      "Axons and dendrites in the central nervous system are typically only about one micrometer thick, while some in the peripheral nervous system are much thicker. The soma is usually about 10– 5 micrometers in diameter and often is not much larger than the cell nucleus it contains. The longest axon of a human motor neuron can be over a meter long, reaching from the base of the spine to the toes.\n",
      "\n",
      "Sensory neurons can have axons that run from the toes to the posterior column of the spinal cord, over 1.5 meters in adults. Giraffes have single axons several meters in length running along the entire length of their necks. Much of what is known about axonal function comes from studying the squid giant axon, an ideal experimental preparation because of its relatively immense size (0.5–1 millimeters thick, several centimeters long).\n",
      "\n",
      "Fully differentiated neurons are permanently postmitotic;[6] however, research starting around  00  shows that additional neurons throughout the brain can originate from neural stem cells through the process of neurogenesis. These are found throughout the brain, but are particularly concentrated in the subventricular zone and subgranular zone.[7]\n",
      "Histology and internal structure\n",
      "Golgi-stained neurons in human hippocampal tissue\n",
      "Actin filaments in a mouse Cortical Neuron in culture\n",
      "\n",
      "Numerous microscopic clumps called Nissl substance (or Nissl bodies) are seen when nerve cell bodies are stained with a basophilic (\"base-loving\") dye. These structures consist of rough endoplasmic reticulum and associated ribosomal RNA. Named after German psychiatrist and neuropathologist Franz Nissl (1860–1919), they are involved in protein synthesis and their prominence can be explained by the fact that nerve cells are very metabolically active. Basophilic dyes such as aniline or (weakly) haematoxylin [8] highlight negatively charged components, and so bind to the phosphate backbone of the ribosomal RNA.\n",
      "\n",
      "The cell body of a neuron is supported by a complex mesh of structural proteins called neurofilaments, which are assembled into larger neurofibrils. Some neurons also contain pigment granules, such as neuromelanin (a brownish-black pigment that is byproduct of synthesis of catecholamines), and lipofuscin (a yellowish-brown pigment), both of which accumulate with age.[9][10][11] Other structural proteins that are important for neuronal function are actin and the tubulin of microtubules. Actin is predominately found at the tips of axons and dendrites during neuronal development.\n",
      "\n",
      "There are different internal structural characteristics between axons and dendrites. Typical axons almost never contain ribosomes, except some in the initial segment. Dendrites contain granular endoplasmic reticulum or ribosomes, in diminishing amounts as the distance from the cell body increases.\n",
      "Classification\n",
      "Image of pyramidal neurons in mouse cerebral cortex expressing green fluorescent protein. The red staining indicates GABAergic interneurons.[1 ]\n",
      "SMI3 -stained pyramidal neurons in cerebral cortex\n",
      "See also: List of distinct cell types in the adult human body § Nervous system\n",
      "\n",
      "Neurons exist in a number of different shapes and sizes and can be classified by their morphology and function.[13] The anatomist Camillo Golgi grouped neurons into two types; type I with long axons used to move signals over long distances and type II with short axons, which can often be confused with dendrites. Type I cells can be further divided by where the cell body or soma is located. The basic morphology of type I neurons, represented by spinal motor neurons, consists of a cell body called the soma and a long thin axon covered by the myelin sheath. Around the cell body is a branching dendritic tree that receives signals from other neurons. The end of the axon has branching terminals (axon terminal) that release neurotransmitters into a gap called the synaptic cleft between the terminals and the dendrites of the next neuron.\n",
      "\n"
     ]
    }
   ],
   "source": [
    "\"\"\"alternatively\"\"\"\n",
    "\n",
    "\n",
    "# Formatters work by putting in one or more replacement fields or placeholders — \n",
    "# defined by a pair of curly braces {} — into a string and calling the str.format() method. \n",
    "# You’ll pass into the method the value you want to concatenate with the string. \n",
    "# This value will be passed through in the same place that your placeholder is positioned when you run the program.\n",
    "\n",
    "special_chars2 = set([char for char in text2 if not char.isalpha()])\n",
    "\n",
    "print(\"\\n\\nSpecial characters: {}\".format(special_chars))\n",
    "\n",
    "# str.replace(old, new[, count])¶\n",
    "# Return a copy of the string with all occurrences of substring old replaced by new. If the optional argument count is given,\n",
    "# only the first count occurrences are replaced.\n",
    "\n",
    "for char in special_chars2:\n",
    "    clean_text2 = text2.replace(char, ' ')\n",
    "print(clean_text2)\n",
    "\n",
    "\n",
    "# for char in special_chars:\n",
    "#     clean_text = clean_text.replace(char, ' ')\n",
    "# print(clean_text)"
   ]
  },
  {
   "cell_type": "code",
   "execution_count": 46,
   "metadata": {},
   "outputs": [
    {
     "name": "stdout",
     "output_type": "stream",
     "text": [
      "['abc', '', '', 'def']\n",
      "['abc', 'def']\n"
     ]
    }
   ],
   "source": [
    "# c) produce a dictionary containing each word as a key and that word's count as the value\n",
    "\n",
    "\"\"\"See that we did not giver a separation characters to split. As the documentation states\n",
    "If sep is not specified or is None, a different splitting algorithm is applied: \n",
    "runs of consecutive whitespace are regarded as a single separator,\n",
    "and the result will contain no empty strings at the start or end\n",
    "if the string has leading or trailing whitespace.\n",
    "\"\"\"\n",
    "\n",
    "\"\"\" For reference\"\"\"\n",
    "t = 'abc   def'\n",
    "print(t.split(' '))\n",
    "# ['abc', '', '', 'def']\n",
    "\n",
    "print(t.split())\n",
    "# ['abc', 'def']"
   ]
  },
  {
   "cell_type": "code",
   "execution_count": 47,
   "metadata": {},
   "outputs": [
    {
     "name": "stdout",
     "output_type": "stream",
     "text": [
      "[('running', 1), ('B', 1), ('distinct', 1), ('often', 5), ('which', 12), ('Connectivity', 1), ('Glial', 1), ('Functional', 1), ('back', 1), ('makes', 1), ('links', 1), ('aniline', 1), ('British', 1), ('grouped', 1), ('nervous', 13), ('somatic', 1), ('virtue', 1), ('animal', 1), ('A', 9), ('I', 3), ('reside', 1), ('cortex', 3), ('versus', 1), ('then', 2), ('entire', 1), ('mass', 3), ('actin', 1), ('great', 1), ('contact', 1), ('While', 1), ('ceases', 1), ('motor', 3), ('cellular', 3), ('open', 2), ('converts', 1), ('that', 29), ('accepted', 1), ('Nervous', 1), ('their', 8), ('several', 2), ('number', 2), ('neuropathologist', 1), ('but', 8), ('outflow', 1), ('cause', 1), ('send', 1), ('many', 7), ('histology', 2), ('plus', 1), ('Dendrites', 3), ('Structure', 1), ('Santiago', 1), ('them', 1), ('chemical', 3), ('cell', 24), ('starting', 1), ('represented', 1), ('like', 2), ('thinner', 1), ('subventricular', 1), ('supported', 1), ('anatomist', 1), ('next', 1), ('density', 1), ('is', 37), ('metaphorically', 1), ('Actin', 2), ('regeneration', 1), ('spine', 3), ('retina', 1), ('transduction', 1), ('giving', 2), ('no', 2), ('received', 2), ('pumps', 3), ('SMI', 1), ('same', 2), ('make', 2), ('Axon', 2), ('sheath', 2), ('networks', 2), ('membranes', 1), ('hippocampus', 1), ('cleft', 1), ('rapidly', 2), ('everything', 1), ('they', 3), ('meaning', 2), ('adult', 2), ('multiple', 2), ('enabling', 1), ('act', 1), ('nucleus', 4), ('fascicles', 1), ('diffuse', 1), ('associated', 1), ('eumetozoans', 1), ('receives', 2), ('receive', 3), ('differences', 1), ('schema', 1), ('leaves', 1), ('cells', 14), ('means', 1), ('Given', 1), ('granules', 1), ('input', 2), ('various', 1), ('on', 3), ('vertebrate', 1), ('thousands', 1), ('generally', 2), ('contractions', 1), ('for', 11), ('involved', 2), ('or', 17), ('Contents', 1), ('List', 1), ('neurotransmitter', 2), ('From', 1), ('potentials', 1), ('although', 1), ('voltage', 10), ('primary', 2), ('performed', 1), ('light', 1), ('change', 1), ('what', 1), ('changes', 1), ('switched', 2), ('microtubules', 1), ('properties', 2), ('negative', 1), ('sao', 1), ('ions', 4), ('the', 141), ('Schwann', 1), ('propagating', 2), ('sponges', 1), ('cerebral', 3), ('neurotransmission', 1), ('out', 1), ('others', 1), ('mesh', 1), ('while', 1), ('Unlike', 1), ('Besides', 1), ('coding', 1), ('communication', 1), ('neuronal', 2), ('special', 2), ('short', 2), ('axosomatic', 1), ('endoplasmic', 2), ('synapses', 9), ('denotes', 2), ('olfactory', 1), ('evidence', 1), ('throughout', 2), ('basis', 1), ('overall', 1), ('Further', 1), ('exploiting', 1), ('accurate', 1), ('However', 1), ('y', 1), ('excitation', 1), ('highly', 1), ('been', 1), ('cables', 1), ('excited', 1), ('fiber', 1), ('basophilic', 1), ('brief', 1), ('microscopic', 1), ('German', 1), ('hippocampal', 1), ('affect', 1), ('childhood', 1), ('bit', 1), ('Typical', 1), ('electrochemical', 2), ('age', 1), ('additional', 1), ('divided', 2), ('fundamental', 1), ('further', 2), ('amounts', 1), ('combine', 1), ('than', 4), ('Polarity', 1), ('range', 1), ('easily', 1), ('consists', 2), ('black', 1), ('basic', 1), ('squid', 1), ('are', 45), ('RNA', 2), ('rules', 1), ('subgranular', 1), ('main', 1), ('electrically', 5), ('Neural', 1), ('about', 4), ('ribosomal', 2), ('humans', 1), ('base', 2), ('closed', 2), ('undifferentiated', 1), ('thin', 2), ('bodies', 3), ('features', 1), ('Some', 2), ('onto', 2), ('covered', 1), ('activates', 1), ('brown', 1), ('particular', 1), ('signaling', 1), ('Around', 1), ('meters', 2), ('time', 1), ('none', 2), ('classified', 1), ('prominence', 1), ('axon', 44), ('fluorescent', 1), ('neurofilaments', 1), ('nerve', 5), ('respond', 1), ('Cortical', 1), ('lack', 5), ('will', 1), ('connections', 2), ('new', 1), ('Ramón', 1), ('source', 1), ('where', 4), ('anatomical', 2), ('also', 12), ('species', 1), ('typically', 3), ('provides', 2), ('few', 2), ('characteristics', 1), ('ways', 1), ('division', 1), ('peripheral', 5), ('other', 16), ('An', 1), ('nerves', 1), ('plasma', 1), ('concentration', 1), ('only', 3), ('not', 2), ('propagates', 1), ('up', 2), ('molecules', 1), ('postmitotic', 1), ('lipofuscin', 1), ('finer', 1), ('Astrocytes', 1), ('structural', 4), ('tracts', 1), ('bilayer', 2), ('redirects', 1), ('by', 20), ('History', 1), ('typical', 6), ('comes', 1), ('neural', 4), ('found', 3), ('cerebellum', 1), ('both', 2), ('predominately', 1), ('includes', 1), ('fit', 1), ('extrude', 1), ('wide', 1), ('specialized', 5), ('process', 5), ('far', 1), ('usually', 4), ('goes', 1), ('NeuroLex', 1), ('ion', 9), ('toes', 2), ('alter', 1), ('embedded', 4), ('potential', 5), ('TH', 1), ('charged', 2), ('sheaths', 1), ('projection', 1), ('partly', 2), ('pluripotency', 1), ('neurofibrils', 1), ('confused', 1), ('Dendrite', 1), ('shaped', 1), ('initiation', 1), ('reading', 1), ('almost', 1), ('reaching', 1), ('at', 5), ('some', 4), ('second', 1), ('Motor', 1), ('less', 1), ('labeled', 2), ('example', 1), ('Spanish', 1), ('structures', 5), ('activating', 1), ('glial', 2), ('powerful', 1), ('signals', 14), ('ending', 1), ('Other', 2), ('connection', 1), ('strong', 1), ('yellowish', 1), ('when', 2), ('Node', 1), ('touch', 1), ('encyclopedia', 1), ('article', 1), ('immense', 1), ('Brain', 1), ('components', 3), ('part', 3), ('proteins', 2), ('II', 1), ('support', 1), ('Action', 1), ('and', 72), ('muscle', 1), ('every', 2), ('Like', 1), ('Anatomical', 1), ('along', 3), ('site', 1), ('rise', 4), ('affecting', 1), ('centre', 1), ('terminates', 1), ('neuroscientist', 1), ('doctrine', 1), ('micrometer', 1), ('Anatomy', 3), ('Only', 1), ('away', 2), ('rough', 1), ('except', 1), ('may', 4), ('thick', 3), ('cable', 1), ('sensory', 3), ('brain', 11), ('intracellular', 1), ('gradients', 1), ('channels', 7), ('via', 4), ('originates', 1), ('neurogenesis', 1), ('contains', 3), ('so', 2), ('sent', 2), ('farthest', 1), ('substantial', 1), ('between', 8), ('three', 1), ('observed', 1), ('Cajal', 1), ('wave', 1), ('Identifiers', 1), ('interactions', 2), ('Fully', 1), ('greatest', 1), ('neurite', 1), ('action', 5), ('form', 1), ('travels', 2), ('structure', 5), ('haematoxylin', 1), ('Type', 1), ('amount', 1), ('reticulum', 2), ('period', 1), ('schematic', 1), ('Franz', 1), ('phosphate', 1), ('include', 1), ('as', 16), ('type', 5), ('electrical', 9), ('cross', 2), ('because', 1), ('backbone', 1), ('processes', 1), ('driven', 1), ('branches', 4), ('H', 1), ('anatomically', 1), ('all', 4), ('permeable', 1), ('disambiguation', 1), ('information', 3), ('function', 6), ('transmit', 1), ('axonal', 1), ('millimeters', 1), ('different', 4), ('either', 1), ('Basophilic', 1), ('addition', 1), ('dendritic', 5), ('much', 2), ('comprises', 1), ('Changes', 1), ('can', 18), ('Axons', 1), ('myelin', 2), ('pulse', 2), ('chemicals', 2), ('maintenance', 1), ('contrary', 1), ('multipolar', 2), ('stimulus', 1), ('experimental', 1), ('body', 15), ('membrane', 14), ('describe', 1), ('Myelin', 1), ('metabolic', 1), ('occur', 1), ('cord', 5), ('times', 3), ('assortment', 1), ('pigment', 3), ('generated', 3), ('For', 3), ('term', 1), ('around', 1), ('occurs', 2), ('Soma', 1), ('very', 1), ('meter', 2), ('insulator', 1), ('instance', 1), ('give', 2), ('tens', 2), ('aspect', 1), ('See', 2), ('triggers', 1), ('thicker', 1), ('swelling', 1), ('transmission', 3), ('Neuron', 7), ('Many', 2), ('adulthood', 1), ('micrometers', 5), ('net', 1), ('here', 2), ('negatively', 1), ('undergo', 2), ('dedicated', 1), ('Nerve', 1), ('extensions', 1), ('two', 3), ('maintains', 1), ('All', 2), ('degeneration', 1), ('Much', 1), ('an', 16), ('long', 5), ('originate', 1), ('stem', 3), ('Histology', 2), ('arises', 1), ('Discharge', 1), ('Others', 1), ('generate', 1), ('Purkinje', 1), ('Synaptic', 2), ('a', 59), ('culture', 1), ('arise', 1), ('longest', 1), ('even', 2), ('vertebrates', 1), ('Overview', 2), ('dyes', 1), ('single', 2), ('weakly', 1), ('increases', 1), ('threshold', 1), ('column', 1), ('has', 4), ('morphology', 2), ('posterior', 1), ('If', 2), ('with', 15), ('internal', 3), ('numerous', 1), ('move', 1), ('contain', 3), ('expressing', 1), ('necks', 1), ('cases', 1), ('calcium', 1), ('MultipolarNeuron', 1), ('lipid', 2), ('External', 1), ('highlight', 1), ('neurone', 1), ('extracellular', 2), ('excitability', 1), ('system', 14), ('types', 7), ('extending', 2), ('gives', 1), ('extends', 1), ('together', 1), ('carries', 2), ('Neurons', 7), ('initial', 1), ('length', 3), ('extension', 1), ('during', 3), ('states', 2), ('over', 4), ('synapse', 1), ('end', 2), ('define', 1), ('target', 2), ('one', 9), ('staining', 1), ('of', 96), ('Giraffes', 1), ('ganglia', 1), ('actively', 1), ('arrives', 1), ('be', 8), ('neuroanatomy', 1), ('ribosomes', 2), ('The', 26), ('vary', 1), ('ID', 1), ('strands', 1), ('run', 1), ('numbers', 1), ('byproduct', 1), ('tips', 1), ('there', 5), ('depolarization', 1), ('protuberances', 1), ('neurons', 39), ('have', 5), ('transmits', 1), ('complex', 3), ('terminals', 3), ('transport', 1), ('tissue', 1), ('depends', 1), ('preparation', 1), ('getting', 1), ('more', 3), ('adults', 1), ('Nissl', 3), ('centimeters', 1), ('first', 1), ('Ranvier', 1), ('Mechanisms', 1), ('such', 5), ('Numerous', 2), ('simpler', 1), ('electrophysiological', 1), ('potassium', 1), ('Wikipedia', 1), ('axons', 10), ('areas', 2), ('consist', 1), ('explained', 1), ('segment', 1), ('Golgi', 2), ('stained', 3), ('clumps', 1), ('brownish', 1), ('axodendritic', 1), ('spelling', 1), ('pyramidal', 3), ('exist', 1), ('called', 14), ('its', 3), ('synthesis', 3), ('most', 6), ('granular', 1), ('permit', 1), ('dendrodendritic', 1), ('As', 1), ('permanently', 1), ('Direction', 1), ('cochlea', 1), ('giant', 1), ('TA', 1), ('principle', 1), ('referred', 1), ('accumulate', 1), ('protein', 6), ('through', 3), ('References', 1), ('majority', 3), ('constitute', 1), ('indicates', 1), ('axoaxonic', 1), ('seen', 1), ('Along', 1), ('Interneurons', 1), ('baseline', 1), ('bind', 1), ('wire', 1), ('sound', 1), ('release', 2), ('sizes', 1), ('green', 1), ('machinery', 1), ('Furthermore', 1), ('stimuli', 1), ('frequently', 1), ('view', 1), ('after', 1), ('never', 3), ('hundred', 1), ('Neurogenesis', 2), ('enough', 2), ('These', 4), ('these', 1), ('another', 4), ('foregoing', 1), ('Blausen', 1), ('Most', 2), ('research', 1), ('however', 3), ('interneurons', 1), ('parts', 4), ('patterns', 1), ('Demyelination', 1), ('variety', 1), ('inhibitory', 1), ('belong', 1), ('being', 1), ('particularly', 2), ('granule', 1), ('fact', 1), ('large', 2), ('specific', 1), ('Nucleus', 1), ('hillock', 5), ('neuron', 28), ('difference', 2), ('mouse', 2), ('characteristic', 1), ('zone', 3), ('in', 50), ('generates', 1), ('incoming', 1), ('synaptic', 5), ('excitatory', 2), ('uses', 2), ('diversity', 1), ('released', 1), ('emerges', 1), ('gated', 2), ('it', 16), ('differentiated', 1), ('distances', 2), ('shape', 2), ('psychiatrist', 1), ('neuromelanin', 1), ('junctions', 1), ('studying', 1), ('spike', 1), ('Axonal', 1), ('soma', 18), ('elongated', 1), ('D', 1), ('This', 7), ('used', 2), ('outputs', 1), ('Neurological', 1), ('dendrite', 7), ('across', 4), ('concentrated', 1), ('within', 1), ('gap', 1), ('each', 2), ('transmitted', 1), ('stage', 1), ('human', 3), ('compact', 1), ('At', 3), ('produce', 1), ('GABAergic', 1), ('assembled', 1), ('chemically', 1), ('There', 4), ('Diagram', 1), ('attributes', 1), ('important', 1), ('located', 1), ('volt', 1), ('key', 1), ('size', 2), ('terminal', 3), ('signal', 3), ('trails', 1), ('largely', 1), ('dendrites', 18), ('down', 1), ('star', 1), ('active', 2), ('altering', 1), ('red', 1), ('presence', 1), ('side', 1), ('free', 1), ('pigeon', 1), ('extend', 2), ('from', 22), ('Bundles', 1), ('distance', 2), ('metabolically', 2), ('into', 7), ('hundreds', 4), ('processing', 1), ('Camillo', 1), ('flow', 1), ('disorders', 1), ('myelinated', 1), ('glandular', 1), ('see', 2), ('central', 4), ('animals', 1), ('profusely', 1), ('respect', 1), ('tree', 3), ('extensive', 1), ('relatively', 1), ('s', 3), ('dependent', 3), ('bulb', 1), ('autonomic', 1), ('turn', 1), ('tubulin', 1), ('filaments', 2), ('region', 2), ('diameter', 5), ('before', 1), ('In', 2), ('connect', 3), ('catecholamines', 1), ('Sensory', 2), ('Drawing', 1), ('to', 43), ('Named', 1), ('this', 4), ('branch', 2), ('fluid', 1), ('larger', 2), ('substance', 1), ('dye', 1), ('MeSH', 1), ('situated', 1), ('functions', 3), ('do', 1), ('Structural', 1), ('production', 1), ('communicate', 2), ('Image', 1), ('edit', 1), ('terms', 2), ('branching', 7), ('power', 1), ('bundled', 1), ('FMA', 1), ('Classification', 3), ('known', 4), ('neurotransmitters', 2), ('sodium', 2), ('ideal', 1), ('shows', 2), ('spinal', 6), ('organs', 2), ('generation', 1), ('development', 2), ('excitable', 3), ('png', 1), ('exceptions', 2), ('due', 1), ('classification', 2), ('enclosed', 1), ('loving', 1), ('diminishing', 1), ('shapes', 1), ('Wikidata', 1), ('chloride', 1)]\n"
     ]
    }
   ],
   "source": [
    "# c) produce a dictionary containing each word as a key and that word's count as the value\n",
    "\n",
    "wordlist = [word for word in clean_text.split() if word.isalpha()]\n",
    "word_counts = [(word, wordlist.count(word)) for word in set(wordlist)]\n",
    "word_counts_dictionary = dict(word_counts) # command dict makes it into a dictionary \n",
    "print (word_counts)\n",
    "\n",
    "# \"\"\" Note the use of set to reduce the sequence to its unique elements \"\"\"\n",
    "\n",
    "\"\"\"Alternatively, using dictionary comprehension\"\"\"\n",
    "word_counts_dictionary = {word: wordlist.count(word) for word in set(wordlist)} \n",
    "#here the curly brackets make it a dictionary"
   ]
  },
  {
   "cell_type": "code",
   "execution_count": 48,
   "metadata": {},
   "outputs": [
    {
     "name": "stdout",
     "output_type": "stream",
     "text": [
      "My average word length is: 6.931930693069307\n",
      "sum_of_word_lengths is: 5601\n",
      "mean_word_length is: 2.297374897456932\n",
      "2438\n"
     ]
    }
   ],
   "source": [
    "# d) find the average length of the unique words in the text\n",
    "# e) find the weighted average word lengths\n",
    "\n",
    "# MY SOLUTION\n",
    "words = set(wordlist)\n",
    "average = sum(len(word) for word in words) / len(words) \n",
    "print ('My average word length is:', average)\n",
    "\n",
    "\n",
    "\n",
    "# FROM TAs\n",
    "wordlist = [word for word in clean_text.split() if word.isalpha()]\n",
    "\n",
    "sum_of_word_lengths = sum([len(word) for word in set(wordlist)]) #this will only take in in account only ONE time irrespectively of how many times they appear in the text\n",
    "print ('sum_of_word_lengths is:', sum_of_word_lengths)\n",
    "\n",
    "mean_word_length = sum_of_word_lengths / len(wordlist)\n",
    "print ('mean_word_length is:', mean_word_length)\n",
    "\n",
    "print (len(wordlist))\n",
    "\n",
    "#why do I find a different solution? this makes no sense to me. "
   ]
  },
  {
   "cell_type": "code",
   "execution_count": 49,
   "metadata": {},
   "outputs": [
    {
     "name": "stdout",
     "output_type": "stream",
     "text": [
      "{'running', 'distinct', 'often', 'which', 'contents', 'makes', 'back', 'links', 'aniline', 'grouped', 'nervous', 'i', 'somatic', 'virtue', 'animal', 'reside', 'polarity', 'cortex', 'versus', 'then', 'entire', 'mass', 'actin', 'great', 'contact', 'motor', 'ceases', 'cellular', 'open', 'given', 'converts', 'that', 'accepted', 'their', 'several', 'number', 'neuropathologist', 'but', 'outflow', 'cause', 'send', 'many', 'histology', 'plus', 'them', 'chemical', 'id', 'cell', 'starting', \"body's\", 'represented', 'like', 'thinner', 'subventricular', 'supported', 'anatomy', 'anatomist', 'diagram', 'next', 'density', 'is', 'metaphorically', 'regeneration', 'spine', 'blausen', 'retina', 'transduction', 'giving', 'no', 'received', 'pumps', 'unlike', 'same', 'make', 'node', 'sheath', 'networks', 'membranes', 'hippocampus', 'cleft', 'rapidly', 'everything', 'they', 'meaning', 'adult', 'multiple', 'enabling', 'act', 'nucleus', 'fascicles', 'diffuse', 'associated', 'eumetozoans', 'golgi', 'receives', 'receive', 'differences', 'schema', 'leaves', 'cells', 'means', 'granules', 'input', 'various', 'on', 'vertebrate', 'smi', 'thousands', 'generally', 'contractions', 'for', 'image', 'involved', 'or', 'neurotransmitter', 'potentials', 'although', 'voltage', 'primary', 'performed', 'light', 'change', 'what', 'changes', 'switched', 'microtubules', 'properties', 'negative', 'sao', 'ions', 'the', 'sponges', 'propagating', 'cerebral', 'camillo', 'neurotransmission', 'out', 'others', 'mesh', 'bundles', 'external', 'while', 'spanish', 'neuronal', 'coding', 'b', 'communication', 'special', 'short', 'axosomatic', 'endoplasmic', 'synapses', 'denotes', 'olfactory', 'purkinje', 'evidence', 'throughout', 'basis', 'overall', 'exploiting', 'accurate', 'y', 'excitation', 'highly', 'cables', 'been', 'excited', 'fiber', 'basophilic', 'brief', 'microscopic', 'hippocampal', 'affect', 'british', 'childhood', 'bit', 'electrochemical', 'drawing', 'age', 'additional', 'divided', 'fundamental', 'further', 'amounts', 'combine', 'than', 'range', 'easily', 'consists', 'black', 'basic', 'squid', 'are', 'rules', 'subgranular', 'main', 'electrically', 'about', \"neuron's\", 'ribosomal', 'humans', 'base', 'closed', 'undifferentiated', 'ram', 'thin', 'bodies', 'features', 'onto', 'covered', 'activates', 'brown', 'particular', 'signaling', 'meters', 'time', 'none', 'classified', 'prominence', 'axon', 'fluorescent', 'neurofilaments', 'direction', 'nerve', 'respond', 'lack', 'will', 'connections', 'new', 'source', 'where', 'anatomical', 'also', 'species', 'typically', 'provides', 'few', 'characteristics', 'ways', 'division', 'peripheral', 'other', 'nerves', 'only', 'plasma', 'concentration', 'not', 'propagates', 'up', 'molecules', 'postmitotic', 'th', 'finer', 'lipofuscin', 'structural', 'tracts', 'bilayer', 'redirects', 'by', 'ii', 'typical', 'comes', 'neural', 'found', 'cerebellum', 'both', 'predominately', 'includes', 'fit', 'extrude', 'wide', 'specialized', 'process', 'far', 'usually', 'goes', 'ion', 'toes', 'if', 'alter', 'embedded', 'potential', 'fully', 'wikipedia', 'charged', 'sheaths', 'projection', 'partly', 'pluripotency', 'neurofibrils', 'confused', 'shaped', 'initiation', 'reading', 'almost', 'reaching', 'at', 'some', 'second', 'less', 'labeled', 'example', 'structures', 'activating', 'glial', 'powerful', 'references', 'signals', 'ending', 'furthermore', 'connection', 'strong', 'yellowish', 'when', 'touch', 'encyclopedia', 'article', 'immense', 'components', 'ranvier', 'part', 'proteins', 'support', 'and', 'muscle', 'every', 'along', 'site', 'rise', 'affecting', 'centre', 'terminates', 'neuroscientist', 'doctrine', 'micrometer', 'away', 'rough', 'except', 'may', 'thick', 'cable', 'sensory', 'brain', 'intracellular', 'gradients', 'channels', 'via', 'neurogenesis', 'originates', 'contains', 'so', 'sent', 'farthest', 'substantial', 'between', 'three', 'observed', 'wave', 'interactions', 'greatest', 'neurite', 'action', 'form', 'travels', 'structure', 'haematoxylin', 'discharge', 'amount', 'overview', 'period', 'reticulum', 'schematic', 'demyelination', 'phosphate', 'include', 'as', 'type', 'electrical', 'cross', 'besides', 'because', 'processes', 'driven', 'branches', 'backbone', 'anatomically', 'all', 'permeable', 'disambiguation', 'information', 'function', 'axonal', 'transmit', 'millimeters', 'different', 'either', 'addition', 'dendritic', 'much', 'comprises', 'fma', 'can', 'myelin', 'pulse', 'chemicals', 'maintenance', 'contrary', 'multipolar', 'stimulus', 'experimental', 'body', 'membrane', 'describe', 'metabolic', 'ta', 'schwann', 'occur', 'cord', 'times', 'assortment', 'pigment', 'generated', 'nissl', 'term', 'around', 'occurs', 'very', 'meter', 'insulator', 'wikidata', 'give', 'instance', 'tens', 'aspect', 'triggers', 'thicker', 'swelling', 'transmission', 'adulthood', 'micrometers', 'net', 'here', 'negatively', 'undergo', 'dedicated', 'extensions', 'two', 'maintains', 'degeneration', 'an', 'long', 'originate', 'stem', 'arises', 'generate', 'a', 'culture', 'arise', 'longest', 'even', 'vertebrates', 'dyes', 'franz', 'single', 'weakly', 'increases', 'threshold', 'column', 'has', 'morphology', 'rna', 'posterior', 'with', 'numerous', 'internal', 'move', 'contain', 'expressing', 'necks', 'cases', 'calcium', 'lipid', 'gabaergic', 'highlight', 'neurone', 'extracellular', 'excitability', 'system', 'types', 'extending', 'gives', 'extends', 'together', 'carries', 'initial', 'length', 'd', 'extension', 'during', 'states', 'over', 'synapse', 'end', 'define', 'target', 'one', 'staining', 'of', 'cajal', 'ganglia', 'actively', 'arrives', 'be', 'neuroanatomy', 'ribosomes', 'vary', 'strands', 'neurolex', 'giraffes', 'run', 'german', 'numbers', 'byproduct', 'tips', 'there', 'depolarization', 'protuberances', 'neurons', 'have', 'transmits', 'complex', 'terminals', 'transport', 'tissue', 'depends', 'preparation', 'getting', 'more', 'adults', 'centimeters', 'first', 'such', 'simpler', 'electrophysiological', 'potassium', 'axons', 'areas', 'consist', 'explained', 'segment', 'stained', 'clumps', 'brownish', 'axodendritic', 'spelling', 'pyramidal', 'cortical', 'exist', 'called', 'its', 'synthesis', 'most', 'granular', 'permit', 'dendrodendritic', 'permanently', 'cochlea', 'list', 'giant', 'principle', 'referred', 'accumulate', 'protein', 'through', 'majority', 'constitute', 'indicates', 'axoaxonic', 'seen', 'baseline', 'bind', 'wire', 'sound', 'release', 'sizes', 'green', 'machinery', 'stimuli', 'frequently', 'view', 'after', 'never', 'hundred', 'enough', 'these', 'another', 'foregoing', 'research', 'however', 'interneurons', 'parts', 'patterns', 'variety', 'inhibitory', 'belong', 'being', 'particularly', 'granule', 'fact', 'large', 'specific', 'hillock', 'neuron', 'n', \"cell's\", 'functional', 'difference', 'mouse', 'characteristic', 'zone', 'in', 'generates', 'incoming', 'synaptic', 'excitatory', 'uses', 'diversity', 'released', 'emerges', 'gated', 'it', 'differentiated', 'distances', 'shape', 'psychiatrist', 'named', 'neuromelanin', 'junctions', 'studying', 'spike', 'soma', 'elongated', 'used', 'santiago', 'astrocytes', 'outputs', 'dendrite', 'across', 'concentrated', 'within', 'connectivity', 'gap', 'each', 'transmitted', 'stage', 'neurological', 'human', 'compact', 'produce', 'multipolarneuron', 'assembled', 'chemically', 'attributes', 'important', 'located', 'volt', 'history', 'key', 'terminal', 'size', 'signal', 'trails', 'largely', 'dendrites', 'down', 'star', 'active', 'altering', 'red', 'presence', 'side', 'free', 'pigeon', 'extend', 'from', 'distance', 'metabolically', 'into', 'hundreds', 'processing', 'flow', 'disorders', 'myelinated', 'glandular', 'see', 'central', 'animals', 'profusely', 'respect', 'tree', 'extensive', 'relatively', 'identifiers', 'dependent', 'bulb', 'autonomic', 'turn', 'tubulin', 'filaments', 'region', 'diameter', 'before', 'mechanisms', 'connect', 'catecholamines', 'to', 'this', 'branch', 'fluid', 'larger', 'substance', 'h', 'dye', 'situated', 'functions', 'do', 'production', 'communicate', 'edit', 'terms', 'branching', 'power', 'bundled', 'known', 'neurotransmitters', 'sodium', 'ideal', 'shows', 'spinal', 'organs', 'generation', 'development', 'excitable', 'png', 'exceptions', 'due', 'classification', 'enclosed', 'loving', 'diminishing', 'shapes', 'chloride'}\n"
     ]
    }
   ],
   "source": [
    "\"\"\"using regular expressions\n",
    "Regexps are powerful but with great power ...\n",
    "Use VERY WISELY (the code can be harder to read, debug ...)\"\"\"\n",
    "\n",
    "import re\n",
    "clean_text = re.sub('[^a-z\\ \\']+', \" \", text2.lower())\n",
    "allwords = list(clean_text.split())\n",
    "words = set(allwords) #set is making them into separate words, repeated only once \n",
    "print(words)\n",
    "\n"
   ]
  },
  {
   "cell_type": "code",
   "execution_count": 50,
   "metadata": {},
   "outputs": [
    {
     "name": "stdout",
     "output_type": "stream",
     "text": [
      "7.0186170212765955 32.09441489361702\n"
     ]
    }
   ],
   "source": [
    "# FROM FEDERICO: \n",
    "\n",
    "\n",
    "import re # if you want to use regular expresions, then you HAVE to import RE!!!!!\n",
    "file = open('./resources/strings_example_2.txt') # this is now looking in the directory that I am and opens further down to find my file\n",
    "contents = file.read().lower() # we put everything in lower case at the same time as we extract it from the file\n",
    "file.close()\n",
    "\n",
    "# replaces anything that is not a lowercase letter, a space, or an apostrophe with a space:\n",
    "text3 = re.sub(r'[^a-z\\ \\']+', \" \", contents) # clean up text\n",
    "allwords = list(text3.split()) # Split the string at every space and create a list of each word\n",
    "words = set(allwords) # create a set from the list to avoid repetitions\n",
    "\n",
    "wordsdict = {} # initialise empty dictionary and variables\n",
    "avglength, sumavglength = 0, 0\n",
    "for word in words: #loop over each non-repeated word\n",
    "    count = contents.count(word) # count how many times it is repeated in contents with str.count()\n",
    "    wordsdict[str(word)] = count # Create a dictionary entry for the word with the word as key and count as value\n",
    "\n",
    "    avglength = avglength + len(word) # sum all word lengths\n",
    "    sumavglength = sumavglength + len(word)*count  # <--- Not sure if this is the way to do the weighted sum\n",
    "\n",
    "avglength = avglength/len(words) # get average length\n",
    "sumavglength = sumavglength/len(words)\n",
    "print(avglength, sumavglength)"
   ]
  },
  {
   "cell_type": "code",
   "execution_count": 51,
   "metadata": {},
   "outputs": [
    {
     "name": "stdout",
     "output_type": "stream",
     "text": [
      "please enter your first name:Loukia\n",
      "please enter your surname:katsou3ri\n",
      "l.katsouri@gatsby.co.uk\n"
     ]
    }
   ],
   "source": [
    "# QUESTION 7\n",
    "# modify this code to ensure that email addresses follow the following rules:\n",
    "    # a) all lower case\n",
    "    # b) takes the first letter of the first name and combines with with the whole last name\n",
    "    # c) it removes any extra spaces/unwanted characters\n",
    "    # d) it creates multiple email addresses for all the groups in groups_that_need_emails\n",
    "\n",
    "first_name = input('please enter your first name:').lower()\n",
    "first_name = re.sub('[^a-z]+', \"\", first_name) # Clean up input text to only keep lower case letters\n",
    "surname = input('please enter your surname:').lower()\n",
    "surname = re.sub('[^a-z]+', \"\", surname) # Clean up input text to only keep lower case letters\n",
    "\n",
    "groups_that_need_emails = ('pystarters', 'pyclub', 'UCL', 'SWC', 'gatsby')\n",
    "\n",
    "for group in groups_that_need_emails:\n",
    "    emailend = '@{}.co.uk'.format((str(group))) # create a string with the email end for this loop iteration\n",
    "\n",
    "email = first_name[0] + '.' + surname + emailend # in addition to using .format() you can concatenate strings using str1 + str2\n",
    "\n",
    "print(email) # this method is WRONG because it will only print the last one"
   ]
  },
  {
   "cell_type": "code",
   "execution_count": 52,
   "metadata": {},
   "outputs": [
    {
     "name": "stdout",
     "output_type": "stream",
     "text": [
      "please enter your first name:Loukia1\n",
      "please enter your surname:Kats7ouri\n",
      "l.katsouri@pystarters.co.uk\n",
      "l.katsouri@pyclub.co.uk\n",
      "l.katsouri@ucl.co.uk\n",
      "l.katsouri@swc.co.uk\n",
      "l.katsouri@gatsby.co.uk\n"
     ]
    }
   ],
   "source": [
    "#FROM TAs\n",
    "first_name = input('please enter your first name:')\n",
    "surname = input('please enter your surname:')\n",
    "first_name = ''.join([char for char in first_name if char.isalpha()]) #this will remove all the characters that are not letters\n",
    "surname = ''.join([char for char in surname if char.isalpha()]) #and then join them again together\n",
    "\n",
    "groups_that_need_emails =  ('pystarters', 'pyclub', 'UCL', 'SWC', 'gatsby')\n",
    "for group in groups_that_need_emails:\n",
    "    email = '{}.{}@{}.co.uk'.format(first_name[0], surname, group)\n",
    "    email = email.lower()\n",
    "    \"\"\"This has the advantage of doing all the elements at once (answers often\n",
    "    forgot the group)\"\"\"\n",
    "    print(email)"
   ]
  },
  {
   "cell_type": "markdown",
   "metadata": {},
   "source": [
    "# applied question, sorting file names, saving/moving files"
   ]
  },
  {
   "cell_type": "markdown",
   "metadata": {
    "collapsed": true
   },
   "source": [
    "EDW EMEINA\n",
    "\n",
    "\n",
    "QUESTION 8\n",
    "you have a folder of serial two photon microscope images ('/resources/tissue_vision_files/') containing many (empty) .tif images \n",
    "the image filenames are of the format mmddyyyy-hhmm-image_index-channel_number.tif\n",
    "a) generate a list of all the file names\n",
    "\n",
    "\n",
    "b) sort the lists in a human readable way \n",
    "    HINT: the file names are not zero-padded, which messes up the sorting\n",
    "c) separate images 100-200 into three separate lists, one for each channel\n",
    "    insert 'modified' into all file names: e.g. '02162018-1620-0_01_modified.tif'\n",
    "    do not include any files that end with .txt\n",
    "d) save these files to separate folders\n",
    "\n",
    "what do you think is wrong with these file names? what would you do to make them nicer?\n"
   ]
  },
  {
   "cell_type": "code",
   "execution_count": 53,
   "metadata": {},
   "outputs": [],
   "source": [
    "#EDW EMEINA\n",
    "\n",
    "\n",
    "# QUESTION 8\n",
    "# you have a folder of serial two photon microscope images ('/resources/tissue_vision_files/') containing many (empty) .tif images \n",
    "# the image filenames are of the format mmddyyyy-hhmm-image_index-channel_number.tif\n",
    "# a) generate a list of all the file names\n",
    "\n",
    "# b) sort the lists in a human readable way \n",
    "    # HINT: the file names are not zero-padded, which messes up the sorting\n",
    "# c) separate images 100-200 into three separate lists, one for each channel\n",
    "    # insert 'modified' into all file names: e.g. '02162018-1620-0_01_modified.tif'\n",
    "    # do not include any files that end with .txt\n",
    "# d) save these files to separate folders\n",
    "\n",
    "# what do you think is wrong with these file names? what would you do to make them nicer?\n",
    "\n",
    "import os #Operating system interface: this will interact with your environment, i.e. MacOS http://www.pythonforbeginners.com/os/pythons-os-module\n",
    "import natsort #this will sort them in the same way as a human being, i.e. file001, file002, etc.\n",
    "import shutil #this is for . copying and moving files\n",
    "\n",
    "source_folder = '/Users/loukia/Jupyter projects/week_1/assignments/resources/tissue_vision_files/'  # Amend as required\n",
    "\n",
    "file_names_list = os.listdir(source_folder) #\n",
    "file_names_list = [f for f in file_names_list if f.endswith('.tif')]\n",
    "human_sorted_list = natsort.natsorted(file_names_list)  # see also humansorted for reference\n",
    "\n",
    "start, end = 100, 200\n",
    "n_channels = 3\n",
    "\n",
    "\"\"\"\n",
    "def rename_file(src_filename):\n",
    "    date, time, rest = filename.split('-')\n",
    "    index, channel_with_extension = rest.split('_')\n",
    "    new_filename = '{}-{}-{}_{}'.format(date, time, str(index).zfill(4), channel_with_extension)\n",
    "\"\"\"\n",
    "\n",
    "for channel in range(n_channels):\n",
    "    channels_file_names = human_sorted_list[channel::n_channels]\n",
    "    desired_channel_file_names = channels_file_names[start:end]\n",
    "    \"\"\"The issue with these filenames is the lack of padding which prevents alphabetical sorting\n",
    "    To remedy this, one could use str.zfill to implement zero padding.\n",
    "    \n",
    "    to do it, uncomment the function above and insert the following line below:\n",
    "    desired_channel_file_names = [rename_file(f) for f in desired_channel_file_names]\n",
    "    \"\"\"\n",
    "    modified_channel_file_names = [f.replace('.tif', '_modified.tif') for f in desired_channel_file_names]\n",
    "    dest_folder = os.path.join(source_folder, 'channel_{}'.format(channel + 1))\n",
    "    \n",
    "    if not os.path.exists(dest_folder):\n",
    "        os.mkdir(dest_folder)\n",
    "    \n",
    "    for old_file_name, new_file_name in zip(desired_channel_file_names, modified_channel_file_names):\n",
    "        source_file_path = os.path.join(source_folder, old_file_name)\n",
    "        destination_file_path = os.path.join(dest_folder, new_file_name)\n",
    "        shutil.copyfile(source_file_path, destination_file_path)\n",
    "\n"
   ]
  },
  {
   "cell_type": "code",
   "execution_count": 54,
   "metadata": {},
   "outputs": [],
   "source": [
    "# BONUS QUESTION (but can be extremely useful for parsing non-standardised messy strings)\n",
    "# Read about regular expressions here: https://developers.google.com/edu/python/regular-expressions\n",
    "# do the baby names exercise on there\n"
   ]
  },
  {
   "cell_type": "code",
   "execution_count": 55,
   "metadata": {},
   "outputs": [
    {
     "data": {
      "text/plain": [
       "'/Users/loukia/Jupyter projects/week_1/assignments'"
      ]
     },
     "execution_count": 55,
     "metadata": {},
     "output_type": "execute_result"
    }
   ],
   "source": [
    "import os\n",
    "os.getcwd()   \n",
    "\n"
   ]
  },
  {
   "cell_type": "code",
   "execution_count": null,
   "metadata": {},
   "outputs": [],
   "source": []
  }
 ],
 "metadata": {
  "kernelspec": {
   "display_name": "Python 3",
   "language": "python",
   "name": "python3"
  },
  "language_info": {
   "codemirror_mode": {
    "name": "ipython",
    "version": 3
   },
   "file_extension": ".py",
   "mimetype": "text/x-python",
   "name": "python",
   "nbconvert_exporter": "python",
   "pygments_lexer": "ipython3",
   "version": "3.6.4"
  }
 },
 "nbformat": 4,
 "nbformat_minor": 2
}
