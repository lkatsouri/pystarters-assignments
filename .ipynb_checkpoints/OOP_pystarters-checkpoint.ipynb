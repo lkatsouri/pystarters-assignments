{
 "cells": [
  {
   "cell_type": "code",
   "execution_count": null,
   "metadata": {
    "collapsed": true
   },
   "outputs": [],
   "source": [
    "import numpy as np\n",
    "import matplotlib.pyplot as plt"
   ]
  },
  {
   "cell_type": "code",
   "execution_count": null,
   "metadata": {
    "collapsed": true
   },
   "outputs": [],
   "source": [
    "spike_times_in_samples = np.array(sorted(np.random.randint(0, 10000, 1000)))\n",
    "stimulus_onsets = np.arange(0, 9000, 500)"
   ]
  },
  {
   "cell_type": "markdown",
   "metadata": {},
   "source": [
    "QUESTION 1\n",
    "- you have been provided with:\n",
    "    - spike times from your entire recording 'spike_times_in_samples'\n",
    "    - stimulus onsets\n",
    "    \n",
    "- each stimulus lasts 200 samples\n",
    "- write some code without using any object oriented approaches that gets and plots the number of spikes for each stimulus and the average n_spikes of all stimuli"
   ]
  },
  {
   "cell_type": "code",
   "execution_count": null,
   "metadata": {
    "collapsed": true
   },
   "outputs": [],
   "source": []
  },
  {
   "cell_type": "code",
   "execution_count": null,
   "metadata": {
    "collapsed": true
   },
   "outputs": [],
   "source": []
  },
  {
   "cell_type": "code",
   "execution_count": null,
   "metadata": {
    "collapsed": true
   },
   "outputs": [],
   "source": []
  },
  {
   "cell_type": "code",
   "execution_count": null,
   "metadata": {
    "collapsed": true
   },
   "outputs": [],
   "source": []
  },
  {
   "cell_type": "markdown",
   "metadata": {},
   "source": [
    "QUESTION 2\n",
    "\n",
    "- oh no you forgot something important (classic)\n",
    "- you actually had two types of stimulus and you really, really need to handle them differently\n",
    "- modify your code so that it can handle both visual and auditory stimuli\n",
    "    - visual stimuli have a duration of 300 samples\n",
    "    - auditory stimuli have a duration of 200 samples\n",
    "    - plot the results for the two different stimuli types on different plots, give each type of stimulus a different color"
   ]
  },
  {
   "cell_type": "code",
   "execution_count": null,
   "metadata": {
    "collapsed": true
   },
   "outputs": [],
   "source": [
    "stimulus_types = np.random.choice(['visual', 'auditory'], len(stimulus_onsets), replace=True)"
   ]
  },
  {
   "cell_type": "code",
   "execution_count": null,
   "metadata": {
    "collapsed": true
   },
   "outputs": [],
   "source": []
  },
  {
   "cell_type": "code",
   "execution_count": null,
   "metadata": {
    "collapsed": true
   },
   "outputs": [],
   "source": []
  },
  {
   "cell_type": "code",
   "execution_count": null,
   "metadata": {
    "collapsed": true
   },
   "outputs": [],
   "source": []
  },
  {
   "cell_type": "markdown",
   "metadata": {},
   "source": [
    "QUESTION 3\n",
    "\n",
    "- oh no you forgot something important (classic)\n",
    "- you actually only want consider stimuli if they have a baseline rate > 5 if they are visual, or < than 5 if they are auditory \n",
    "- baseline is the first 50ms for visual stimuli, and 100ms for auditory stimuli\n",
    "- modify your code so that it can handle this (i.e. only plot stimuli if they fulfil the baseline criteria\n",
    "- if you are already sick of this approach then skip to the next part"
   ]
  },
  {
   "cell_type": "code",
   "execution_count": null,
   "metadata": {
    "collapsed": true
   },
   "outputs": [],
   "source": []
  },
  {
   "cell_type": "code",
   "execution_count": null,
   "metadata": {
    "collapsed": true
   },
   "outputs": [],
   "source": []
  },
  {
   "cell_type": "code",
   "execution_count": null,
   "metadata": {
    "collapsed": true
   },
   "outputs": [],
   "source": []
  },
  {
   "cell_type": "code",
   "execution_count": null,
   "metadata": {
    "collapsed": true
   },
   "outputs": [],
   "source": []
  },
  {
   "cell_type": "markdown",
   "metadata": {},
   "source": [
    "QUESTION 4\n",
    "\n",
    "- re-implement this using an OO approach\n",
    "    - create a class called Stimulus that captures some of the complexity of your program\n",
    "    - plot the number of events in each stimulus in a different color\n",
    "    - implement a built-in/magic method to enable you to sort your stimuli in terms of the number of events/spikes in them from low to high\n",
    "    - how many spikes occur in the stimulus with the most events\n",
    "    - if you feel motivated you could make sub-classes for VisualStimulus and AuditoryStimulus. "
   ]
  },
  {
   "cell_type": "code",
   "execution_count": null,
   "metadata": {
    "collapsed": true
   },
   "outputs": [],
   "source": []
  },
  {
   "cell_type": "code",
   "execution_count": null,
   "metadata": {
    "collapsed": true
   },
   "outputs": [],
   "source": []
  },
  {
   "cell_type": "code",
   "execution_count": null,
   "metadata": {
    "collapsed": true
   },
   "outputs": [],
   "source": []
  },
  {
   "cell_type": "code",
   "execution_count": null,
   "metadata": {
    "collapsed": true
   },
   "outputs": [],
   "source": []
  },
  {
   "cell_type": "code",
   "execution_count": null,
   "metadata": {
    "collapsed": true
   },
   "outputs": [],
   "source": []
  },
  {
   "cell_type": "markdown",
   "metadata": {},
   "source": [
    "QUESTION 5\n",
    "\n",
    "read this: https://medium.freecodecamp.org/object-oriented-programming-concepts-21bb035f7260\n",
    "\n",
    "and this!: https://codefellows.github.io/sea-python-401d4/lectures/inheritance_v_composition.html\n",
    "\n",
    "- try to apply some of the concepts to your OO code\n"
   ]
  },
  {
   "cell_type": "code",
   "execution_count": null,
   "metadata": {
    "collapsed": true
   },
   "outputs": [],
   "source": []
  }
 ],
 "metadata": {
  "kernelspec": {
   "display_name": "Python 3",
   "language": "python",
   "name": "python3"
  },
  "language_info": {
   "codemirror_mode": {
    "name": "ipython",
    "version": 3
   },
   "file_extension": ".py",
   "mimetype": "text/x-python",
   "name": "python",
   "nbconvert_exporter": "python",
   "pygments_lexer": "ipython3",
   "version": "3.5.5"
  }
 },
 "nbformat": 4,
 "nbformat_minor": 2
}
